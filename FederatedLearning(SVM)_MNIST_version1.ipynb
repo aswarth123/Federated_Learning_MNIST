{
  "nbformat": 4,
  "nbformat_minor": 0,
  "metadata": {
    "colab": {
      "name": "FederatedLearning(SVM)_MNIST_version1.ipynb",
      "provenance": [],
      "collapsed_sections": [],
      "include_colab_link": true
    },
    "kernelspec": {
      "display_name": "Python 3",
      "name": "python3"
    },
    "language_info": {
      "name": "python"
    }
  },
  "cells": [
    {
      "cell_type": "markdown",
      "metadata": {
        "id": "view-in-github",
        "colab_type": "text"
      },
      "source": [
        "<a href=\"https://colab.research.google.com/github/aswarth123/Federated_Learning_MNIST/blob/main/FederatedLearning(SVM)_MNIST_version1.ipynb\" target=\"_parent\"><img src=\"https://colab.research.google.com/assets/colab-badge.svg\" alt=\"Open In Colab\"/></a>"
      ]
    },
    {
      "cell_type": "code",
      "metadata": {
        "id": "XFbvzhVst7mi"
      },
      "source": [
        "import numpy as np\n",
        "import random\n",
        "import copy\n",
        "from sklearn.metrics import accuracy_score\n",
        "from sklearn.model_selection import train_test_split\n",
        "from sklearn.cluster import KMeans\n",
        "import tensorflow as tf\n",
        "import matplotlib.pyplot as plt"
      ],
      "execution_count": null,
      "outputs": []
    },
    {
      "cell_type": "markdown",
      "metadata": {
        "id": "1N1DL77-ofb9"
      },
      "source": [
        "# SVM"
      ]
    },
    {
      "cell_type": "code",
      "metadata": {
        "id": "U2b8dHySEYuu"
      },
      "source": [
        "class SVM:\n",
        "\n",
        "  def __init__(self, X_train, y_train, X_test, y_test, val=True, val_type='k_fold', val_distribution='balanced', k=5, learning_rate=0.001, lambda_param=0.01, n_iters=1000):\n",
        "\n",
        "    self.lr = learning_rate\n",
        "    self.lambda_param = lambda_param\n",
        "    self.n_iters = n_iters\n",
        "\n",
        "    self.X_train = X_train\n",
        "    self.y_train = y_train\n",
        "\n",
        "    self.X_test = X_test\n",
        "    self.y_test = y_test\n",
        "\n",
        "    self.val_distribution = val_distribution\n",
        "    self.val = val\n",
        "    self.val_type=val_type\n",
        "    self.val_distribution=val_distribution\n",
        "    self.k=k\n",
        "\n",
        "    self.w = np.array([])\n",
        "    self.b = None\n",
        "\n",
        "\n",
        "  def Gradient_update(self, X_train, y_train, X_val=None, y_val=None):\n",
        "\n",
        "    n_samples, n_features = X_train.shape  \n",
        "    y_ = np.where(y_train <= 0, -1, 1)\n",
        "          \n",
        "    if self.w.size == 0 and self.b is None :\n",
        "      self.w = np.zeros(n_features)\n",
        "      self.b = 0\n",
        "\n",
        "    w_best = np.zeros(n_features)\n",
        "    b_best = 0\n",
        "\n",
        "    acc_list = [] \n",
        "    for i in range(0,self.n_iters):\n",
        "      for idx, x_i in enumerate(X_train):\n",
        "        condition = y_[idx] * (np.dot(x_i, self.w) - self.b) >= 1\n",
        "        if condition:\n",
        "          self.w -= self.lr * (2 * self.lambda_param * self.w)\n",
        "        else:\n",
        "          self.w -= self.lr * (2 * self.lambda_param * self.w - np.dot(x_i, y_[idx]))\n",
        "          self.b -= self.lr * y_[idx]\n",
        "\n",
        "      if i%10 == 0 and self.val:\n",
        "        approx_w = np.dot(X_val, self.w) - self.b\n",
        "        approx_w = np.sign(approx_w)\n",
        "        res_w = np.where(approx_w<0, 0, approx_w)\n",
        "\n",
        "        approx_w_best = np.dot(X_val, w_best) - b_best\n",
        "        approx_w_best = np.sign(approx_w_best)\n",
        "        res_w_best = np.where(approx_w_best<0, 0, approx_w_best)\n",
        "          \n",
        "        if (accuracy_score(y_val, res_w_best) < accuracy_score(y_val, res_w)):\n",
        "          w_best = copy.deepcopy(self.w)\n",
        "          b_best = copy.deepcopy(self.b)\n",
        "        else:  \n",
        "          self.w = copy.deepcopy(w_best)\n",
        "          self.b = copy.deepcopy(b_best)  \n",
        "          break\n",
        "\n",
        "  def Cross_validation(self, val_split):\n",
        "\n",
        "    if (self.val_distribution == 'balanced'):\n",
        "      X_train0, X_val0, y_train0, y_val0 = train_test_split(self.X_train[0], self.y_train[0], test_size=val_split)\n",
        "      X_train1, X_val1, y_train1, y_val1 = train_test_split(self.X_train[1], self.y_train[1], test_size=val_split)\n",
        "\n",
        "      X_train = np.concatenate((X_train0,X_train1),axis=0)\n",
        "      y_train = np.concatenate((y_train0,y_train1),axis=0)\n",
        "\n",
        "      X_val = np.concatenate((X_val0,X_val1),axis=0)\n",
        "      y_val = np.concatenate((y_val0,y_val1),axis=0)\n",
        "\n",
        "    elif (self.val_distribution == 'unbalanced'):\n",
        "      X_train = np.concatenate((self.X_train[0],self.X_train[1]),axis=0)\n",
        "      y_train = np.concatenate((self.y_train[0],self.y_train[1]),axis=0)\n",
        "\n",
        "      X_train, X_val, y_train, y_val = train_test_split(X_train, y_train, test_size=val_split)\n",
        "\n",
        "    X_train, y_train = self.random_shuffle(X_train, y_train)\n",
        "    self.Gradient_update(X_train, y_train, X_val, y_val)\n",
        "\n",
        "  def k_fold_cross_validation(self):\n",
        "\n",
        "    if (self.val_distribution == 'unbalanced'):\n",
        "      X_train = np.concatenate((self.X_train[0],self.X_train[1]),axis=0)\n",
        "      y_train = np.concatenate((self.y_train[0],self.y_train[1]),axis=0)\n",
        "\n",
        "      X_train_, X_train0, y_train_, y_train0 = train_test_split(X_train, y_train, test_size=round(1/self.k,2), shuffle=True)\n",
        "\n",
        "      X_train = []\n",
        "      y_train = []\n",
        "\n",
        "      X_train.append(copy.deepcopy(X_train0))\n",
        "      y_train.append(copy.deepcopy(y_train0))\n",
        "      k = self.k - 1\n",
        "\n",
        "      X_train0 = np.array_split(X_train_,k)\n",
        "      y_train0 = np.array_split(y_train_,k)\n",
        "\n",
        "      for i in range(k):\n",
        "        X_train.append(X_train0[i])\n",
        "        y_train.append(y_train0[i])\n",
        "\n",
        "    elif (self.val_distribution == 'balanced'):\n",
        "      X_train0 = np.array_split(self.X_train[0],self.k)\n",
        "      X_train1 = np.array_split(self.X_train[1],self.k)\n",
        "      y_train0 = np.array_split(self.y_train[0],self.k)\n",
        "      y_train1 = np.array_split(self.y_train[1],self.k)\n",
        "      X_train = []\n",
        "      y_train = []\n",
        "      for i in range(self.k):\n",
        "        X_train.append(np.concatenate((X_train0[i],X_train1[i]),axis=0))\n",
        "        y_train.append(np.concatenate((y_train0[i],y_train1[i]),axis=0))\n",
        "\n",
        "    if self.w.size == 0 and self.b == None:\n",
        "      w = np.zeros(self.X_train[0].shape[1])\n",
        "      b = 0\n",
        "    else:\n",
        "      w = copy.deepcopy(self.w)\n",
        "      b = self.b\n",
        "\n",
        "    w_list = []\n",
        "    b_list = []\n",
        "    acc_list = []\n",
        "    for i in range(self.k):\n",
        "      X_train_temp = np.zeros((1,X_train[0].shape[1]))\n",
        "      y_train_temp = np.array([])\n",
        "\n",
        "      for j in range(self.k):\n",
        "        if (j!=i):\n",
        "          X_train_temp = np.concatenate((X_train_temp,X_train[j]),axis=0)\n",
        "          y_train_temp = np.concatenate((y_train_temp,y_train[j]),axis=0)\n",
        "        else:\n",
        "          X_val = X_train[j]\n",
        "          y_val = y_train[j]\n",
        "\n",
        "\n",
        "      X_train_temp = np.delete(X_train_temp,0,0)\n",
        "      X_train_temp, y_train_temp = self.random_shuffle(X_train_temp, y_train_temp)\n",
        "      self.Gradient_update(X_train_temp, y_train_temp, X_val, y_val)\n",
        "      print(self.accuracy())\n",
        "      w_list.append(self.w)\n",
        "      b_list.append(self.b)\n",
        "\n",
        "      test_w = np.dot(X_val, self.w) - self.b\n",
        "      test_w = np.sign(test_w)\n",
        "      res_val = np.where(test_w<0,0,test_w)\n",
        "\n",
        "      acc_list.append(accuracy_score(y_val, res_val))\n",
        "    \n",
        "      self.w = copy.deepcopy(w)\n",
        "      self.b = b\n",
        "\n",
        "    self.w = copy.deepcopy(w_list[acc_list.index(max(acc_list))])\n",
        "    self.b = b_list[acc_list.index(max(acc_list))]\n",
        "  \n",
        "\n",
        "  def fit(self):\n",
        "    if self.val_type == 'k_fold' and self.val:\n",
        "      self.k_fold_cross_validation()\n",
        "    \n",
        "    elif self.val_type == 'cross_val' and self.val:\n",
        "      self.Cross_validation(0.2)\n",
        "    \n",
        "    elif not self.val:\n",
        "      X_train = np.concatenate((self.X_train[0],self.X_train[1]),axis=0)\n",
        "      y_train = np.concatenate((self.y_train[0],self.y_train[1]),axis=0)\n",
        "      X_train, y_train = self.random_shuffle(X_train, y_train)\n",
        "      self.Gradient_update(X_train, y_train)\n",
        "\n",
        "  def random_shuffle(self, X_train, y_train):\n",
        "    self.x_tr, self.x_te, self.y_tr, self.y_te = train_test_split(X_train,y_train,test_size=0.5)\n",
        "    return np.concatenate((self.x_tr, self.x_te),axis=0), np.concatenate((self.y_tr, self.y_te),axis=0)\n",
        "\n",
        "  def predict(self):\n",
        "     approx = np.dot(self.X_test, self.w) - self.b\n",
        "     approx = np.sign(approx)\n",
        "     return np.where(approx<0, 0, approx)\n",
        "\n",
        "  def accuracy(self):\n",
        "    return accuracy_score(self.y_test, self.predict())*100\n"
      ],
      "execution_count": null,
      "outputs": []
    },
    {
      "cell_type": "markdown",
      "metadata": {
        "id": "Y7kVb4xuolc3"
      },
      "source": [
        "# FL SVM"
      ]
    },
    {
      "cell_type": "code",
      "metadata": {
        "id": "Ss0Pq4z-vrBI"
      },
      "source": [
        "class Federated_SVM:\n",
        "\n",
        "  def __init__(self, n_clients=4, val=True, val_type='k_fold', val_distribution='balanced', k=5, learning_rate=0.001, lambda_param=0.01, n_iters=100):\n",
        "    self.n_clients = n_clients\n",
        "    self.learning_rate = learning_rate\n",
        "    self.lambda_param = lambda_param\n",
        "    self.n_iters = n_iters\n",
        "    self.val = val\n",
        "    self.val_type = val_type\n",
        "    self.val_distribution = val_distribution\n",
        "    self.client_distribution = []\n",
        "    self.k = k\n",
        "    self.X_test = None\n",
        "    self.y_test = None\n",
        "    self.noise = None\n",
        "    \n",
        "  def create_clients(self, X_train, y_train, X_test, y_test):\n",
        "    self.clients=[]\n",
        "    for i in range(self.n_clients):\n",
        "      self.client_distribution.append(X_train[i][0].shape[0] + X_train[i][1].shape[0])\n",
        "      self.clients.append(SVM(X_train[i],y_train[i], X_test, y_test, self.val, self.val_type, self.val_distribution, self.k, self.learning_rate, self.lambda_param, self.n_iters))\n",
        "    self.X_test = copy.deepcopy(X_test)\n",
        "    self.y_test = copy.deepcopy(y_test)\n",
        "  \n",
        "\n",
        "  def average_aggregator(self, parameter_list):\n",
        "    w = np.zeros(parameter_list[0].shape[0])\n",
        "    b = 0\n",
        "    for i in range(0,2*self.n_clients,2):\n",
        "        w = np.add(w,parameter_list[i]*self.client_distribution[i//2]/sum(self.client_distribution))\n",
        "        b = b + parameter_list[i+1]\n",
        "    return (w, b/self.n_clients)\n",
        "\n",
        "  def fit(self, g_iters, aggregator):\n",
        "    w_best = np.zeros(self.X_test.shape[1])\n",
        "    b_best = 0\n",
        "    for i in range(0,g_iters):\n",
        "      print('global round',i+1)\n",
        "      for j in range(0,self.n_clients):\n",
        "        if i==0:\n",
        "          self.clients[j].fit()\n",
        "        else:\n",
        "          self.clients[j].w = copy.deepcopy(w_agg) \n",
        "          self.clients[j].b = copy.deepcopy(b_agg)\n",
        "          self.clients[j].fit()\n",
        "        print('client',j+1,self.clients[j].accuracy())          \n",
        "      parameter_list = []\n",
        "      for k in range(0,self.n_clients):\n",
        "        parameter_list.append(self.clients[k].w)\n",
        "        parameter_list.append(self.clients[k].b)\n",
        "\n",
        "      w_agg, b_agg = aggregator(parameter_list)  \n",
        "        \n",
        "      if self.accuracy(w_agg,b_agg)>self.accuracy(w_best,b_best) or i==0:\n",
        "        w_best=copy.deepcopy(w_agg)\n",
        "        b_best=copy.deepcopy(b_agg)\n",
        "      print('global test acc',self.accuracy(w_best,b_best))\n",
        "\n",
        "  def predict(self,w,b):\n",
        "     approx = np.dot(self.X_test, w) - b\n",
        "     approx = np.sign(approx)\n",
        "     return np.where(approx<0, 0, 1)\n",
        "  \n",
        "  def accuracy(self,w,b):\n",
        "    return accuracy_score(self.y_test, self.predict(w,b))*100\n"
      ],
      "execution_count": null,
      "outputs": []
    },
    {
      "cell_type": "markdown",
      "metadata": {
        "id": "3Wee65tdot6t"
      },
      "source": [
        "# Utility Functions"
      ]
    },
    {
      "cell_type": "code",
      "metadata": {
        "id": "9IpgJxRdotAE"
      },
      "source": [
        "def get_clients(class1, class2, n_clients = 3):\n",
        "\n",
        "  clients_X = []\n",
        "  clients_y = []\n",
        "\n",
        "  clientsXtest = []\n",
        "  clientsYtest = []\n",
        "\n",
        "  clusters_1 = KMeans(n_clusters=n_clients, random_state=0).fit_predict(class1)\n",
        "  clusters_2 = KMeans(n_clusters=n_clients, random_state=0).fit_predict(class2)\n",
        "\n",
        "  for i in range(n_clients):\n",
        "\n",
        "    X_train0, X_test0, y_train0, y_test0 = train_test_split(class1[clusters_1 == i],np.zeros((class1[clusters_1 == i].shape[0],)),test_size=0.2)\n",
        "    X_train1, X_test1, y_train1, y_test1 = train_test_split(class2[clusters_2 == i],np.ones((class2[clusters_2 == i].shape[0],)),test_size=0.2)\n",
        "\n",
        "    clients_X.append([X_train0, X_train1])\n",
        "    clients_y.append([y_train0, y_train1])\n",
        "\n",
        "    clientsXtest.extend([X_test0,X_test1])\n",
        "    clientsYtest.extend([y_test0,y_test1])\n",
        "\n",
        "  X_test = np.concatenate(clientsXtest,axis=0)\n",
        "  y_test = np.concatenate(clientsYtest,axis=0)\n",
        "\n",
        "  return clients_X,clients_y,X_test,y_test"
      ],
      "execution_count": null,
      "outputs": []
    },
    {
      "cell_type": "code",
      "metadata": {
        "id": "5m0JEVYeo70c"
      },
      "source": [
        "def get_total_from_clients(clients_X,clients_y):\n",
        "  x_train0 = [i[0] for i in clients_X]\n",
        "  x_train0 = np.concatenate(x_train0, axis=0)\n",
        "  x_train1 = [i[1] for i in clients_X]\n",
        "  x_train1 = np.concatenate(x_train1, axis=0)\n",
        "  y_train0 = [i[0] for i in clients_y]\n",
        "  y_train0 = np.concatenate(y_train0, axis=0)\n",
        "  y_train1 = [i[1] for i in clients_y]\n",
        "  y_train1 = np.concatenate(y_train1, axis=0)\n",
        "\n",
        "  return ([x_train0,x_train1],[y_train0,y_train1])    "
      ],
      "execution_count": null,
      "outputs": []
    },
    {
      "cell_type": "code",
      "metadata": {
        "id": "nzD8VkRKszE_"
      },
      "source": [
        "def create_kmeans_clusters(X, Y, n_clusters = 3, random_state = 0):\n",
        "  clusters = KMeans(n_clusters=n_clusters, random_state=random_state).fit_predict(X)\n",
        "  result = []\n",
        "  for i in range(n_clusters):\n",
        "    result.append(X[clusters == i])\n",
        "    result.append(Y[clusters == i])\n",
        "  return tuple(result)  "
      ],
      "execution_count": null,
      "outputs": []
    },
    {
      "cell_type": "code",
      "metadata": {
        "id": "6zQ6k0OHKCkr"
      },
      "source": [
        "def load_mnist_return_required_digits(n1, n2):\n",
        "  # Loading the mnist dataset and concatenating train - test sets\n",
        "  (x_train, y_train), (x_test, y_test) = tf.keras.datasets.mnist.load_data()\n",
        "  x_total = np.concatenate((x_train, x_test), axis=0)\n",
        "  y_total = np.concatenate((y_train, y_test), axis=0)\n",
        "\n",
        "  # Normalizing and reshaping the data\n",
        "  x_total = x_total/255 \n",
        "  x_total = x_total.reshape(x_total.shape[0],784)\n",
        "\n",
        "  x_n1 = x_total[y_total == n1]\n",
        "  y_n1 = y_total[y_total == n1]\n",
        "\n",
        "  x_n2 = x_total[y_total == n2]\n",
        "  y_n2 = y_total[y_total == n2]\n",
        "\n",
        "  return [(x_n1, y_n1),(x_n2, y_n2)]"
      ],
      "execution_count": null,
      "outputs": []
    },
    {
      "cell_type": "markdown",
      "metadata": {
        "id": "3ZYTCp6khPHN"
      },
      "source": [
        "# Digits 0 and 6"
      ]
    },
    {
      "cell_type": "markdown",
      "metadata": {
        "id": "SSMoNotAhz8A"
      },
      "source": [
        "### Loading the data of 0 and 6"
      ]
    },
    {
      "cell_type": "code",
      "metadata": {
        "id": "tV5qcnb_MM3v",
        "colab": {
          "base_uri": "https://localhost:8080/"
        },
        "outputId": "dc626b17-09e2-49e8-ef39-c181802e1129"
      },
      "source": [
        "data = load_mnist_return_required_digits(0, 6)"
      ],
      "execution_count": null,
      "outputs": [
        {
          "output_type": "stream",
          "name": "stdout",
          "text": [
            "Downloading data from https://storage.googleapis.com/tensorflow/tf-keras-datasets/mnist.npz\n",
            "11493376/11490434 [==============================] - 0s 0us/step\n",
            "11501568/11490434 [==============================] - 0s 0us/step\n"
          ]
        }
      ]
    },
    {
      "cell_type": "markdown",
      "metadata": {
        "id": "hsFsh5QIiJRc"
      },
      "source": [
        "### Dividing the data of digits 0 and 6 into clusters using the KMeans algorithm\n",
        "The images of 0 and 6 are divided into 3 three clusters each."
      ]
    },
    {
      "cell_type": "code",
      "metadata": {
        "colab": {
          "base_uri": "https://localhost:8080/",
          "height": 179
        },
        "id": "tYP43OPf8zpF",
        "outputId": "2140fb79-bcd7-4044-b7c3-3d1836e9b002"
      },
      "source": [
        "x_0_c1, y_0_c1, x_0_c2, y_0_c2, x_0_c3, y_0_c3 = create_kmeans_clusters(data[0][0], data[0][1])\n",
        "fig, axs = plt.subplots(1, 3)\n",
        "axs[0].imshow(x_0_c1[0].reshape(28,28),cmap='gray')\n",
        "axs[0].set_title('Cluster 1')\n",
        "axs[1].imshow(x_0_c2[0].reshape(28,28),cmap='gray')\n",
        "axs[1].set_title('Cluster 2')\n",
        "axs[2].imshow(x_0_c3[0].reshape(28,28),cmap='gray')\n",
        "axs[2].set_title('Cluster 3')"
      ],
      "execution_count": null,
      "outputs": [
        {
          "output_type": "execute_result",
          "data": {
            "text/plain": [
              "Text(0.5, 1.0, 'Cluster 3')"
            ]
          },
          "metadata": {},
          "execution_count": 9
        },
        {
          "output_type": "display_data",
          "data": {
            "image/png": "[encoded data removed]",
            "text/plain": [
              "<Figure size 432x288 with 3 Axes>"
            ]
          },
          "metadata": {
            "needs_background": "light"
          }
        }
      ]
    },
    {
      "cell_type": "code",
      "metadata": {
        "colab": {
          "base_uri": "https://localhost:8080/",
          "height": 179
        },
        "id": "n7ZcxVxK8ezZ",
        "outputId": "cb6fdc48-8409-433d-9500-a606a67086ff"
      },
      "source": [
        "x_6_c1, y_6_c1, x_6_c2, y_6_c2, x_6_c3, y_6_c3 = create_kmeans_clusters(data[1][0], data[1][1])\n",
        "fig, axs = plt.subplots(1, 3)\n",
        "axs[0].imshow(x_6_c1[0].reshape(28,28),cmap='gray')\n",
        "axs[0].set_title('Cluster 1')\n",
        "axs[1].imshow(x_6_c2[0].reshape(28,28),cmap='gray')\n",
        "axs[1].set_title('Cluster 2')\n",
        "axs[2].imshow(x_6_c3[0].reshape(28,28),cmap='gray')\n",
        "axs[2].set_title('Cluster 3')"
      ],
      "execution_count": null,
      "outputs": [
        {
          "output_type": "execute_result",
          "data": {
            "text/plain": [
              "Text(0.5, 1.0, 'Cluster 3')"
            ]
          },
          "metadata": {},
          "execution_count": 10
        },
        {
          "output_type": "display_data",
          "data": {
            "image/png": "[encoded data removed]",
            "text/plain": [
              "<Figure size 432x288 with 3 Axes>"
            ]
          },
          "metadata": {
            "needs_background": "light"
          }
        }
      ]
    },
    {
      "cell_type": "markdown",
      "metadata": {
        "id": "VxJzKmEnj-RY"
      },
      "source": [
        "### Creation of individual train sets for the clients, global train set for the SVM model and a global test set containing the data from all the clusters\n",
        "\n"
      ]
    },
    {
      "cell_type": "code",
      "metadata": {
        "id": "2enNW-8HqSaG"
      },
      "source": [
        "clients_X,clients_y,X_test,y_test = get_clients(data[0][0], data[1][0], n_clients = 3)"
      ],
      "execution_count": null,
      "outputs": []
    },
    {
      "cell_type": "code",
      "metadata": {
        "id": "MvIRE2SiqfHX"
      },
      "source": [
        "xtrain_gl, ytrain_gl = get_total_from_clients(clients_X,clients_y)"
      ],
      "execution_count": null,
      "outputs": []
    },
    {
      "cell_type": "markdown",
      "metadata": {
        "id": "mqQTKxHflCp0"
      },
      "source": [
        "### Federated learning model and SVM model training"
      ]
    },
    {
      "cell_type": "markdown",
      "metadata": {
        "id": "2jvLMI4HmJul"
      },
      "source": [
        "#### Training the models without validation"
      ]
    },
    {
      "cell_type": "code",
      "metadata": {
        "id": "ul3Xy7F_0dRg"
      },
      "source": [
        "f_svm = Federated_SVM(n_clients = 3, val=False, n_iters=150)\n",
        "f_svm.create_clients(clients_X,clients_y,X_test,y_test)"
      ],
      "execution_count": null,
      "outputs": []
    },
    {
      "cell_type": "code",
      "metadata": {
        "colab": {
          "base_uri": "https://localhost:8080/"
        },
        "id": "fDyoq_ak0h5j",
        "outputId": "a78731fb-eb32-4206-f6d0-7e6f8b1e43d7"
      },
      "source": [
        "clf = SVM(xtrain_gl, ytrain_gl, X_test, y_test, val=False, n_iters=1000)\n",
        "clf.fit()\n",
        "print(clf.accuracy())"
      ],
      "execution_count": null,
      "outputs": [
        {
          "output_type": "stream",
          "name": "stdout",
          "text": [
            "99.23857868020305\n"
          ]
        }
      ]
    },
    {
      "cell_type": "code",
      "metadata": {
        "colab": {
          "base_uri": "https://localhost:8080/"
        },
        "id": "wlXg4bnQ0lgf",
        "outputId": "ebbe9ba7-bf1f-4250-e257-72980b1254bb"
      },
      "source": [
        "f_svm.fit(10,f_svm.average_aggregator)"
      ],
      "execution_count": null,
      "outputs": [
        {
          "output_type": "stream",
          "name": "stdout",
          "text": [
            "global round 1\n",
            "client 1 91.95068890500363\n",
            "client 2 92.5670775924583\n",
            "client 3 93.32849891225526\n",
            "global test acc 97.7519941986947\n",
            "global round 2\n",
            "client 1 92.27701232777375\n",
            "client 2 91.18926758520666\n",
            "client 3 93.25598259608412\n",
            "global test acc 97.7519941986947\n",
            "global round 3\n",
            "client 1 91.84191443074693\n",
            "client 2 90.82668600435098\n",
            "client 3 93.03843364757071\n",
            "global test acc 97.7519941986947\n",
            "global round 4\n",
            "client 1 91.55184916606235\n",
            "client 2 91.5155910079768\n",
            "client 3 94.23495286439449\n",
            "global test acc 97.7519941986947\n",
            "global round 5\n",
            "client 1 90.75416968817984\n",
            "client 2 90.86294416243655\n",
            "client 3 92.31327048585932\n",
            "global test acc 97.7519941986947\n",
            "global round 6\n",
            "client 1 92.05946337926034\n",
            "client 2 90.97171863669325\n",
            "client 3 92.53081943437273\n",
            "global test acc 97.7519941986947\n",
            "global round 7\n",
            "client 1 90.17403915881074\n",
            "client 2 90.75416968817984\n",
            "client 3 92.82088469905729\n",
            "global test acc 97.7519941986947\n",
            "global round 8\n",
            "client 1 91.91443074691806\n",
            "client 2 90.28281363306743\n",
            "client 3 93.72733865119652\n",
            "global test acc 97.7519941986947\n",
            "global round 9\n",
            "client 1 91.9869470630892\n",
            "client 2 91.66062364031907\n",
            "client 3 92.49456127628717\n",
            "global test acc 97.7519941986947\n",
            "global round 10\n",
            "client 1 92.0957215373459\n",
            "client 2 90.13778100072516\n",
            "client 3 93.00217548948514\n",
            "global test acc 97.7519941986947\n"
          ]
        }
      ]
    },
    {
      "cell_type": "markdown",
      "metadata": {
        "id": "8NlvzgRcmkSB"
      },
      "source": [
        "#### Training the models with cross validation (balanced validation distribution)"
      ]
    },
    {
      "cell_type": "code",
      "metadata": {
        "id": "wZJwB5ARYsYq"
      },
      "source": [
        "f_svm = Federated_SVM(n_clients = 3, val=True, val_type='cross_val', val_distribution='balanced')\n",
        "f_svm.create_clients(clients_X,clients_y,X_test,y_test)\n",
        "clients = copy.deepcopy(f_svm.clients)"
      ],
      "execution_count": null,
      "outputs": []
    },
    {
      "cell_type": "code",
      "metadata": {
        "colab": {
          "base_uri": "https://localhost:8080/"
        },
        "id": "YruRJupkhrpv",
        "outputId": "ae2d7554-593b-4358-bd0b-0e7b64f6f452"
      },
      "source": [
        "clf = SVM(xtrain_gl, ytrain_gl, X_test, y_test, val=True, val_type='cross_val', val_distribution='balanced')\n",
        "clf.fit()\n",
        "print(clf.accuracy())"
      ],
      "execution_count": null,
      "outputs": [
        {
          "output_type": "stream",
          "name": "stdout",
          "text": [
            "99.12980420594634\n"
          ]
        }
      ]
    },
    {
      "cell_type": "code",
      "metadata": {
        "colab": {
          "base_uri": "https://localhost:8080/"
        },
        "id": "zUxmvy962UHi",
        "outputId": "70c12acf-86a7-45c0-9f6e-b3774ccf893d"
      },
      "source": [
        "f_svm.fit(10,f_svm.average_aggregator)"
      ],
      "execution_count": null,
      "outputs": [
        {
          "output_type": "stream",
          "name": "stdout",
          "text": [
            "global round 1\n",
            "client 1 91.04423495286439\n",
            "client 2 92.38578680203045\n",
            "client 3 93.72733865119652\n",
            "global test acc 97.96954314720813\n",
            "global round 2\n",
            "client 1 97.13560551124003\n",
            "client 2 97.35315445975344\n",
            "client 3 96.7005076142132\n",
            "global test acc 98.5859318346628\n",
            "global round 3\n",
            "client 1 93.58230601885424\n",
            "client 2 93.90862944162437\n",
            "client 3 96.7005076142132\n",
            "global test acc 98.5859318346628\n",
            "global round 4\n",
            "client 1 93.61856417693981\n",
            "client 2 97.60696156635244\n",
            "client 3 94.77882523567803\n",
            "global test acc 98.5859318346628\n",
            "global round 5\n",
            "client 1 97.13560551124003\n",
            "client 2 97.82451051486585\n",
            "client 3 96.99057287889775\n",
            "global test acc 98.65844815083393\n",
            "global round 6\n",
            "client 1 91.80565627266135\n",
            "client 2 97.89702683103698\n",
            "client 3 95.25018129079042\n",
            "global test acc 98.65844815083393\n",
            "global round 7\n",
            "client 1 97.38941261783901\n",
            "client 2 98.00580130529369\n",
            "client 3 95.54024655547498\n",
            "global test acc 98.65844815083393\n",
            "global round 8\n",
            "client 1 92.78462654097171\n",
            "client 2 98.18709209572154\n",
            "client 3 96.84554024655547\n",
            "global test acc 98.6947063089195\n",
            "global round 9\n",
            "client 1 93.58230601885424\n",
            "client 2 98.25960841189267\n",
            "client 3 94.48875997099347\n",
            "global test acc 98.6947063089195\n",
            "global round 10\n",
            "client 1 97.24437998549674\n",
            "client 2 98.00580130529369\n",
            "client 3 94.99637418419144\n",
            "global test acc 98.6947063089195\n"
          ]
        }
      ]
    },
    {
      "cell_type": "markdown",
      "metadata": {
        "id": "YQdJmUOGmtMk"
      },
      "source": [
        "#### Training the models with cross validation (unbalanced validation distribution)"
      ]
    },
    {
      "cell_type": "code",
      "metadata": {
        "id": "T5RYbKyg2EkT"
      },
      "source": [
        "f_svm = Federated_SVM(n_clients = 3, val=True, val_type='cross_val', val_distribution='unbalanced')\n",
        "f_svm.create_clients(clients_X,clients_y,X_test,y_test)\n",
        "clients = copy.deepcopy(f_svm.clients)"
      ],
      "execution_count": null,
      "outputs": []
    },
    {
      "cell_type": "code",
      "metadata": {
        "colab": {
          "base_uri": "https://localhost:8080/"
        },
        "id": "2Fp2HSHp2EwP",
        "outputId": "8b943558-c627-443e-d8cf-cacba92f4a76"
      },
      "source": [
        "clf = SVM(xtrain_gl, ytrain_gl, X_test, y_test, val=True, val_type='cross_val', val_distribution='unbalanced')\n",
        "clf.fit()\n",
        "print(clf.accuracy())"
      ],
      "execution_count": null,
      "outputs": [
        {
          "output_type": "stream",
          "name": "stdout",
          "text": [
            "99.20232052211747\n"
          ]
        }
      ]
    },
    {
      "cell_type": "code",
      "metadata": {
        "colab": {
          "base_uri": "https://localhost:8080/"
        },
        "id": "fhJ5YgoB2E4W",
        "outputId": "750ab811-8282-4ed4-d93d-3a8da074900a"
      },
      "source": [
        "f_svm.fit(10,f_svm.average_aggregator)"
      ],
      "execution_count": null,
      "outputs": [
        {
          "output_type": "stream",
          "name": "stdout",
          "text": [
            "global round 1\n",
            "client 1 91.9869470630892\n",
            "client 2 92.38578680203045\n",
            "client 3 94.37998549673677\n",
            "global test acc 97.93328498912255\n",
            "global round 2\n",
            "client 1 92.74836838288614\n",
            "client 2 96.99057287889775\n",
            "client 3 97.1718636693256\n",
            "global test acc 98.5859318346628\n",
            "global round 3\n",
            "client 1 93.69108049311095\n",
            "client 2 97.7519941986947\n",
            "client 3 97.06308919506888\n",
            "global test acc 98.5859318346628\n",
            "global round 4\n",
            "client 1 93.25598259608412\n",
            "client 2 97.93328498912255\n",
            "client 3 97.24437998549674\n",
            "global test acc 98.5859318346628\n",
            "global round 5\n",
            "client 1 96.91805656272662\n",
            "client 2 98.22335025380711\n",
            "client 3 97.49818709209572\n",
            "global test acc 98.76722262509064\n",
            "global round 6\n",
            "client 1 92.74836838288614\n",
            "client 2 98.33212472806382\n",
            "client 3 97.89702683103698\n",
            "global test acc 98.76722262509064\n",
            "global round 7\n",
            "client 1 97.1718636693256\n",
            "client 2 95.14140681653373\n",
            "client 3 94.88759970993473\n",
            "global test acc 98.76722262509064\n",
            "global round 8\n",
            "client 1 91.7331399564902\n",
            "client 2 97.78825235678028\n",
            "client 3 95.03263234227701\n",
            "global test acc 98.76722262509064\n",
            "global round 9\n",
            "client 1 92.78462654097171\n",
            "client 2 97.86076867295141\n",
            "client 3 95.72153734590283\n",
            "global test acc 98.76722262509064\n",
            "global round 10\n",
            "client 1 93.8723712835388\n",
            "client 2 94.37998549673677\n",
            "client 3 94.52501812907904\n",
            "global test acc 98.76722262509064\n"
          ]
        }
      ]
    },
    {
      "cell_type": "markdown",
      "metadata": {
        "id": "b0gTkvMXnV8C"
      },
      "source": [
        "#### Training the models with 5 fold cross validation (balanced validation distribution)"
      ]
    },
    {
      "cell_type": "code",
      "metadata": {
        "id": "P0mUkPuD_GcR"
      },
      "source": [
        "f_svm = Federated_SVM(n_clients = 3, val=True, val_type='k_fold', val_distribution='balanced', k=5)\n",
        "f_svm.create_clients(clients_X,clients_y,X_test,y_test)\n",
        "clients = copy.deepcopy(f_svm.clients)"
      ],
      "execution_count": null,
      "outputs": []
    },
    {
      "cell_type": "code",
      "metadata": {
        "colab": {
          "base_uri": "https://localhost:8080/"
        },
        "id": "N1sjhXps_Gn5",
        "outputId": "9406a8b2-5151-4ee3-f7d1-72320a3770e1"
      },
      "source": [
        "clf = SVM(xtrain_gl, ytrain_gl, X_test, y_test, val=True, val_type='k_fold', val_distribution='balanced', k=5)\n",
        "clf.fit()\n",
        "print(clf.accuracy())"
      ],
      "execution_count": null,
      "outputs": [
        {
          "output_type": "stream",
          "name": "stdout",
          "text": [
            "99.20232052211747\n",
            "99.1660623640319\n",
            "99.20232052211747\n",
            "99.20232052211747\n",
            "98.83973894126179\n",
            "99.20232052211747\n"
          ]
        }
      ]
    },
    {
      "cell_type": "code",
      "metadata": {
        "colab": {
          "base_uri": "https://localhost:8080/"
        },
        "id": "QvmVMObE_HTW",
        "outputId": "01486ec2-6bfd-403d-8d19-fe156448eccb"
      },
      "source": [
        "f_svm.fit(5,f_svm.average_aggregator)"
      ],
      "execution_count": null,
      "outputs": [
        {
          "output_type": "stream",
          "name": "stdout",
          "text": [
            "global round 1\n",
            "90.86294416243655\n",
            "92.5670775924583\n",
            "91.47933284989122\n",
            "92.13197969543148\n",
            "90.17403915881074\n",
            "client 1 90.86294416243655\n",
            "92.78462654097171\n",
            "92.24075416968817\n",
            "90.39158810732415\n",
            "91.55184916606235\n",
            "91.91443074691806\n",
            "client 2 92.24075416968817\n",
            "94.45250181290791\n",
            "94.9238578680203\n",
            "94.59753444525019\n",
            "94.70630891950688\n",
            "92.60333575054386\n",
            "client 3 94.59753444525019\n",
            "global test acc 98.07831762146483\n",
            "global round 2\n",
            "97.20812182741116\n",
            "92.16823785351704\n",
            "92.89340101522842\n",
            "92.82088469905729\n",
            "97.1718636693256\n",
            "client 1 97.20812182741116\n",
            "97.13560551124003\n",
            "97.13560551124003\n",
            "97.13560551124003\n",
            "97.35315445975344\n",
            "97.1718636693256\n",
            "client 2 97.13560551124003\n",
            "96.55547498187093\n",
            "97.28063814358231\n",
            "95.3952139231327\n",
            "96.84554024655547\n",
            "96.8092820884699\n",
            "client 3 95.3952139231327\n",
            "global test acc 98.07831762146483\n",
            "global round 3\n",
            "93.79985496736765\n",
            "92.24075416968817\n",
            "93.21972443799855\n",
            "93.47353154459753\n",
            "97.67947788252357\n",
            "client 1 93.79985496736765\n",
            "97.71573604060913\n",
            "97.643219724438\n",
            "94.27121102248006\n",
            "97.71573604060913\n",
            "97.46192893401016\n",
            "client 2 97.71573604060913\n",
            "97.35315445975344\n",
            "97.1718636693256\n",
            "96.99057287889775\n",
            "96.99057287889775\n",
            "97.1718636693256\n",
            "client 3 96.99057287889775\n",
            "global test acc 98.6947063089195\n",
            "global round 4\n",
            "92.78462654097171\n",
            "92.53081943437273\n",
            "92.929659173314\n",
            "97.02683103698332\n",
            "97.31689630166788\n",
            "client 1 92.78462654097171\n",
            "97.96954314720813\n",
            "98.07831762146483\n",
            "97.67947788252357\n",
            "98.18709209572154\n",
            "94.96011602610588\n",
            "client 2 97.96954314720813\n",
            "94.12617839013778\n",
            "97.96954314720813\n",
            "94.85134155184916\n",
            "97.1718636693256\n",
            "96.91805656272662\n",
            "client 3 94.85134155184916\n",
            "global test acc 98.6947063089195\n",
            "global round 5\n",
            "93.79985496736765\n",
            "92.20449601160261\n",
            "96.95431472081218\n",
            "93.90862944162437\n",
            "97.42567077592457\n",
            "client 1 93.90862944162437\n",
            "98.15083393763598\n",
            "98.07831762146483\n",
            "94.08992023205222\n",
            "98.04205946337926\n",
            "93.9811457577955\n",
            "client 2 98.15083393763598\n",
            "92.67585206671501\n",
            "96.95431472081218\n",
            "95.21392313270486\n",
            "97.35315445975344\n",
            "97.42567077592457\n",
            "client 3 95.21392313270486\n",
            "global test acc 98.6947063089195\n"
          ]
        }
      ]
    },
    {
      "cell_type": "markdown",
      "metadata": {
        "id": "bymMOGThnjNb"
      },
      "source": [
        "#### Training the models with 5 fold cross validation (unbalanced validation distribution)"
      ]
    },
    {
      "cell_type": "code",
      "metadata": {
        "id": "rWvSTu6O_H4V"
      },
      "source": [
        "f_svm = Federated_SVM(n_clients = 3, val=True, val_type='k_fold', val_distribution='unbalanced', k=5)\n",
        "f_svm.create_clients(clients_X,clients_y,X_test,y_test)\n",
        "clients = copy.deepcopy(f_svm.clients)"
      ],
      "execution_count": null,
      "outputs": []
    },
    {
      "cell_type": "code",
      "metadata": {
        "colab": {
          "base_uri": "https://localhost:8080/"
        },
        "id": "mqO3bBUY_H-x",
        "outputId": "a223cc39-4b23-4d80-fccd-05e4f6a109b7"
      },
      "source": [
        "clf = SVM(xtrain_gl, ytrain_gl, X_test, y_test, val=True, val_type='k_fold', val_distribution='unbalanced', k=5)\n",
        "clf.fit()\n",
        "print(clf.accuracy())"
      ],
      "execution_count": null,
      "outputs": [
        {
          "output_type": "stream",
          "name": "stdout",
          "text": [
            "99.20232052211747\n",
            "99.20232052211747\n",
            "99.20232052211747\n",
            "99.09354604786077\n",
            "99.20232052211747\n",
            "99.20232052211747\n"
          ]
        }
      ]
    },
    {
      "cell_type": "code",
      "metadata": {
        "colab": {
          "base_uri": "https://localhost:8080/"
        },
        "id": "q4U-0hx__IFX",
        "outputId": "6af5c810-0fe6-4c15-c288-052754d284a4"
      },
      "source": [
        "f_svm.fit(5,f_svm.average_aggregator)"
      ],
      "execution_count": null,
      "outputs": [
        {
          "output_type": "stream",
          "name": "stdout",
          "text": [
            "global round 1\n",
            "93.54604786076868\n",
            "90.24655547498188\n",
            "90.28281363306743\n",
            "89.99274836838289\n",
            "92.67585206671501\n",
            "client 1 93.54604786076868\n",
            "91.69688179840463\n",
            "92.02320522117476\n",
            "91.9869470630892\n",
            "92.71211022480058\n",
            "91.00797679477883\n",
            "client 2 92.02320522117476\n",
            "95.03263234227701\n",
            "93.00217548948514\n",
            "93.58230601885424\n",
            "93.21972443799855\n",
            "95.97534445250182\n",
            "client 3 93.21972443799855\n",
            "global test acc 97.7519941986947\n",
            "global round 2\n",
            "93.25598259608412\n",
            "96.99057287889775\n",
            "93.29224075416968\n",
            "93.61856417693981\n",
            "91.04423495286439\n",
            "client 1 93.29224075416968\n",
            "97.31689630166788\n",
            "96.62799129804206\n",
            "97.09934735315446\n",
            "97.1718636693256\n",
            "97.28063814358231\n",
            "client 2 97.31689630166788\n",
            "95.21392313270486\n",
            "94.63379260333575\n",
            "96.95431472081218\n",
            "95.25018129079042\n",
            "97.13560551124003\n",
            "client 3 95.25018129079042\n",
            "global test acc 98.33212472806382\n",
            "global round 3\n",
            "92.60333575054386\n",
            "92.45830311820158\n",
            "97.09934735315446\n",
            "94.12617839013778\n",
            "93.94488759970994\n",
            "client 1 97.09934735315446\n",
            "97.71573604060913\n",
            "97.89702683103698\n",
            "97.78825235678028\n",
            "94.27121102248006\n",
            "97.46192893401016\n",
            "client 2 97.89702683103698\n",
            "97.28063814358231\n",
            "96.95431472081218\n",
            "94.05366207396663\n",
            "97.02683103698332\n",
            "97.06308919506888\n",
            "client 3 96.95431472081218\n",
            "global test acc 98.62218999274836\n",
            "global round 4\n",
            "91.95068890500363\n",
            "93.5097897026831\n",
            "92.78462654097171\n",
            "93.94488759970994\n",
            "91.58810732414794\n",
            "client 1 91.58810732414794\n",
            "97.93328498912255\n",
            "98.07831762146483\n",
            "98.04205946337926\n",
            "94.37998549673677\n",
            "98.11457577955039\n",
            "client 2 97.93328498912255\n",
            "97.53444525018129\n",
            "93.29224075416968\n",
            "97.46192893401016\n",
            "97.13560551124003\n",
            "94.9238578680203\n",
            "client 3 94.9238578680203\n",
            "global test acc 98.62218999274836\n",
            "global round 5\n",
            "94.5612762871646\n",
            "92.45830311820158\n",
            "94.08992023205222\n",
            "97.06308919506888\n",
            "91.87817258883248\n",
            "client 1 91.87817258883248\n",
            "98.11457577955039\n",
            "97.643219724438\n",
            "94.88759970993473\n",
            "98.00580130529369\n",
            "97.82451051486585\n",
            "client 2 98.11457577955039\n",
            "97.24437998549674\n",
            "94.59753444525019\n",
            "94.77882523567803\n",
            "95.14140681653373\n",
            "95.3952139231327\n",
            "client 3 95.14140681653373\n",
            "global test acc 98.62218999274836\n"
          ]
        }
      ]
    },
    {
      "cell_type": "markdown",
      "metadata": {
        "id": "ujC1N29CrvmS"
      },
      "source": [
        "# Digits 3 and 8"
      ]
    },
    {
      "cell_type": "markdown",
      "metadata": {
        "id": "lQLYCuk0rvmT"
      },
      "source": [
        "### Loading the data of 3 and 8"
      ]
    },
    {
      "cell_type": "code",
      "metadata": {
        "id": "8KR9u9htrvmT"
      },
      "source": [
        "data = load_mnist_return_required_digits(3, 8)"
      ],
      "execution_count": null,
      "outputs": []
    },
    {
      "cell_type": "markdown",
      "metadata": {
        "id": "qUY22RmCrvmU"
      },
      "source": [
        "### Dividing the data of digits 3 and 8 into clusters using the KMeans algorithm\n",
        "The images of 3 and 8 are divided into 3 three clusters each."
      ]
    },
    {
      "cell_type": "code",
      "metadata": {
        "colab": {
          "base_uri": "https://localhost:8080/",
          "height": 179
        },
        "id": "DT9oR2p-rvmU",
        "outputId": "fce85d81-7d68-428b-ee71-1d2b15d1cf47"
      },
      "source": [
        "x_0_c1, y_0_c1, x_0_c2, y_0_c2, x_0_c3, y_0_c3 = create_kmeans_clusters(data[0][0], data[0][1])\n",
        "fig, axs = plt.subplots(1, 3)\n",
        "axs[0].imshow(x_0_c1[0].reshape(28,28),cmap='gray')\n",
        "axs[0].set_title('Cluster 1')\n",
        "axs[1].imshow(x_0_c2[0].reshape(28,28),cmap='gray')\n",
        "axs[1].set_title('Cluster 2')\n",
        "axs[2].imshow(x_0_c3[0].reshape(28,28),cmap='gray')\n",
        "axs[2].set_title('Cluster 3')"
      ],
      "execution_count": null,
      "outputs": [
        {
          "output_type": "execute_result",
          "data": {
            "text/plain": [
              "Text(0.5, 1.0, 'Cluster 3')"
            ]
          },
          "metadata": {},
          "execution_count": 35
        },
        {
          "output_type": "display_data",
          "data": {
            "image/png": "[encoded data removed]",
            "text/plain": [
              "<Figure size 432x288 with 3 Axes>"
            ]
          },
          "metadata": {
            "needs_background": "light"
          }
        }
      ]
    },
    {
      "cell_type": "code",
      "metadata": {
        "colab": {
          "base_uri": "https://localhost:8080/",
          "height": 179
        },
        "id": "-1nzWuCMrvmW",
        "outputId": "10a33fa5-9ffd-491a-eca4-ebfc53637053"
      },
      "source": [
        "x_6_c1, y_6_c1, x_6_c2, y_6_c2, x_6_c3, y_6_c3 = create_kmeans_clusters(data[1][0], data[1][1])\n",
        "fig, axs = plt.subplots(1, 3)\n",
        "axs[0].imshow(x_6_c1[0].reshape(28,28),cmap='gray')\n",
        "axs[0].set_title('Cluster 1')\n",
        "axs[1].imshow(x_6_c2[0].reshape(28,28),cmap='gray')\n",
        "axs[1].set_title('Cluster 2')\n",
        "axs[2].imshow(x_6_c3[0].reshape(28,28),cmap='gray')\n",
        "axs[2].set_title('Cluster 3')"
      ],
      "execution_count": null,
      "outputs": [
        {
          "output_type": "execute_result",
          "data": {
            "text/plain": [
              "Text(0.5, 1.0, 'Cluster 3')"
            ]
          },
          "metadata": {},
          "execution_count": 36
        },
        {
          "output_type": "display_data",
          "data": {
            "image/png": "[encoded data removed]",
            "text/plain": [
              "<Figure size 432x288 with 3 Axes>"
            ]
          },
          "metadata": {
            "needs_background": "light"
          }
        }
      ]
    },
    {
      "cell_type": "markdown",
      "metadata": {
        "id": "SBm1X_wQrvmX"
      },
      "source": [
        "### Creation of individual train sets for the clients, global train set for the SVM model and a global test set containing the data from all the clusters\n",
        "\n"
      ]
    },
    {
      "cell_type": "code",
      "metadata": {
        "id": "YOioGLvTt-NY"
      },
      "source": [
        "clients_X,clients_y,X_test,y_test = get_clients(data[0][0], data[1][0], n_clients = 3)"
      ],
      "execution_count": null,
      "outputs": []
    },
    {
      "cell_type": "code",
      "metadata": {
        "id": "asY7aT-JuDTN"
      },
      "source": [
        "xtrain_gl, ytrain_gl = get_total_from_clients(clients_X,clients_y)"
      ],
      "execution_count": null,
      "outputs": []
    },
    {
      "cell_type": "markdown",
      "metadata": {
        "id": "lFZmdlZdrvma"
      },
      "source": [
        "### Federated learning model and SVM model training"
      ]
    },
    {
      "cell_type": "markdown",
      "metadata": {
        "id": "OPXg8v9Wrvma"
      },
      "source": [
        "#### Training the models without validation"
      ]
    },
    {
      "cell_type": "code",
      "metadata": {
        "id": "N_SI5Tfdrvmb"
      },
      "source": [
        "f_svm = Federated_SVM(n_clients = 3, val=False)\n",
        "f_svm.create_clients(clients_X,clients_y,X_test,y_test)\n",
        "clients = copy.deepcopy(f_svm.clients)"
      ],
      "execution_count": null,
      "outputs": []
    },
    {
      "cell_type": "code",
      "metadata": {
        "colab": {
          "base_uri": "https://localhost:8080/"
        },
        "id": "Vlj_kk4-rvmb",
        "outputId": "5bcbd6ad-cc50-4052-e914-0663b0082c07"
      },
      "source": [
        "clf = SVM(xtrain_gl, ytrain_gl, X_test, y_test, val=False)\n",
        "clf.fit()\n",
        "print(clf.accuracy())"
      ],
      "execution_count": null,
      "outputs": [
        {
          "output_type": "stream",
          "name": "stdout",
          "text": [
            "96.63685152057245\n"
          ]
        }
      ]
    },
    {
      "cell_type": "code",
      "metadata": {
        "colab": {
          "base_uri": "https://localhost:8080/"
        },
        "id": "m0RzpTYTrvmc",
        "outputId": "8dfbca68-9ee3-49b4-8824-7b6ddf8c30a3"
      },
      "source": [
        "f_svm.fit(10,f_svm.average_aggregator)"
      ],
      "execution_count": null,
      "outputs": [
        {
          "output_type": "stream",
          "name": "stdout",
          "text": [
            "global round 1\n",
            "client 1 79.06976744186046\n",
            "client 2 81.96779964221824\n",
            "client 3 72.77280858676207\n",
            "global test acc 95.67084078711986\n",
            "global round 2\n",
            "client 1 80.46511627906978\n",
            "client 2 82.03935599284436\n",
            "client 3 72.84436493738819\n",
            "global test acc 95.81395348837209\n",
            "global round 3\n",
            "client 1 79.71377459749553\n",
            "client 2 81.18067978533094\n",
            "client 3 72.88014311270126\n",
            "global test acc 95.8855098389982\n",
            "global round 4\n",
            "client 1 79.42754919499106\n",
            "client 2 82.36135957066189\n",
            "client 3 71.73524150268337\n",
            "global test acc 95.95706618962433\n",
            "global round 5\n",
            "client 1 79.5706618962433\n",
            "client 2 82.64758497316636\n",
            "client 3 72.41502683363149\n",
            "global test acc 95.9928443649374\n",
            "global round 6\n",
            "client 1 79.64221824686942\n",
            "client 2 82.43291592128801\n",
            "client 3 72.62969588550983\n",
            "global test acc 95.9928443649374\n",
            "global round 7\n",
            "client 1 80.03577817531306\n",
            "client 2 81.89624329159213\n",
            "client 3 72.9159212880143\n",
            "global test acc 95.9928443649374\n",
            "global round 8\n",
            "client 1 78.96243291592128\n",
            "client 2 81.35957066189624\n",
            "client 3 72.3076923076923\n",
            "global test acc 95.9928443649374\n",
            "global round 9\n",
            "client 1 80.14311270125224\n",
            "client 2 82.68336314847943\n",
            "client 3 72.55813953488372\n",
            "global test acc 95.9928443649374\n",
            "global round 10\n",
            "client 1 80.50089445438283\n",
            "client 2 82.6118067978533\n",
            "client 3 72.80858676207514\n",
            "global test acc 95.9928443649374\n"
          ]
        }
      ]
    },
    {
      "cell_type": "markdown",
      "metadata": {
        "id": "cR_qfj9Srvmf"
      },
      "source": [
        "#### Training the models with cross validation (balanced validation distribution)"
      ]
    },
    {
      "cell_type": "code",
      "metadata": {
        "id": "yc1Lkz-Crvmg"
      },
      "source": [
        "f_svm = Federated_SVM(n_clients = 3, val=True, val_type='cross_val', val_distribution='balanced')\n",
        "f_svm.create_clients(clients_X,clients_y,X_test,y_test)\n",
        "clients = copy.deepcopy(f_svm.clients)"
      ],
      "execution_count": null,
      "outputs": []
    },
    {
      "cell_type": "code",
      "metadata": {
        "colab": {
          "base_uri": "https://localhost:8080/"
        },
        "id": "LAfSZHVlrvmg",
        "outputId": "7f4827e8-61d7-4d1a-966c-b7e90ccb7108"
      },
      "source": [
        "clf = SVM(xtrain_gl, ytrain_gl, X_test, y_test, val=True, val_type='cross_val', val_distribution='balanced')\n",
        "clf.fit()\n",
        "print(clf.accuracy())"
      ],
      "execution_count": null,
      "outputs": [
        {
          "output_type": "stream",
          "name": "stdout",
          "text": [
            "96.67262969588552\n"
          ]
        }
      ]
    },
    {
      "cell_type": "code",
      "metadata": {
        "colab": {
          "base_uri": "https://localhost:8080/"
        },
        "id": "ze2mexf8rvmh",
        "outputId": "822fecd0-f01c-44b7-a077-085f364742ee"
      },
      "source": [
        "f_svm.fit(10,f_svm.average_aggregator)"
      ],
      "execution_count": null,
      "outputs": [
        {
          "output_type": "stream",
          "name": "stdout",
          "text": [
            "global round 1\n",
            "client 1 81.35957066189624\n",
            "client 2 84.25760286225402\n",
            "client 3 72.62969588550983\n",
            "global test acc 95.77817531305904\n",
            "global round 2\n",
            "client 1 82.03935599284436\n",
            "client 2 85.08050089445437\n",
            "client 3 75.02683363148479\n",
            "global test acc 96.02862254025045\n",
            "global round 3\n",
            "client 1 83.29159212880143\n",
            "client 2 85.29516994633273\n",
            "client 3 87.11985688729875\n",
            "global test acc 96.02862254025045\n",
            "global round 4\n",
            "client 1 82.7906976744186\n",
            "client 2 89.83899821109124\n",
            "client 3 75.52772808586762\n",
            "global test acc 96.27906976744185\n",
            "global round 5\n",
            "client 1 87.40608228980322\n",
            "client 2 91.01967799642217\n",
            "client 3 88.15742397137745\n",
            "global test acc 96.63685152057245\n",
            "global round 6\n",
            "client 1 82.14669051878354\n",
            "client 2 83.50626118067979\n",
            "client 3 77.53130590339893\n",
            "global test acc 96.63685152057245\n",
            "global round 7\n",
            "client 1 84.22182468694098\n",
            "client 2 84.18604651162791\n",
            "client 3 75.24150268336315\n",
            "global test acc 96.63685152057245\n",
            "global round 8\n",
            "client 1 83.25581395348837\n",
            "client 2 85.97495527728086\n",
            "client 3 75.77817531305904\n",
            "global test acc 96.63685152057245\n",
            "global round 9\n",
            "client 1 82.21824686940965\n",
            "client 2 91.01967799642217\n",
            "client 3 75.84973166368515\n",
            "global test acc 96.63685152057245\n",
            "global round 10\n",
            "client 1 83.3273703041145\n",
            "client 2 92.4865831842576\n",
            "client 3 75.77817531305904\n",
            "global test acc 96.63685152057245\n"
          ]
        }
      ]
    },
    {
      "cell_type": "markdown",
      "metadata": {
        "id": "IO35tRrnrvmi"
      },
      "source": [
        "#### Training the models with cross validation (unbalanced validation distribution)"
      ]
    },
    {
      "cell_type": "code",
      "metadata": {
        "id": "fpkbD1bPrvmi"
      },
      "source": [
        "f_svm = Federated_SVM(n_clients = 3, val=True, val_type='cross_val', val_distribution='unbalanced')\n",
        "f_svm.create_clients(clients_X,clients_y,X_test,y_test)\n",
        "clients = copy.deepcopy(f_svm.clients)"
      ],
      "execution_count": null,
      "outputs": []
    },
    {
      "cell_type": "code",
      "metadata": {
        "id": "30s52TpXrvmi",
        "colab": {
          "base_uri": "https://localhost:8080/"
        },
        "outputId": "62dcafae-0c53-4d67-8ab7-ecf8f1702a11"
      },
      "source": [
        "clf = SVM(xtrain_gl, ytrain_gl, X_test, y_test, val=True, val_type='cross_val', val_distribution='unbalanced')\n",
        "clf.fit()\n",
        "print(clf.accuracy())"
      ],
      "execution_count": null,
      "outputs": [
        {
          "output_type": "stream",
          "name": "stdout",
          "text": [
            "96.2432915921288\n"
          ]
        }
      ]
    },
    {
      "cell_type": "code",
      "metadata": {
        "id": "tS7Gn3lMrvmj",
        "colab": {
          "base_uri": "https://localhost:8080/"
        },
        "outputId": "849fc486-0835-493c-c704-c4dadd653952"
      },
      "source": [
        "f_svm.fit(10,f_svm.average_aggregator)"
      ],
      "execution_count": null,
      "outputs": [
        {
          "output_type": "stream",
          "name": "stdout",
          "text": [
            "global round 1\n",
            "client 1 81.1449016100179\n",
            "client 2 82.82647584973166\n",
            "client 3 75.20572450805008\n",
            "global test acc 95.2772808586762\n",
            "global round 2\n",
            "client 1 82.64758497316636\n",
            "client 2 83.25581395348837\n",
            "client 3 74.4186046511628\n",
            "global test acc 95.2772808586762\n",
            "global round 3\n",
            "client 1 84.40071556350625\n",
            "client 2 90.6618962432916\n",
            "client 3 75.02683363148479\n",
            "global test acc 95.95706618962433\n",
            "global round 4\n",
            "client 1 88.15742397137745\n",
            "client 2 91.37745974955277\n",
            "client 3 75.31305903398928\n",
            "global test acc 95.95706618962433\n",
            "global round 5\n",
            "client 1 88.72987477638641\n",
            "client 2 86.76207513416816\n",
            "client 3 87.19141323792486\n",
            "global test acc 96.42218246869409\n",
            "global round 6\n",
            "client 1 89.40966010733452\n",
            "client 2 85.08050089445437\n",
            "client 3 76.6010733452594\n",
            "global test acc 96.42218246869409\n",
            "global round 7\n",
            "client 1 83.04114490161002\n",
            "client 2 90.37567084078711\n",
            "client 3 75.16994633273703\n",
            "global test acc 96.42218246869409\n",
            "global round 8\n",
            "client 1 81.7531305903399\n",
            "client 2 87.47763864042933\n",
            "client 3 76.17173524150267\n",
            "global test acc 96.42218246869409\n",
            "global round 9\n",
            "client 1 88.9087656529517\n",
            "client 2 91.34168157423971\n",
            "client 3 76.4221824686941\n",
            "global test acc 96.42218246869409\n",
            "global round 10\n",
            "client 1 89.62432915921288\n",
            "client 2 86.65474060822898\n",
            "client 3 73.55992844364937\n",
            "global test acc 96.42218246869409\n"
          ]
        }
      ]
    },
    {
      "cell_type": "markdown",
      "metadata": {
        "id": "c0VaOY8Prvmj"
      },
      "source": [
        "#### Training the models with 5 fold cross validation (balanced validation distribution)"
      ]
    },
    {
      "cell_type": "code",
      "metadata": {
        "id": "yRkCVFfsrvmk"
      },
      "source": [
        "f_svm = Federated_SVM(n_clients = 3, val=True, val_type='k_fold', val_distribution='balanced', k=5)\n",
        "f_svm.create_clients(clients_X,clients_y,X_test,y_test)\n",
        "clients = copy.deepcopy(f_svm.clients)"
      ],
      "execution_count": null,
      "outputs": []
    },
    {
      "cell_type": "code",
      "metadata": {
        "id": "pla_Y2Wirvmk",
        "colab": {
          "base_uri": "https://localhost:8080/"
        },
        "outputId": "18bb0839-1569-4faa-d142-f58c12ecac41"
      },
      "source": [
        "clf = SVM(xtrain_gl, ytrain_gl, X_test, y_test, val=True, val_type='k_fold', val_distribution='balanced', k=5)\n",
        "clf.fit()\n",
        "print(clf.accuracy())"
      ],
      "execution_count": null,
      "outputs": [
        {
          "output_type": "stream",
          "name": "stdout",
          "text": [
            "96.20751341681574\n",
            "96.77996422182468\n",
            "96.70840787119856\n",
            "96.92307692307692\n",
            "96.6010733452594\n",
            "96.92307692307692\n"
          ]
        }
      ]
    },
    {
      "cell_type": "code",
      "metadata": {
        "id": "ITo1ycZHrvml",
        "colab": {
          "base_uri": "https://localhost:8080/"
        },
        "outputId": "77186839-7d23-42b6-d94c-1fbecf3caa98"
      },
      "source": [
        "f_svm.fit(5,f_svm.average_aggregator)"
      ],
      "execution_count": null,
      "outputs": [
        {
          "output_type": "stream",
          "name": "stdout",
          "text": [
            "global round 1\n",
            "82.93381037567083\n",
            "81.9320214669052\n",
            "83.47048300536673\n",
            "82.11091234347049\n",
            "82.11091234347049\n",
            "client 1 81.9320214669052\n",
            "82.39713774597496\n",
            "83.47048300536673\n",
            "83.86404293381038\n",
            "84.25760286225402\n",
            "81.71735241502684\n",
            "client 2 84.25760286225402\n",
            "75.31305903398928\n",
            "74.91949910554561\n",
            "74.77638640429338\n",
            "74.91949910554561\n",
            "74.77638640429338\n",
            "client 3 75.31305903398928\n",
            "global test acc 95.74239713774597\n",
            "global round 2\n",
            "83.86404293381038\n",
            "88.22898032200358\n",
            "83.00536672629696\n",
            "82.75491949910555\n",
            "83.07692307692308\n",
            "client 1 88.22898032200358\n",
            "89.08765652951699\n",
            "90.19677996422183\n",
            "85.5098389982111\n",
            "85.47406082289804\n",
            "84.40071556350625\n",
            "client 2 85.47406082289804\n",
            "75.13416815742397\n",
            "87.15563506261181\n",
            "87.29874776386404\n",
            "75.2772808586762\n",
            "75.34883720930232\n",
            "client 3 75.13416815742397\n",
            "global test acc 95.81395348837209\n",
            "global round 3\n",
            "84.22182468694098\n",
            "82.9695885509839\n",
            "82.86225402504472\n",
            "88.62254025044723\n",
            "81.46690518783542\n",
            "client 1 82.9695885509839\n",
            "89.83899821109124\n",
            "84.25760286225402\n",
            "89.08765652951699\n",
            "85.54561717352415\n",
            "89.30232558139535\n",
            "client 2 85.54561717352415\n",
            "76.2432915921288\n",
            "86.9767441860465\n",
            "86.83363148479427\n",
            "75.02683363148479\n",
            "75.84973166368515\n",
            "client 3 76.2432915921288\n",
            "global test acc 95.95706618962433\n",
            "global round 4\n",
            "84.57960644007156\n",
            "89.12343470483005\n",
            "82.89803220035779\n",
            "89.12343470483005\n",
            "80.85867620751341\n",
            "client 1 89.12343470483005\n",
            "83.43470483005366\n",
            "90.6618962432916\n",
            "84.83005366726297\n",
            "85.83184257602863\n",
            "90.55456171735241\n",
            "client 2 85.83184257602863\n",
            "76.31484794275491\n",
            "87.51341681574239\n",
            "87.83542039355993\n",
            "74.8479427549195\n",
            "75.52772808586762\n",
            "client 3 76.31484794275491\n",
            "global test acc 95.9928443649374\n",
            "global round 5\n",
            "84.18604651162791\n",
            "89.62432915921288\n",
            "83.79248658318426\n",
            "82.32558139534883\n",
            "82.5402504472272\n",
            "client 1 82.5402504472272\n",
            "89.23076923076924\n",
            "89.91055456171735\n",
            "89.62432915921288\n",
            "86.2969588550984\n",
            "89.55277280858677\n",
            "client 2 86.2969588550984\n",
            "75.99284436493738\n",
            "87.47763864042933\n",
            "87.26296958855099\n",
            "87.40608228980322\n",
            "75.24150268336315\n",
            "client 3 75.99284436493738\n",
            "global test acc 96.13595706618963\n"
          ]
        }
      ]
    },
    {
      "cell_type": "markdown",
      "metadata": {
        "id": "ZF6KTuFBrvml"
      },
      "source": [
        "#### Training the models with 5 fold cross validation (unbalanced validation distribution)"
      ]
    },
    {
      "cell_type": "code",
      "metadata": {
        "id": "Q7Vht8YTrvmm"
      },
      "source": [
        "f_svm = Federated_SVM(n_clients = 3, val=True, val_type='k_fold', val_distribution='unbalanced', k=5)\n",
        "f_svm.create_clients(clients_X,clients_y,X_test,y_test)\n",
        "clients = copy.deepcopy(f_svm.clients)"
      ],
      "execution_count": null,
      "outputs": []
    },
    {
      "cell_type": "code",
      "metadata": {
        "id": "o59tjQhgrvmm",
        "colab": {
          "base_uri": "https://localhost:8080/"
        },
        "outputId": "b430c7d9-c4a1-4f38-d316-38f3e9a685f6"
      },
      "source": [
        "clf = SVM(xtrain_gl, ytrain_gl, X_test, y_test, val=True, val_type='k_fold', val_distribution='unbalanced', k=5)\n",
        "clf.fit()\n",
        "print(clf.accuracy())"
      ],
      "execution_count": null,
      "outputs": [
        {
          "output_type": "stream",
          "name": "stdout",
          "text": [
            "96.81574239713775\n",
            "96.74418604651163\n",
            "96.88729874776386\n",
            "96.67262969588552\n",
            "96.77996422182468\n",
            "96.74418604651163\n"
          ]
        }
      ]
    },
    {
      "cell_type": "code",
      "metadata": {
        "id": "vWHGp_oMrvmn",
        "colab": {
          "base_uri": "https://localhost:8080/"
        },
        "outputId": "697f5baf-c1d9-466f-ff95-77a221ec7d68"
      },
      "source": [
        "f_svm.fit(5,f_svm.average_aggregator)"
      ],
      "execution_count": null,
      "outputs": [
        {
          "output_type": "stream",
          "name": "stdout",
          "text": [
            "global round 1\n",
            "83.50626118067979\n",
            "83.14847942754919\n",
            "81.89624329159213\n",
            "82.25402504472272\n",
            "80.57245080500894\n",
            "client 1 80.57245080500894\n",
            "84.07871198568873\n",
            "80.35778175313058\n",
            "82.57602862254025\n",
            "83.43470483005366\n",
            "81.96779964221824\n",
            "client 2 84.07871198568873\n",
            "74.88372093023256\n",
            "75.45617173524151\n",
            "74.88372093023256\n",
            "75.95706618962433\n",
            "72.84436493738819\n",
            "client 3 74.88372093023256\n",
            "global test acc 95.70661896243293\n",
            "global round 2\n",
            "82.28980322003578\n",
            "83.11270125223614\n",
            "81.96779964221824\n",
            "82.86225402504472\n",
            "84.36493738819321\n",
            "client 1 82.86225402504472\n",
            "89.58855098389982\n",
            "85.54561717352415\n",
            "85.08050089445437\n",
            "84.32915921288014\n",
            "82.9695885509839\n",
            "client 2 85.08050089445437\n",
            "75.6350626118068\n",
            "75.31305903398928\n",
            "73.13059033989266\n",
            "74.09660107334525\n",
            "86.86940966010734\n",
            "client 3 75.6350626118068\n",
            "global test acc 95.77817531305904\n",
            "global round 3\n",
            "88.72987477638641\n",
            "84.18604651162791\n",
            "83.3273703041145\n",
            "83.29159212880143\n",
            "88.58676207513417\n",
            "client 1 84.18604651162791\n",
            "90.12522361359571\n",
            "85.25939177101968\n",
            "85.43828264758497\n",
            "89.91055456171735\n",
            "85.79606440071557\n",
            "client 2 85.25939177101968\n",
            "87.26296958855099\n",
            "75.6350626118068\n",
            "75.74239713774598\n",
            "74.91949910554561\n",
            "75.67084078711986\n",
            "client 3 87.26296958855099\n",
            "global test acc 96.02862254025045\n",
            "global round 4\n",
            "84.68694096601074\n",
            "81.35957066189624\n",
            "84.47227191413238\n",
            "83.3273703041145\n",
            "84.18604651162791\n",
            "client 1 81.35957066189624\n",
            "90.62611806797854\n",
            "84.22182468694098\n",
            "86.08228980322004\n",
            "85.86762075134168\n",
            "86.5474060822898\n",
            "client 2 90.62611806797854\n",
            "76.10017889087656\n",
            "76.81574239713774\n",
            "75.09838998211092\n",
            "76.35062611806798\n",
            "76.99463327370304\n",
            "client 3 76.10017889087656\n",
            "global test acc 96.02862254025045\n",
            "global round 5\n",
            "88.37209302325581\n",
            "88.40787119856887\n",
            "88.5509838998211\n",
            "87.72808586762075\n",
            "88.5509838998211\n",
            "client 1 87.72808586762075\n",
            "84.65116279069768\n",
            "92.09302325581396\n",
            "92.37924865831843\n",
            "90.51878354203936\n",
            "86.7262969588551\n",
            "client 2 84.65116279069768\n",
            "76.38640429338103\n",
            "75.16994633273703\n",
            "75.74239713774598\n",
            "75.74239713774598\n",
            "74.74060822898032\n",
            "client 3 75.16994633273703\n",
            "global test acc 96.2432915921288\n"
          ]
        }
      ]
    }
  ]
}