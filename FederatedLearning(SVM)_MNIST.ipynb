{
  "nbformat": 4,
  "nbformat_minor": 0,
  "metadata": {
    "colab": {
      "name": "FederatedLearning(SVM) - MNIST",
      "provenance": [],
      "collapsed_sections": []
    },
    "kernelspec": {
      "display_name": "Python 3",
      "name": "python3"
    },
    "language_info": {
      "name": "python"
    }
  },
  "cells": [
    {
      "cell_type": "code",
      "metadata": {
        "id": "XFbvzhVst7mi"
      },
      "source": [
        "import numpy as np\n",
        "import random\n",
        "import copy\n",
        "from sklearn.metrics import accuracy_score\n",
        "from sklearn.model_selection import train_test_split\n",
        "from sklearn.cluster import KMeans\n",
        "import tensorflow as tf\n",
        "import matplotlib.pyplot as plt"
      ],
      "execution_count": null,
      "outputs": []
    },
    {
      "cell_type": "code",
      "metadata": {
        "id": "U2b8dHySEYuu"
      },
      "source": [
        "class SVM:\n",
        "\n",
        "  def __init__(self, X_train, y_train, X_test, y_test, val=True, val_type='k_fold', val_distribution='balanced', k=5, learning_rate=0.001, lambda_param=0.01, n_iters=1000):\n",
        "\n",
        "    self.lr = learning_rate\n",
        "    self.lambda_param = lambda_param\n",
        "    self.n_iters = n_iters\n",
        "\n",
        "    self.X_train = X_train\n",
        "    self.y_train = y_train\n",
        "\n",
        "    self.X_test = X_test\n",
        "    self.y_test = y_test\n",
        "\n",
        "    self.val_distribution = val_distribution\n",
        "    self.val = val\n",
        "    self.val_type=val_type\n",
        "    self.val_distribution=val_distribution\n",
        "    self.k=k\n",
        "\n",
        "    self.w = np.array([])\n",
        "    self.b = None\n",
        "\n",
        "\n",
        "  def Gradient_update(self, X_train, y_train, X_val=None, y_val=None):\n",
        "\n",
        "    n_samples, n_features = X_train.shape  \n",
        "    y_ = np.where(y_train <= 0, -1, 1)\n",
        "          \n",
        "    if self.w.size == 0 and self.b is None :\n",
        "      self.w = np.zeros(n_features)\n",
        "      self.b = 0\n",
        "\n",
        "    w_best = np.zeros(n_features)\n",
        "    b_best = 0\n",
        "\n",
        "    acc_list = [] \n",
        "    for i in range(0,self.n_iters):\n",
        "      for idx, x_i in enumerate(X_train):\n",
        "        condition = y_[idx] * (np.dot(x_i, self.w) - self.b) >= 1\n",
        "        if condition:\n",
        "          self.w -= self.lr * (2 * self.lambda_param * self.w)\n",
        "        else:\n",
        "          self.w -= self.lr * (2 * self.lambda_param * self.w - np.dot(x_i, y_[idx]))\n",
        "          self.b -= self.lr * y_[idx]\n",
        "\n",
        "      if i%10 == 0 and self.val:\n",
        "        approx_w = np.dot(X_val, self.w) - self.b\n",
        "        approx_w = np.sign(approx_w)\n",
        "        res_w = np.where(approx_w<0, 0, approx_w)\n",
        "\n",
        "        approx_w_best = np.dot(X_val, w_best) - b_best\n",
        "        approx_w_best = np.sign(approx_w_best)\n",
        "        res_w_best = np.where(approx_w_best<0, 0, approx_w_best)\n",
        "          \n",
        "        if (accuracy_score(y_val, res_w_best) - 0.3 < accuracy_score(y_val, res_w)):\n",
        "          w_best = copy.deepcopy(self.w)\n",
        "          b_best = copy.deepcopy(self.b)\n",
        "        else:  \n",
        "          self.w = copy.deepcopy(w_best)\n",
        "          self.b = copy.deepcopy(b_best)  \n",
        "          break\n",
        "\n",
        "  def Cross_validation(self, val_split):\n",
        "\n",
        "    if (self.val_distribution == 'balanced'):\n",
        "      X_train0, X_val0, y_train0, y_val0 = train_test_split(self.X_train[0], self.y_train[0], test_size=val_split)\n",
        "      X_train1, X_val1, y_train1, y_val1 = train_test_split(self.X_train[1], self.y_train[1], test_size=val_split)\n",
        "\n",
        "      X_train = np.concatenate((X_train0,X_train1),axis=0)\n",
        "      y_train = np.concatenate((y_train0,y_train1),axis=0)\n",
        "\n",
        "      X_val = np.concatenate((X_val0,X_val1),axis=0)\n",
        "      y_val = np.concatenate((y_val0,y_val1),axis=0)\n",
        "\n",
        "    elif (self.val_distribution == 'unbalanced'):\n",
        "      X_train = np.concatenate((self.X_train[0],self.X_train[1]),axis=0)\n",
        "      y_train = np.concatenate((self.y_train[0],self.y_train[1]),axis=0)\n",
        "\n",
        "      X_train, X_val, y_train, y_val = train_test_split(X_train, y_train, test_size=val_split)\n",
        "\n",
        "    X_train, y_train = self.random_shuffle(X_train, y_train)\n",
        "    self.Gradient_update(X_train, y_train, X_val, y_val)\n",
        "\n",
        "  def k_fold_cross_validation(self):\n",
        "\n",
        "    if (self.val_distribution == 'unbalanced'):\n",
        "      X_train = np.concatenate((self.X_train[0],self.X_train[1]),axis=0)\n",
        "      y_train = np.concatenate((self.y_train[0],self.y_train[1]),axis=0)\n",
        "\n",
        "      X_train_, X_train0, y_train_, y_train0 = train_test_split(X_train, y_train, test_size=round(1/self.k,2), shuffle=True)\n",
        "\n",
        "      X_train = []\n",
        "      y_train = []\n",
        "\n",
        "      X_train.append(copy.deepcopy(X_train0))\n",
        "      y_train.append(copy.deepcopy(y_train0))\n",
        "      k = self.k - 1\n",
        "\n",
        "      X_train0 = np.array_split(X_train_,k)\n",
        "      y_train0 = np.array_split(y_train_,k)\n",
        "\n",
        "      for i in range(k):\n",
        "        X_train.append(X_train0[i])\n",
        "        y_train.append(y_train0[i])\n",
        "\n",
        "    elif (self.val_distribution == 'balanced'):\n",
        "      X_train0 = np.array_split(self.X_train[0],self.k)\n",
        "      X_train1 = np.array_split(self.X_train[1],self.k)\n",
        "      y_train0 = np.array_split(self.y_train[0],self.k)\n",
        "      y_train1 = np.array_split(self.y_train[1],self.k)\n",
        "      X_train = []\n",
        "      y_train = []\n",
        "      for i in range(self.k):\n",
        "        X_train.append(np.concatenate((X_train0[i],X_train1[i]),axis=0))\n",
        "        y_train.append(np.concatenate((y_train0[i],y_train1[i]),axis=0))\n",
        "\n",
        "    if self.w.size == 0 and self.b == None:\n",
        "      w = np.zeros(self.X_train[0].shape[1])\n",
        "      b = 0\n",
        "    else:\n",
        "      w = self.w\n",
        "      b = self.b\n",
        "\n",
        "    w_list = []\n",
        "    b_list = []\n",
        "    acc_list = []\n",
        "    for i in range(self.k):\n",
        "      X_train_temp = np.zeros((1,X_train[0].shape[1]))\n",
        "      y_train_temp = np.array([])\n",
        "\n",
        "      for j in range(self.k):\n",
        "        if (j!=i):\n",
        "          X_train_temp = np.concatenate((X_train_temp,X_train[j]),axis=0)\n",
        "          y_train_temp = np.concatenate((y_train_temp,y_train[j]),axis=0)\n",
        "        else:\n",
        "          X_val = X_train[j]\n",
        "          y_val = y_train[j]\n",
        "\n",
        "\n",
        "      X_train_temp = np.delete(X_train_temp,0,0)\n",
        "      X_train_temp, y_train_temp = self.random_shuffle(X_train_temp, y_train_temp)\n",
        "      self.Gradient_update(X_train_temp, y_train_temp, X_val, y_val)\n",
        "      print(self.accuracy())\n",
        "      w_list.append(self.w)\n",
        "      b_list.append(self.b)\n",
        "\n",
        "      test_w = np.dot(X_val, self.w) - self.b\n",
        "      test_w = np.sign(test_w)\n",
        "      res_val = np.where(test_w<0,0,test_w)\n",
        "\n",
        "      acc_list.append(accuracy_score(y_val, res_val))\n",
        "    \n",
        "      self.w = w\n",
        "      self.b = b\n",
        "\n",
        "    self.w = w_list[acc_list.index(max(acc_list))]  \n",
        "    self.b = b_list[acc_list.index(max(acc_list))]\n",
        "  \n",
        "\n",
        "  def fit(self):\n",
        "    if self.val_type == 'k_fold' and self.val:\n",
        "      self.k_fold_cross_validation()\n",
        "    \n",
        "    elif self.val_type == 'cross_val' and self.val:\n",
        "      self.Cross_validation(0.2)\n",
        "    \n",
        "    elif not self.val:\n",
        "      X_train = np.concatenate((self.X_train[0],self.X_train[1]),axis=0)\n",
        "      y_train = np.concatenate((self.y_train[0],self.y_train[1]),axis=0)\n",
        "      X_train, y_train = self.random_shuffle(X_train, y_train)\n",
        "      self.Gradient_update(X_train, y_train)\n",
        "\n",
        "  def random_shuffle(self, X_train, y_train):\n",
        "    self.x_tr, self.x_te, self.y_tr, self.y_te = train_test_split(X_train,y_train,test_size=0.5)\n",
        "    return np.concatenate((self.x_tr, self.x_te),axis=0), np.concatenate((self.y_tr, self.y_te),axis=0)\n",
        "\n",
        "  def predict(self):\n",
        "     approx = np.dot(self.X_test, self.w) - self.b\n",
        "     approx = np.sign(approx)\n",
        "     return np.where(approx<0, 0, approx)\n",
        "\n",
        "  def accuracy(self):\n",
        "    return accuracy_score(self.y_test, self.predict())*100\n"
      ],
      "execution_count": null,
      "outputs": []
    },
    {
      "cell_type": "code",
      "metadata": {
        "id": "Ss0Pq4z-vrBI"
      },
      "source": [
        "class Federated_SVM:\n",
        "\n",
        "  def __init__(self, n_clients=4, val=True, val_type='k_fold', val_distribution='balanced', k=5, learning_rate=0.001, lambda_param=0.01, n_iters=100):\n",
        "    self.n_clients = n_clients\n",
        "    self.learning_rate = learning_rate\n",
        "    self.lambda_param = lambda_param\n",
        "    self.n_iters = n_iters\n",
        "    self.val = val\n",
        "    self.val_type = val_type\n",
        "    self.val_distribution = val_distribution\n",
        "    self.client_distribution = []\n",
        "    self.k = k\n",
        "    self.X_test = None\n",
        "    self.y_test = None\n",
        "    \n",
        "  def create_clients(self, X_train, y_train, X_test, y_test):\n",
        "    self.clients=[]\n",
        "    for i in range(self.n_clients):\n",
        "      self.client_distribution.append(X_train[i][0].shape[0] + X_train[i][1].shape[0])\n",
        "      self.clients.append(SVM(X_train[i],y_train[i], X_test, y_test, self.val, self.val_type, self.val_distribution, self.k, self.learning_rate, self.lambda_param, self.n_iters))\n",
        "    self.X_test = copy.deepcopy(X_test)\n",
        "    self.y_test = copy.deepcopy(y_test)\n",
        "  \n",
        "\n",
        "  def average_aggregator(self, parameter_list):\n",
        "    w = np.zeros(parameter_list[0].shape[0])\n",
        "    b = 0\n",
        "    for i in range(0,2*self.n_clients,2):\n",
        "        w = np.add(w,parameter_list[i]*self.client_distribution[i//2]/sum(self.client_distribution))\n",
        "    b = b + parameter_list[i+1]\n",
        "    return (w, b/self.n_clients)\n",
        "\n",
        "  def fit(self, g_iters, aggregator):\n",
        "    for i in range(0,g_iters):\n",
        "      print('global round',i+1)\n",
        "      for j in range(0,self.n_clients):\n",
        "        if i==0:\n",
        "          self.clients[j].fit()\n",
        "        else:\n",
        "          self.clients[j].w = w_agg\n",
        "          self.clients[j].b = b_agg\n",
        "          self.clients[j].fit()\n",
        "        print('client',j+1,self.clients[j].accuracy())          \n",
        "      parameter_list = []\n",
        "      for k in range(0,self.n_clients):\n",
        "        parameter_list.append(self.clients[k].w)\n",
        "        parameter_list.append(self.clients[k].b)\n",
        "      w_agg, b_agg = aggregator(parameter_list)\n",
        "      print('global test acc',self.accuracy(w_agg,b_agg))\n",
        "\n",
        "  def predict(self,w,b):\n",
        "     approx = np.dot(self.X_test, w) - b\n",
        "     approx = np.sign(approx)\n",
        "     return np.where(approx<0, 0, 1)\n",
        "  \n",
        "  def accuracy(self,w,b):\n",
        "    return accuracy_score(self.y_test, self.predict(w,b))*100\n"
      ],
      "execution_count": null,
      "outputs": []
    },
    {
      "cell_type": "code",
      "metadata": {
        "id": "nzD8VkRKszE_"
      },
      "source": [
        "def create_kmeans_clusters(X, Y, n_clusters = 3, random_state = 0):\n",
        "  clusters = KMeans(n_clusters=n_clusters, random_state=random_state).fit_predict(X)\n",
        "  result = []\n",
        "  for i in range(n_clusters):\n",
        "    result.append(X[clusters == i])\n",
        "    result.append(Y[clusters == i])\n",
        "  return tuple(result)  "
      ],
      "execution_count": null,
      "outputs": []
    },
    {
      "cell_type": "code",
      "metadata": {
        "id": "6zQ6k0OHKCkr"
      },
      "source": [
        "def load_mnist_return_required_digits(n1, n2):\n",
        "  # Loading the mnist dataset and concatenating train - test sets\n",
        "  (x_train, y_train), (x_test, y_test) = tf.keras.datasets.mnist.load_data()\n",
        "  x_total = np.concatenate((x_train, x_test), axis=0)\n",
        "  y_total = np.concatenate((y_train, y_test), axis=0)\n",
        "\n",
        "  # Normalizing and reshaping the data\n",
        "  x_total = x_total/255 \n",
        "  x_total = x_total.reshape(x_total.shape[0],784)\n",
        "\n",
        "  x_n1 = x_total[y_total == n1]\n",
        "  y_n1 = y_total[y_total == n1]\n",
        "\n",
        "  x_n2 = x_total[y_total == n2]\n",
        "  y_n2 = y_total[y_total == n2]\n",
        "\n",
        "  return [(x_n1, y_n1),(x_n2, y_n2)]"
      ],
      "execution_count": null,
      "outputs": []
    },
    {
      "cell_type": "markdown",
      "metadata": {
        "id": "3ZYTCp6khPHN"
      },
      "source": [
        "# Digits 0 and 6"
      ]
    },
    {
      "cell_type": "markdown",
      "metadata": {
        "id": "SSMoNotAhz8A"
      },
      "source": [
        "### Loading the data of 0 and 6"
      ]
    },
    {
      "cell_type": "code",
      "metadata": {
        "id": "tV5qcnb_MM3v"
      },
      "source": [
        "data = load_mnist_return_required_digits(0, 6)"
      ],
      "execution_count": null,
      "outputs": []
    },
    {
      "cell_type": "markdown",
      "metadata": {
        "id": "hsFsh5QIiJRc"
      },
      "source": [
        "### Dividing the data of digits 0 and 6 into clusters using the KMeans algorithm\n",
        "The images of 0 and 6 are divided into 3 three clusters each."
      ]
    },
    {
      "cell_type": "code",
      "metadata": {
        "colab": {
          "base_uri": "https://localhost:8080/",
          "height": 179
        },
        "id": "tYP43OPf8zpF",
        "outputId": "b644292c-dc6e-4bc5-caf0-fcc4a1cf12ad"
      },
      "source": [
        "x_0_c1, y_0_c1, x_0_c2, y_0_c2, x_0_c3, y_0_c3 = create_kmeans_clusters(data[0][0], data[0][1])\n",
        "fig, axs = plt.subplots(1, 3)\n",
        "axs[0].imshow(x_0_c1[0].reshape(28,28),cmap='gray')\n",
        "axs[0].set_title('Cluster 1')\n",
        "axs[1].imshow(x_0_c2[0].reshape(28,28),cmap='gray')\n",
        "axs[1].set_title('Cluster 2')\n",
        "axs[2].imshow(x_0_c3[0].reshape(28,28),cmap='gray')\n",
        "axs[2].set_title('Cluster 3')"
      ],
      "execution_count": null,
      "outputs": [
        {
          "output_type": "execute_result",
          "data": {
            "text/plain": [
              "Text(0.5, 1.0, 'Cluster 3')"
            ]
          },
          "metadata": {
            "tags": []
          },
          "execution_count": 7
        },
        {
          "output_type": "display_data",
          "data": {
            "image/png": "[encoded data removed]",
            "text/plain": [
              "<Figure size 432x288 with 3 Axes>"
            ]
          },
          "metadata": {
            "tags": []
          }
        }
      ]
    },
    {
      "cell_type": "code",
      "metadata": {
        "colab": {
          "base_uri": "https://localhost:8080/",
          "height": 179
        },
        "id": "n7ZcxVxK8ezZ",
        "outputId": "d31bbd6c-7620-4f3a-fcf5-1c8f0a5ef681"
      },
      "source": [
        "x_6_c1, y_6_c1, x_6_c2, y_6_c2, x_6_c3, y_6_c3 = create_kmeans_clusters(data[1][0], data[1][1])\n",
        "fig, axs = plt.subplots(1, 3)\n",
        "axs[0].imshow(x_6_c1[0].reshape(28,28),cmap='gray')\n",
        "axs[0].set_title('Cluster 1')\n",
        "axs[1].imshow(x_6_c2[0].reshape(28,28),cmap='gray')\n",
        "axs[1].set_title('Cluster 2')\n",
        "axs[2].imshow(x_6_c3[0].reshape(28,28),cmap='gray')\n",
        "axs[2].set_title('Cluster 3')"
      ],
      "execution_count": null,
      "outputs": [
        {
          "output_type": "execute_result",
          "data": {
            "text/plain": [
              "Text(0.5, 1.0, 'Cluster 3')"
            ]
          },
          "metadata": {
            "tags": []
          },
          "execution_count": 8
        },
        {
          "output_type": "display_data",
          "data": {
            "image/png": "[encoded data removed]",
            "text/plain": [
              "<Figure size 432x288 with 3 Axes>"
            ]
          },
          "metadata": {
            "tags": []
          }
        }
      ]
    },
    {
      "cell_type": "markdown",
      "metadata": {
        "id": "VxJzKmEnj-RY"
      },
      "source": [
        "### Creation of individual train sets for the clients, global train set for the SVM model and a global test set containing the data from all the clusters\n",
        "\n"
      ]
    },
    {
      "cell_type": "code",
      "metadata": {
        "id": "OE-dseaI_O44"
      },
      "source": [
        "X_train0_c1, X_test0_c1, y_train0_c1, y_test0_c1 = train_test_split(x_0_c1,y_0_c1,test_size=0.2)\n",
        "X_train0_c2, X_test0_c2, y_train0_c2, y_test0_c2 = train_test_split(x_0_c2,y_0_c2,test_size=0.2)\n",
        "X_train0_c3, X_test0_c3, y_train0_c3, y_test0_c3 = train_test_split(x_0_c3,y_0_c3,test_size=0.2)"
      ],
      "execution_count": null,
      "outputs": []
    },
    {
      "cell_type": "code",
      "metadata": {
        "id": "iqtbRdm5Ao2G"
      },
      "source": [
        "X_train6_c1, X_test6_c1, y_train6_c1, y_test6_c1 = train_test_split(x_6_c1,y_6_c1,test_size=0.2)\n",
        "X_train6_c2, X_test6_c2, y_train6_c2, y_test6_c2 = train_test_split(x_6_c2,y_6_c2,test_size=0.2)\n",
        "X_train6_c3, X_test6_c3, y_train6_c3, y_test6_c3 = train_test_split(x_6_c3,y_6_c3,test_size=0.2)"
      ],
      "execution_count": null,
      "outputs": []
    },
    {
      "cell_type": "code",
      "metadata": {
        "colab": {
          "base_uri": "https://localhost:8080/"
        },
        "id": "HvQQ4ZHtA0oJ",
        "outputId": "46160a5d-5452-45bc-8853-fe7d411cd275"
      },
      "source": [
        "X_test = np.concatenate((X_test0_c1,X_test0_c2,X_test0_c3,X_test6_c1,X_test6_c2,X_test6_c3),axis=0)\n",
        "y_test = np.concatenate((y_test0_c1,y_test0_c2,y_test0_c3,y_test6_c1,y_test6_c2,y_test6_c3),axis=0)\n",
        "y_test[ y_test == 0] = 0\n",
        "y_test[ y_test == 6] = 1\n",
        "print(X_test.shape)\n",
        "print(y_test.shape)"
      ],
      "execution_count": null,
      "outputs": [
        {
          "output_type": "stream",
          "text": [
            "(2758, 784)\n",
            "(2758,)\n"
          ],
          "name": "stdout"
        }
      ]
    },
    {
      "cell_type": "code",
      "metadata": {
        "id": "rkwwNpr2TDFQ"
      },
      "source": [
        "X_train_c1 = [X_train0_c1, X_train6_c1]\n",
        "y_train_c1 = [y_train0_c1, y_train6_c1]\n",
        "y_train_c1[0][:] = 0\n",
        "y_train_c1[1][:] = 1\n",
        "X_train_c2 = [X_train0_c2, X_train6_c2]\n",
        "y_train_c2 = [y_train0_c2, y_train6_c2]\n",
        "y_train_c2[0][:] = 0\n",
        "y_train_c2[1][:] = 1\n",
        "X_train_c3 = [X_train0_c3, X_train6_c3]\n",
        "y_train_c3 = [y_train0_c3, y_train6_c3]\n",
        "y_train_c3[0][:] = 0\n",
        "y_train_c3[1][:] = 1"
      ],
      "execution_count": null,
      "outputs": []
    },
    {
      "cell_type": "code",
      "metadata": {
        "id": "vV2l41bxF2qN"
      },
      "source": [
        "X_train0_gl = np.concatenate((X_train_c1[0],X_train_c2[0],X_train_c3[0]),axis=0)\n",
        "X_train1_gl = np.concatenate((X_train_c1[1],X_train_c2[1],X_train_c3[1]),axis=0)\n",
        "y_train0_gl = np.concatenate((y_train_c1[0],y_train_c2[0],y_train_c3[0]),axis=0)\n",
        "y_train1_gl = np.concatenate((y_train_c1[1],y_train_c2[1],y_train_c3[1]),axis=0)"
      ],
      "execution_count": null,
      "outputs": []
    },
    {
      "cell_type": "markdown",
      "metadata": {
        "id": "mqQTKxHflCp0"
      },
      "source": [
        "### Federated learning model and SVM model training"
      ]
    },
    {
      "cell_type": "markdown",
      "metadata": {
        "id": "2jvLMI4HmJul"
      },
      "source": [
        "#### Training the models without validation"
      ]
    },
    {
      "cell_type": "code",
      "metadata": {
        "id": "ul3Xy7F_0dRg"
      },
      "source": [
        "f_svm = Federated_SVM(n_clients = 3, val=False)\n",
        "f_svm.create_clients([X_train_c1,X_train_c2,X_train_c3],[y_train_c1,y_train_c2,y_train_c3],X_test,y_test)\n",
        "clients = copy.deepcopy(f_svm.clients)"
      ],
      "execution_count": null,
      "outputs": []
    },
    {
      "cell_type": "code",
      "metadata": {
        "colab": {
          "base_uri": "https://localhost:8080/"
        },
        "id": "fDyoq_ak0h5j",
        "outputId": "c4996603-ea6f-4a9c-a5ed-3080081ff689"
      },
      "source": [
        "clf = SVM([X_train0_gl, X_train1_gl], [y_train0_gl, y_train1_gl], X_test, y_test, val=False)\n",
        "clf.fit()\n",
        "print(clf.accuracy())"
      ],
      "execution_count": null,
      "outputs": [
        {
          "output_type": "stream",
          "text": [
            "99.02102973168962\n"
          ],
          "name": "stdout"
        }
      ]
    },
    {
      "cell_type": "code",
      "metadata": {
        "colab": {
          "base_uri": "https://localhost:8080/"
        },
        "id": "wlXg4bnQ0lgf",
        "outputId": "5cddd5be-919b-47a9-934b-036dc36144cc"
      },
      "source": [
        "f_svm.fit(1,f_svm.average_aggregator)"
      ],
      "execution_count": null,
      "outputs": [
        {
          "output_type": "stream",
          "text": [
            "global round 1\n",
            "client 1 93.83611312545322\n",
            "client 2 90.6816533720087\n",
            "client 3 93.58230601885424\n",
            "global test acc 98.18709209572154\n"
          ],
          "name": "stdout"
        }
      ]
    },
    {
      "cell_type": "markdown",
      "metadata": {
        "id": "8NlvzgRcmkSB"
      },
      "source": [
        "#### Training the models with cross validation (balanced validation distribution)"
      ]
    },
    {
      "cell_type": "code",
      "metadata": {
        "id": "wZJwB5ARYsYq"
      },
      "source": [
        "f_svm = Federated_SVM(n_clients = 3, val=True, val_type='cross_val', val_distribution='balanced')\n",
        "f_svm.create_clients([X_train_c1,X_train_c2,X_train_c3],[y_train_c1,y_train_c2,y_train_c3],X_test,y_test)\n",
        "clients = copy.deepcopy(f_svm.clients)"
      ],
      "execution_count": null,
      "outputs": []
    },
    {
      "cell_type": "code",
      "metadata": {
        "colab": {
          "base_uri": "https://localhost:8080/"
        },
        "id": "YruRJupkhrpv",
        "outputId": "992920b5-80c4-4fcf-9fb9-d9e71ba06518"
      },
      "source": [
        "clf = SVM([X_train0_gl, X_train1_gl], [y_train0_gl, y_train1_gl], X_test, y_test, val=True, val_type='cross_val', val_distribution='balanced')\n",
        "clf.fit()\n",
        "print(clf.accuracy())"
      ],
      "execution_count": null,
      "outputs": [
        {
          "output_type": "stream",
          "text": [
            "99.02102973168962\n"
          ],
          "name": "stdout"
        }
      ]
    },
    {
      "cell_type": "code",
      "metadata": {
        "colab": {
          "base_uri": "https://localhost:8080/"
        },
        "id": "zUxmvy962UHi",
        "outputId": "dd40dbc9-b7e7-44fa-e16b-12e53f0dc8dd"
      },
      "source": [
        "f_svm.fit(1,f_svm.average_aggregator)"
      ],
      "execution_count": null,
      "outputs": [
        {
          "output_type": "stream",
          "text": [
            "global round 1\n",
            "client 1 93.5097897026831\n",
            "client 2 91.08049311094997\n",
            "client 3 91.80565627266135\n",
            "global test acc 97.89702683103698\n"
          ],
          "name": "stdout"
        }
      ]
    },
    {
      "cell_type": "markdown",
      "metadata": {
        "id": "YQdJmUOGmtMk"
      },
      "source": [
        "#### Training the models with cross validation (unbalanced validation distribution)"
      ]
    },
    {
      "cell_type": "code",
      "metadata": {
        "id": "T5RYbKyg2EkT"
      },
      "source": [
        "f_svm = Federated_SVM(n_clients = 3, val=True, val_type='cross_val', val_distribution='unbalanced')\n",
        "f_svm.create_clients([X_train_c1,X_train_c2,X_train_c3],[y_train_c1,y_train_c2,y_train_c3],X_test,y_test)\n",
        "clients = copy.deepcopy(f_svm.clients)"
      ],
      "execution_count": null,
      "outputs": []
    },
    {
      "cell_type": "code",
      "metadata": {
        "colab": {
          "base_uri": "https://localhost:8080/"
        },
        "id": "2Fp2HSHp2EwP",
        "outputId": "e8f8ab12-e38e-4add-f8dc-170a179b7a50"
      },
      "source": [
        "clf = SVM([X_train0_gl, X_train1_gl], [y_train0_gl, y_train1_gl], X_test, y_test, val=True, val_type='cross_val', val_distribution='unbalanced')\n",
        "clf.fit()\n",
        "print(clf.accuracy())"
      ],
      "execution_count": null,
      "outputs": [
        {
          "output_type": "stream",
          "text": [
            "99.0572878897752\n"
          ],
          "name": "stdout"
        }
      ]
    },
    {
      "cell_type": "code",
      "metadata": {
        "colab": {
          "base_uri": "https://localhost:8080/"
        },
        "id": "fhJ5YgoB2E4W",
        "outputId": "6dcd6ebe-2d78-40d2-b825-aae6bc87b503"
      },
      "source": [
        "f_svm.fit(1,f_svm.average_aggregator)"
      ],
      "execution_count": null,
      "outputs": [
        {
          "output_type": "stream",
          "text": [
            "global round 1\n",
            "client 1 94.63379260333575\n",
            "client 2 90.9354604786077\n",
            "client 3 93.1472081218274\n",
            "global test acc 98.22335025380711\n"
          ],
          "name": "stdout"
        }
      ]
    },
    {
      "cell_type": "markdown",
      "metadata": {
        "id": "b0gTkvMXnV8C"
      },
      "source": [
        "#### Training the models with 5 fold cross validation (balanced validation distribution)"
      ]
    },
    {
      "cell_type": "code",
      "metadata": {
        "id": "P0mUkPuD_GcR"
      },
      "source": [
        "f_svm = Federated_SVM(n_clients = 3, val=True, val_type='k_fold', val_distribution='balanced', k=5)\n",
        "f_svm.create_clients([X_train_c1,X_train_c2,X_train_c3],[y_train_c1,y_train_c2,y_train_c3],X_test,y_test)\n",
        "clients = copy.deepcopy(f_svm.clients)"
      ],
      "execution_count": null,
      "outputs": []
    },
    {
      "cell_type": "code",
      "metadata": {
        "colab": {
          "base_uri": "https://localhost:8080/"
        },
        "id": "N1sjhXps_Gn5",
        "outputId": "a6898e72-641b-421b-bb7d-0ba589af0655"
      },
      "source": [
        "clf = SVM([X_train0_gl, X_train1_gl], [y_train0_gl, y_train1_gl], X_test, y_test, val=True, val_type='k_fold', val_distribution='balanced', k=5)\n",
        "clf.fit()\n",
        "print(clf.accuracy())"
      ],
      "execution_count": null,
      "outputs": [
        {
          "output_type": "stream",
          "text": [
            "99.02102973168962\n",
            "99.0572878897752\n",
            "99.02102973168962\n",
            "98.94851341551849\n",
            "98.65844815083393\n",
            "98.73096446700508\n"
          ],
          "name": "stdout"
        }
      ]
    },
    {
      "cell_type": "code",
      "metadata": {
        "colab": {
          "base_uri": "https://localhost:8080/"
        },
        "id": "QvmVMObE_HTW",
        "outputId": "076ff241-9220-447f-bc72-94bac7648002"
      },
      "source": [
        "f_svm.fit(1,f_svm.average_aggregator)"
      ],
      "execution_count": null,
      "outputs": [
        {
          "output_type": "stream",
          "text": [
            "global round 1\n",
            "93.76359680928209\n",
            "94.08992023205222\n",
            "94.52501812907904\n",
            "93.65482233502537\n",
            "93.25598259608412\n",
            "client 1 92.929659173314\n",
            "89.66642494561276\n",
            "90.1015228426396\n",
            "91.55184916606235\n",
            "90.82668600435098\n",
            "91.1530094271211\n",
            "client 2 89.66642494561276\n",
            "93.36475707034083\n",
            "94.05366207396663\n",
            "92.74836838288614\n",
            "92.929659173314\n",
            "93.32849891225526\n",
            "client 3 93.5097897026831\n",
            "global test acc 98.15083393763598\n"
          ],
          "name": "stdout"
        }
      ]
    },
    {
      "cell_type": "markdown",
      "metadata": {
        "id": "bymMOGThnjNb"
      },
      "source": [
        "#### Training the models with 5 fold cross validation (unbalanced validation distribution)"
      ]
    },
    {
      "cell_type": "code",
      "metadata": {
        "id": "rWvSTu6O_H4V"
      },
      "source": [
        "f_svm = Federated_SVM(n_clients = 3, val=True, val_type='k_fold', val_distribution='unbalanced', k=5)\n",
        "f_svm.create_clients([X_train_c1,X_train_c2,X_train_c3],[y_train_c1,y_train_c2,y_train_c3],X_test,y_test)\n",
        "clients = copy.deepcopy(f_svm.clients)"
      ],
      "execution_count": null,
      "outputs": []
    },
    {
      "cell_type": "code",
      "metadata": {
        "colab": {
          "background_save": true,
          "base_uri": "https://localhost:8080/"
        },
        "id": "mqO3bBUY_H-x",
        "outputId": "1112ef33-7246-4d79-c5bc-79207ab1928d"
      },
      "source": [
        "clf = SVM([X_train0_gl, X_train1_gl], [y_train0_gl, y_train1_gl], X_test, y_test, val=True, val_type='k_fold', val_distribution='unbalanced', k=5)\n",
        "clf.fit()\n",
        "print(clf.accuracy())"
      ],
      "execution_count": null,
      "outputs": [
        {
          "output_type": "stream",
          "text": [
            "98.87599709934736\n",
            "99.1660623640319\n",
            "99.02102973168962\n",
            "98.98477157360406\n",
            "99.02102973168962\n",
            "99.02102973168962\n"
          ],
          "name": "stdout"
        }
      ]
    },
    {
      "cell_type": "code",
      "metadata": {
        "colab": {
          "background_save": true
        },
        "id": "q4U-0hx__IFX",
        "outputId": "0615a37e-d40d-4b19-f707-8d310943ce80"
      },
      "source": [
        "f_svm.fit(1,f_svm.average_aggregator)"
      ],
      "execution_count": null,
      "outputs": [
        {
          "output_type": "stream",
          "text": [
            "global round 1\n",
            "95.03263234227701\n",
            "93.25598259608412\n",
            "93.18346627991299\n",
            "92.67585206671501\n",
            "93.83611312545322\n",
            "client 1 93.8723712835388\n",
            "90.75416968817984\n",
            "92.13197969543148\n",
            "90.35532994923858\n",
            "89.81145757795504\n",
            "91.7331399564902\n",
            "client 2 90.75416968817984\n",
            "92.13197969543148\n",
            "93.4010152284264\n",
            "93.8723712835388\n",
            "93.18346627991299\n",
            "91.7331399564902\n",
            "client 3 92.38578680203045\n",
            "global test acc 98.22335025380711\n"
          ],
          "name": "stdout"
        }
      ]
    },
    {
      "cell_type": "markdown",
      "metadata": {
        "id": "ujC1N29CrvmS"
      },
      "source": [
        "# Digits 3 and 8"
      ]
    },
    {
      "cell_type": "markdown",
      "metadata": {
        "id": "lQLYCuk0rvmT"
      },
      "source": [
        "### Loading the data of 3 and 8"
      ]
    },
    {
      "cell_type": "code",
      "metadata": {
        "colab": {
          "base_uri": "https://localhost:8080/"
        },
        "id": "8KR9u9htrvmT",
        "outputId": "e7006e4c-9058-432a-b6fa-319ab1c3a836"
      },
      "source": [
        "data = load_mnist_return_required_digits(3, 8)"
      ],
      "execution_count": null,
      "outputs": [
        {
          "output_type": "stream",
          "text": [
            "Downloading data from https://storage.googleapis.com/tensorflow/tf-keras-datasets/mnist.npz\n",
            "11493376/11490434 [==============================] - 0s 0us/step\n"
          ],
          "name": "stdout"
        }
      ]
    },
    {
      "cell_type": "markdown",
      "metadata": {
        "id": "qUY22RmCrvmU"
      },
      "source": [
        "### Dividing the data of digits 3 and 8 into clusters using the KMeans algorithm\n",
        "The images of 3 and 8 are divided into 3 three clusters each."
      ]
    },
    {
      "cell_type": "code",
      "metadata": {
        "colab": {
          "base_uri": "https://localhost:8080/",
          "height": 179
        },
        "id": "DT9oR2p-rvmU",
        "outputId": "7ede556d-fd8a-47d1-ef31-6bb0a1c96bb3"
      },
      "source": [
        "x_0_c1, y_0_c1, x_0_c2, y_0_c2, x_0_c3, y_0_c3 = create_kmeans_clusters(data[0][0], data[0][1])\n",
        "fig, axs = plt.subplots(1, 3)\n",
        "axs[0].imshow(x_0_c1[0].reshape(28,28),cmap='gray')\n",
        "axs[0].set_title('Cluster 1')\n",
        "axs[1].imshow(x_0_c2[0].reshape(28,28),cmap='gray')\n",
        "axs[1].set_title('Cluster 2')\n",
        "axs[2].imshow(x_0_c3[0].reshape(28,28),cmap='gray')\n",
        "axs[2].set_title('Cluster 3')"
      ],
      "execution_count": null,
      "outputs": [
        {
          "output_type": "execute_result",
          "data": {
            "text/plain": [
              "Text(0.5, 1.0, 'Cluster 3')"
            ]
          },
          "metadata": {
            "tags": []
          },
          "execution_count": 7
        },
        {
          "output_type": "display_data",
          "data": {
            "image/png": "[encoded data removed]",
            "text/plain": [
              "<Figure size 432x288 with 3 Axes>"
            ]
          },
          "metadata": {
            "tags": [],
            "needs_background": "light"
          }
        }
      ]
    },
    {
      "cell_type": "code",
      "metadata": {
        "colab": {
          "base_uri": "https://localhost:8080/",
          "height": 179
        },
        "id": "-1nzWuCMrvmW",
        "outputId": "173af40a-ce86-4186-f581-c9fa1255af7c"
      },
      "source": [
        "x_6_c1, y_6_c1, x_6_c2, y_6_c2, x_6_c3, y_6_c3 = create_kmeans_clusters(data[1][0], data[1][1])\n",
        "fig, axs = plt.subplots(1, 3)\n",
        "axs[0].imshow(x_6_c1[0].reshape(28,28),cmap='gray')\n",
        "axs[0].set_title('Cluster 1')\n",
        "axs[1].imshow(x_6_c2[0].reshape(28,28),cmap='gray')\n",
        "axs[1].set_title('Cluster 2')\n",
        "axs[2].imshow(x_6_c3[0].reshape(28,28),cmap='gray')\n",
        "axs[2].set_title('Cluster 3')"
      ],
      "execution_count": null,
      "outputs": [
        {
          "output_type": "execute_result",
          "data": {
            "text/plain": [
              "Text(0.5, 1.0, 'Cluster 3')"
            ]
          },
          "metadata": {
            "tags": []
          },
          "execution_count": 8
        },
        {
          "output_type": "display_data",
          "data": {
            "image/png": "[encoded data removed]",
            "text/plain": [
              "<Figure size 432x288 with 3 Axes>"
            ]
          },
          "metadata": {
            "tags": [],
            "needs_background": "light"
          }
        }
      ]
    },
    {
      "cell_type": "markdown",
      "metadata": {
        "id": "SBm1X_wQrvmX"
      },
      "source": [
        "### Creation of individual train sets for the clients, global train set for the SVM model and a global test set containing the data from all the clusters\n",
        "\n"
      ]
    },
    {
      "cell_type": "code",
      "metadata": {
        "id": "kn1W2VAUrvmY"
      },
      "source": [
        "X_train0_c1, X_test0_c1, y_train0_c1, y_test0_c1 = train_test_split(x_0_c1,y_0_c1,test_size=0.2)\n",
        "X_train0_c2, X_test0_c2, y_train0_c2, y_test0_c2 = train_test_split(x_0_c2,y_0_c2,test_size=0.2)\n",
        "X_train0_c3, X_test0_c3, y_train0_c3, y_test0_c3 = train_test_split(x_0_c3,y_0_c3,test_size=0.2)"
      ],
      "execution_count": null,
      "outputs": []
    },
    {
      "cell_type": "code",
      "metadata": {
        "id": "Ij8GpL6BrvmY"
      },
      "source": [
        "X_train6_c1, X_test6_c1, y_train6_c1, y_test6_c1 = train_test_split(x_6_c1,y_6_c1,test_size=0.2)\n",
        "X_train6_c2, X_test6_c2, y_train6_c2, y_test6_c2 = train_test_split(x_6_c2,y_6_c2,test_size=0.2)\n",
        "X_train6_c3, X_test6_c3, y_train6_c3, y_test6_c3 = train_test_split(x_6_c3,y_6_c3,test_size=0.2)"
      ],
      "execution_count": null,
      "outputs": []
    },
    {
      "cell_type": "code",
      "metadata": {
        "colab": {
          "base_uri": "https://localhost:8080/"
        },
        "id": "Uus4BenwrvmZ",
        "outputId": "a7ac2f1f-2c38-454f-bbe1-6cfa5501097d"
      },
      "source": [
        "X_test = np.concatenate((X_test0_c1,X_test0_c2,X_test0_c3,X_test6_c1,X_test6_c2,X_test6_c3),axis=0)\n",
        "y_test = np.concatenate((y_test0_c1,y_test0_c2,y_test0_c3,y_test6_c1,y_test6_c2,y_test6_c3),axis=0)\n",
        "y_test[ y_test == 3] = 0\n",
        "y_test[ y_test == 8] = 1\n",
        "print(X_test.shape)\n",
        "print(y_test.shape)"
      ],
      "execution_count": null,
      "outputs": [
        {
          "output_type": "stream",
          "text": [
            "(2795, 784)\n",
            "(2795,)\n"
          ],
          "name": "stdout"
        }
      ]
    },
    {
      "cell_type": "code",
      "metadata": {
        "id": "Z3cSvcrhrvmZ"
      },
      "source": [
        "X_train_c1 = [X_train0_c1, X_train6_c1]\n",
        "y_train_c1 = [y_train0_c1, y_train6_c1]\n",
        "y_train_c1[0][:] = 0\n",
        "y_train_c1[1][:] = 1\n",
        "X_train_c2 = [X_train0_c2, X_train6_c2]\n",
        "y_train_c2 = [y_train0_c2, y_train6_c2]\n",
        "y_train_c2[0][:] = 0\n",
        "y_train_c2[1][:] = 1\n",
        "X_train_c3 = [X_train0_c3, X_train6_c3]\n",
        "y_train_c3 = [y_train0_c3, y_train6_c3]\n",
        "y_train_c3[0][:] = 0\n",
        "y_train_c3[1][:] = 1"
      ],
      "execution_count": null,
      "outputs": []
    },
    {
      "cell_type": "code",
      "metadata": {
        "id": "gdPATqzErvma"
      },
      "source": [
        "X_train0_gl = np.concatenate((X_train_c1[0],X_train_c2[0],X_train_c3[0]),axis=0)\n",
        "X_train1_gl = np.concatenate((X_train_c1[1],X_train_c2[1],X_train_c3[1]),axis=0)\n",
        "y_train0_gl = np.concatenate((y_train_c1[0],y_train_c2[0],y_train_c3[0]),axis=0)\n",
        "y_train1_gl = np.concatenate((y_train_c1[1],y_train_c2[1],y_train_c3[1]),axis=0)"
      ],
      "execution_count": null,
      "outputs": []
    },
    {
      "cell_type": "markdown",
      "metadata": {
        "id": "lFZmdlZdrvma"
      },
      "source": [
        "### Federated learning model and SVM model training"
      ]
    },
    {
      "cell_type": "markdown",
      "metadata": {
        "id": "OPXg8v9Wrvma"
      },
      "source": [
        "#### Training the models without validation"
      ]
    },
    {
      "cell_type": "code",
      "metadata": {
        "id": "N_SI5Tfdrvmb"
      },
      "source": [
        "f_svm = Federated_SVM(n_clients = 3, val=False)\n",
        "f_svm.create_clients([X_train_c1,X_train_c2,X_train_c3],[y_train_c1,y_train_c2,y_train_c3],X_test,y_test)\n",
        "clients = copy.deepcopy(f_svm.clients)"
      ],
      "execution_count": null,
      "outputs": []
    },
    {
      "cell_type": "code",
      "metadata": {
        "colab": {
          "base_uri": "https://localhost:8080/"
        },
        "id": "Vlj_kk4-rvmb",
        "outputId": "1bfaf125-3310-4fff-94d5-6f1e21f32bdd"
      },
      "source": [
        "clf = SVM([X_train0_gl, X_train1_gl], [y_train0_gl, y_train1_gl], X_test, y_test, val=False)\n",
        "clf.fit()\n",
        "print(clf.accuracy())"
      ],
      "execution_count": null,
      "outputs": [
        {
          "output_type": "stream",
          "text": [
            "97.13774597495528\n"
          ],
          "name": "stdout"
        }
      ]
    },
    {
      "cell_type": "code",
      "metadata": {
        "colab": {
          "base_uri": "https://localhost:8080/"
        },
        "id": "m0RzpTYTrvmc",
        "outputId": "cfccf20d-7250-483e-e035-06b83216971a"
      },
      "source": [
        "f_svm.fit(1,f_svm.average_aggregator)"
      ],
      "execution_count": null,
      "outputs": [
        {
          "output_type": "stream",
          "text": [
            "global round 1\n",
            "client 1 77.74597495527729\n",
            "client 2 80.7871198568873\n",
            "client 3 73.05903398926654\n",
            "global test acc 94.16815742397138\n"
          ],
          "name": "stdout"
        }
      ]
    },
    {
      "cell_type": "markdown",
      "metadata": {
        "id": "cR_qfj9Srvmf"
      },
      "source": [
        "#### Training the models with cross validation (balanced validation distribution)"
      ]
    },
    {
      "cell_type": "code",
      "metadata": {
        "id": "yc1Lkz-Crvmg"
      },
      "source": [
        "f_svm = Federated_SVM(n_clients = 3, val=True, val_type='cross_val', val_distribution='balanced')\n",
        "f_svm.create_clients([X_train_c1,X_train_c2,X_train_c3],[y_train_c1,y_train_c2,y_train_c3],X_test,y_test)\n",
        "clients = copy.deepcopy(f_svm.clients)"
      ],
      "execution_count": null,
      "outputs": []
    },
    {
      "cell_type": "code",
      "metadata": {
        "colab": {
          "base_uri": "https://localhost:8080/"
        },
        "id": "LAfSZHVlrvmg",
        "outputId": "814c9d22-786f-4923-dfc6-f5ae1d2acec9"
      },
      "source": [
        "clf = SVM([X_train0_gl, X_train1_gl], [y_train0_gl, y_train1_gl], X_test, y_test, val=True, val_type='cross_val', val_distribution='balanced')\n",
        "clf.fit()\n",
        "print(clf.accuracy())"
      ],
      "execution_count": null,
      "outputs": [
        {
          "output_type": "stream",
          "text": [
            "97.20930232558139\n"
          ],
          "name": "stdout"
        }
      ]
    },
    {
      "cell_type": "code",
      "metadata": {
        "colab": {
          "base_uri": "https://localhost:8080/"
        },
        "id": "ze2mexf8rvmh",
        "outputId": "8c88e7c6-c3ec-4609-ef97-bfc2dd0cb1dc"
      },
      "source": [
        "f_svm.fit(1,f_svm.average_aggregator)"
      ],
      "execution_count": null,
      "outputs": [
        {
          "output_type": "stream",
          "text": [
            "global round 1\n",
            "client 1 79.53488372093022\n",
            "client 2 80.10733452593918\n",
            "client 3 74.23971377459749\n",
            "global test acc 94.63327370304114\n"
          ],
          "name": "stdout"
        }
      ]
    },
    {
      "cell_type": "markdown",
      "metadata": {
        "id": "IO35tRrnrvmi"
      },
      "source": [
        "#### Training the models with cross validation (unbalanced validation distribution)"
      ]
    },
    {
      "cell_type": "code",
      "metadata": {
        "id": "fpkbD1bPrvmi"
      },
      "source": [
        "f_svm = Federated_SVM(n_clients = 3, val=True, val_type='cross_val', val_distribution='unbalanced')\n",
        "f_svm.create_clients([X_train_c1,X_train_c2,X_train_c3],[y_train_c1,y_train_c2,y_train_c3],X_test,y_test)\n",
        "clients = copy.deepcopy(f_svm.clients)"
      ],
      "execution_count": null,
      "outputs": []
    },
    {
      "cell_type": "code",
      "metadata": {
        "id": "30s52TpXrvmi",
        "colab": {
          "base_uri": "https://localhost:8080/"
        },
        "outputId": "0ae3a735-ae35-4401-82e7-b10946e21936"
      },
      "source": [
        "clf = SVM([X_train0_gl, X_train1_gl], [y_train0_gl, y_train1_gl], X_test, y_test, val=True, val_type='cross_val', val_distribution='unbalanced')\n",
        "clf.fit()\n",
        "print(clf.accuracy())"
      ],
      "execution_count": null,
      "outputs": [
        {
          "output_type": "stream",
          "text": [
            "96.95885509838999\n"
          ],
          "name": "stdout"
        }
      ]
    },
    {
      "cell_type": "code",
      "metadata": {
        "id": "tS7Gn3lMrvmj",
        "colab": {
          "base_uri": "https://localhost:8080/"
        },
        "outputId": "a2ce21ff-eda0-4b75-c3be-ab27dca942e6"
      },
      "source": [
        "f_svm.fit(1,f_svm.average_aggregator)"
      ],
      "execution_count": null,
      "outputs": [
        {
          "output_type": "stream",
          "text": [
            "global round 1\n",
            "client 1 78.64042933810376\n",
            "client 2 79.28443649373882\n",
            "client 3 74.45438282647585\n",
            "global test acc 95.02683363148479\n"
          ],
          "name": "stdout"
        }
      ]
    },
    {
      "cell_type": "markdown",
      "metadata": {
        "id": "c0VaOY8Prvmj"
      },
      "source": [
        "#### Training the models with 5 fold cross validation (balanced validation distribution)"
      ]
    },
    {
      "cell_type": "code",
      "metadata": {
        "id": "yRkCVFfsrvmk"
      },
      "source": [
        "f_svm = Federated_SVM(n_clients = 3, val=True, val_type='k_fold', val_distribution='balanced', k=5)\n",
        "f_svm.create_clients([X_train_c1,X_train_c2,X_train_c3],[y_train_c1,y_train_c2,y_train_c3],X_test,y_test)\n",
        "clients = copy.deepcopy(f_svm.clients)"
      ],
      "execution_count": null,
      "outputs": []
    },
    {
      "cell_type": "code",
      "metadata": {
        "id": "pla_Y2Wirvmk",
        "colab": {
          "base_uri": "https://localhost:8080/"
        },
        "outputId": "ceba45b4-a62b-409a-d3c4-1d781a3515eb"
      },
      "source": [
        "clf = SVM([X_train0_gl, X_train1_gl], [y_train0_gl, y_train1_gl], X_test, y_test, val=True, val_type='k_fold', val_distribution='balanced', k=5)\n",
        "clf.fit()\n",
        "print(clf.accuracy())"
      ],
      "execution_count": null,
      "outputs": [
        {
          "output_type": "stream",
          "text": [
            "96.63685152057245\n",
            "96.81574239713775\n",
            "96.81574239713775\n",
            "97.0304114490161\n",
            "96.67262969588552\n",
            "96.67262969588552\n"
          ],
          "name": "stdout"
        }
      ]
    },
    {
      "cell_type": "code",
      "metadata": {
        "id": "ITo1ycZHrvml",
        "colab": {
          "base_uri": "https://localhost:8080/"
        },
        "outputId": "15cf2633-7a02-4341-f6b6-075eef1dc902"
      },
      "source": [
        "f_svm.fit(1,f_svm.average_aggregator)"
      ],
      "execution_count": null,
      "outputs": [
        {
          "output_type": "stream",
          "text": [
            "global round 1\n",
            "78.53309481216458\n",
            "79.32021466905188\n",
            "79.53488372093022\n",
            "80.0\n",
            "77.49552772808586\n",
            "client 1 77.3881932021467\n",
            "79.67799642218247\n",
            "80.17889087656529\n",
            "82.00357781753131\n",
            "80.35778175313058\n",
            "80.64400715563507\n",
            "client 2 79.67799642218247\n",
            "74.13237924865832\n",
            "73.66726296958855\n",
            "73.48837209302326\n",
            "73.38103756708408\n",
            "73.23792486583184\n",
            "client 3 74.13237924865832\n",
            "global test acc 95.2772808586762\n"
          ],
          "name": "stdout"
        }
      ]
    },
    {
      "cell_type": "markdown",
      "metadata": {
        "id": "ZF6KTuFBrvml"
      },
      "source": [
        "#### Training the models with 5 fold cross validation (unbalanced validation distribution)"
      ]
    },
    {
      "cell_type": "code",
      "metadata": {
        "id": "Q7Vht8YTrvmm"
      },
      "source": [
        "f_svm = Federated_SVM(n_clients = 3, val=True, val_type='k_fold', val_distribution='unbalanced', k=5)\n",
        "f_svm.create_clients([X_train_c1,X_train_c2,X_train_c3],[y_train_c1,y_train_c2,y_train_c3],X_test,y_test)\n",
        "clients = copy.deepcopy(f_svm.clients)"
      ],
      "execution_count": null,
      "outputs": []
    },
    {
      "cell_type": "code",
      "metadata": {
        "id": "o59tjQhgrvmm",
        "colab": {
          "base_uri": "https://localhost:8080/"
        },
        "outputId": "26d75f46-9503-499a-a939-1a77612d3f2e"
      },
      "source": [
        "clf = SVM([X_train0_gl, X_train1_gl], [y_train0_gl, y_train1_gl], X_test, y_test, val=True, val_type='k_fold', val_distribution='unbalanced', k=5)\n",
        "clf.fit()\n",
        "print(clf.accuracy())"
      ],
      "execution_count": null,
      "outputs": [
        {
          "output_type": "stream",
          "text": [
            "97.31663685152057\n",
            "96.99463327370304\n",
            "96.63685152057245\n",
            "97.0304114490161\n",
            "96.92307692307692\n",
            "96.56529516994632\n"
          ],
          "name": "stdout"
        }
      ]
    },
    {
      "cell_type": "code",
      "metadata": {
        "id": "vWHGp_oMrvmn",
        "colab": {
          "base_uri": "https://localhost:8080/"
        },
        "outputId": "e4de306f-6392-4393-85ac-e13abcf251f7"
      },
      "source": [
        "f_svm.fit(1,f_svm.average_aggregator)"
      ],
      "execution_count": null,
      "outputs": [
        {
          "output_type": "stream",
          "text": [
            "global round 1\n",
            "80.60822898032201\n",
            "79.35599284436495\n",
            "79.06976744186046\n",
            "81.25223613595706\n",
            "78.4257602862254\n",
            "client 1 80.60822898032201\n",
            "80.32200357781754\n",
            "80.89445438282648\n",
            "79.85688729874776\n",
            "79.92844364937388\n",
            "80.82289803220036\n",
            "client 2 80.25044722719142\n",
            "72.98747763864043\n",
            "73.55992844364937\n",
            "73.41681574239713\n",
            "73.34525939177102\n",
            "73.95348837209302\n",
            "client 3 72.98747763864043\n",
            "global test acc 94.77638640429338\n"
          ],
          "name": "stdout"
        }
      ]
    }
  ]
}