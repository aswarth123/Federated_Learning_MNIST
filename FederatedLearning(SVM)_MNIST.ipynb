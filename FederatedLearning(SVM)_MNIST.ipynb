{
  "nbformat": 4,
  "nbformat_minor": 0,
  "metadata": {
    "colab": {
      "name": "FederatedLearning(SVM) - MNIST",
      "provenance": [],
      "collapsed_sections": [
        "2jvLMI4HmJul",
        "8NlvzgRcmkSB",
        "stZxTwj7cYz7",
        "v_0EbN8Sc6E-",
        "NSN-WJV2d1IF"
      ],
      "include_colab_link": true
    },
    "kernelspec": {
      "display_name": "Python 3",
      "name": "python3"
    },
    "language_info": {
      "name": "python"
    }
  },
  "cells": [
    {
      "cell_type": "markdown",
      "metadata": {
        "id": "view-in-github",
        "colab_type": "text"
      },
      "source": [
        "<a href=\"https://colab.research.google.com/github/aswarth123/Federated_Learning_MNIST/blob/main/FederatedLearning(SVM)_MNIST.ipynb\" target=\"_parent\"><img src=\"https://colab.research.google.com/assets/colab-badge.svg\" alt=\"Open In Colab\"/></a>"
      ]
    },
    {
      "cell_type": "code",
      "metadata": {
        "id": "XFbvzhVst7mi"
      },
      "source": [
        "import numpy as np\n",
        "import random\n",
        "import copy\n",
        "from sklearn.metrics import accuracy_score\n",
        "from sklearn.model_selection import train_test_split\n",
        "from sklearn.cluster import KMeans\n",
        "import tensorflow as tf\n",
        "import matplotlib.pyplot as plt\n",
        "from sklearn.model_selection import StratifiedKFold\n",
        "from sklearn.utils import shuffle"
      ],
      "execution_count": 1,
      "outputs": []
    },
    {
      "cell_type": "markdown",
      "metadata": {
        "id": "OEoVNkw4XOkc"
      },
      "source": [
        "## SVM class"
      ]
    },
    {
      "cell_type": "code",
      "metadata": {
        "id": "U2b8dHySEYuu"
      },
      "source": [
        "class SVM:\n",
        "\n",
        "  def __init__(self, X_train, y_train, X_test, y_test, val=True, val_type='k_fold', k=5, opt='mini_batch_GD', batch_size = 30, n_iters=100, learning_rate=0.001, lambda_param=0.01):\n",
        "\n",
        "    self.lr = learning_rate\n",
        "    self.lambda_param = lambda_param\n",
        "    self.n_iters = n_iters\n",
        "\n",
        "    self.X_train = X_train\n",
        "    self.y_train = y_train\n",
        "\n",
        "    self.X_test = X_test\n",
        "    self.y_test = y_test\n",
        "\n",
        "    self.val = val\n",
        "    self.val_type=val_type\n",
        "    self.k=k\n",
        "\n",
        "    self.opt = opt\n",
        "    self.batch_size = batch_size\n",
        "\n",
        "    self.w = np.array([])\n",
        "    self.b = None\n",
        "\n",
        "  def grad(self,x,y):\n",
        "    if y * (np.dot(x, self.w) - self.b) >= 1:\n",
        "      dw = self.lr * (2 * self.lambda_param * self.w)\n",
        "      db = 0\n",
        "    else:\n",
        "      dw = self.lr * (2 * self.lambda_param * self.w - np.dot(x, y))\n",
        "      db = self.lr * y\n",
        "\n",
        "    return (dw,db)\n",
        "  \n",
        "\n",
        "  def stochastic_GD(self, X_train, y_train, X_val=None, y_val=None):\n",
        "    n_samples, n_features = X_train.shape  \n",
        "    y_ = np.where(y_train <= 0, -1, 1)\n",
        "          \n",
        "    if self.w.size == 0 and self.b is None :\n",
        "      self.w = np.zeros(n_features)\n",
        "      self.b = 0\n",
        "\n",
        "    w_best = np.zeros(n_features)\n",
        "    b_best = 0\n",
        "\n",
        "    acc_list = [] \n",
        "    for i in range(0,self.n_iters):\n",
        "      for idx, x_i in enumerate(X_train):\n",
        "        dw,db = self.grad(x_i,y_[idx])\n",
        "        self.w -= dw\n",
        "        self.b -= db\n",
        "    \n",
        "      if i%10 == 0 and self.val:\n",
        "        approx_w = np.dot(X_val, self.w) - self.b\n",
        "        approx_w = np.sign(approx_w)\n",
        "        res_w = np.where(approx_w<0, 0, approx_w)\n",
        "\n",
        "        approx_w_best = np.dot(X_val, w_best) - b_best\n",
        "        approx_w_best = np.sign(approx_w_best)\n",
        "        res_w_best = np.where(approx_w_best<0, 0, approx_w_best)\n",
        "            \n",
        "        if (accuracy_score(y_val, res_w_best) < accuracy_score(y_val, res_w)):\n",
        "          w_best = copy.deepcopy(self.w)\n",
        "          b_best = copy.deepcopy(self.b)\n",
        "\n",
        "\n",
        "  def batch_GD(self, X_train, y_train, X_val=None, y_val=None):\n",
        "      n_samples, n_features = X_train.shape  \n",
        "      y_ = np.where(y_train <= 0, -1, 1)\n",
        "            \n",
        "      if self.w.size == 0 and self.b is None :\n",
        "        self.w = np.zeros(n_features)\n",
        "        self.b = 0\n",
        "\n",
        "      w_best = np.zeros(n_features)\n",
        "      b_best = 0\n",
        "\n",
        "      acc_list = [] \n",
        "      for i in range(0,self.n_iters):\n",
        "        dw_sum=0\n",
        "        db_sum=0\n",
        "        for idx, x_i in enumerate(X_train):\n",
        "          dw,db = self.grad(x_i,y_[idx])\n",
        "          dw_sum+=dw\n",
        "          db_sum+=db\n",
        "        self.w -= (dw_sum/n_samples)\n",
        "        self.b -= (db_sum/n_samples)\n",
        "      \n",
        "        if i%10 == 0 and self.val:\n",
        "          approx_w = np.dot(X_val, self.w) - self.b\n",
        "          approx_w = np.sign(approx_w)\n",
        "          res_w = np.where(approx_w<0, 0, approx_w)\n",
        "\n",
        "          approx_w_best = np.dot(X_val, w_best) - b_best\n",
        "          approx_w_best = np.sign(approx_w_best)\n",
        "          res_w_best = np.where(approx_w_best<0, 0, approx_w_best)\n",
        "              \n",
        "          if (accuracy_score(y_val, res_w_best) < accuracy_score(y_val, res_w)):\n",
        "            w_best = copy.deepcopy(self.w)\n",
        "            b_best = copy.deepcopy(self.b)\n",
        "\n",
        "\n",
        "  def mini_batch_GD(self, X_train, y_train, X_val=None, y_val=None):\n",
        "      n_samples, n_features = X_train.shape  \n",
        "      y_ = np.where(y_train <= 0, -1, 1)\n",
        "            \n",
        "      if self.w.size == 0 and self.b is None :\n",
        "        self.w = np.zeros(n_features)\n",
        "        self.b = 0\n",
        "\n",
        "      w_best = np.zeros(n_features)\n",
        "      b_best = 0\n",
        "\n",
        "      acc_list = [] \n",
        "\n",
        "      # print(self.n_iters)\n",
        "      \n",
        "      for i in range(0,self.n_iters):\n",
        "        # print(i)\n",
        "        dw_sum=0.0\n",
        "        db_sum=0.0\n",
        "        s=0\n",
        "        for idx, x_i in enumerate(X_train):\n",
        "          dw,db = self.grad(x_i,y_[idx])\n",
        "          dw_sum+=dw\n",
        "          db_sum+=db\n",
        "          s += 1\n",
        "          if s%self.batch_size==0:\n",
        "            self.w -= (dw_sum/self.batch_size)\n",
        "            self.b -= (db_sum/self.batch_size)\n",
        "      \n",
        "        if i%10 == 0 and self.val:\n",
        "          approx_w = np.dot(X_val, self.w) - self.b\n",
        "          approx_w = np.sign(approx_w)\n",
        "          res_w = np.where(approx_w<0, 0, approx_w)\n",
        "\n",
        "          approx_w_best = np.dot(X_val, w_best) - b_best\n",
        "          approx_w_best = np.sign(approx_w_best)\n",
        "          res_w_best = np.where(approx_w_best<0, 0, approx_w_best)\n",
        "              \n",
        "          if (accuracy_score(y_val, res_w_best) < accuracy_score(y_val, res_w)):\n",
        "            w_best = copy.deepcopy(self.w)\n",
        "            b_best = copy.deepcopy(self.b)\n",
        "\n",
        "\n",
        "  def cross_validation(self, val_split):\n",
        "\n",
        "    X_train = np.concatenate((self.X_train[0],self.X_train[1]),axis=0)\n",
        "    y_train = np.concatenate((self.y_train[0],self.y_train[1]),axis=0)\n",
        "\n",
        "    X_train, X_val, y_train, y_val = train_test_split(X_train, y_train, test_size=val_split, random_state=1, stratify=y_train)\n",
        "\n",
        "    eval(\"self.\"+self.opt+\"(X_train, y_train, X_val, y_val)\")\n",
        "\n",
        "\n",
        "  def k_fold_cross_validation(self):\n",
        "\n",
        "    X = np.concatenate((self.X_train[0],self.X_train[1]),axis=0)\n",
        "    y = np.concatenate((self.y_train[0],self.y_train[1]),axis=0)\n",
        "\n",
        "    w_list = []\n",
        "    b_list = []\n",
        "    acc_list = []\n",
        "\n",
        "    if self.w.size == 0 and self.b == None:\n",
        "      w = np.zeros(self.X_train[0].shape[1])\n",
        "      b = 0\n",
        "    else:\n",
        "      w = copy.deepcopy(self.w)\n",
        "      b = self.b\n",
        "\n",
        "    skf = StratifiedKFold(n_splits=self.k, shuffle=True)\n",
        "\n",
        "    for train_index, val_index in skf.split(X,y):\n",
        "      \n",
        "      X_train, X_val = X[train_index], X[val_index]\n",
        "      y_train, y_val = y[train_index], y[val_index]\n",
        "\n",
        "      eval(\"self.\"+self.opt+\"(X_train, y_train, X_val, y_val)\")\n",
        "\n",
        "      print(self.accuracy())\n",
        "      w_list.append(self.w)\n",
        "      b_list.append(self.b)\n",
        "\n",
        "      test_w = np.dot(X_val, self.w) - self.b\n",
        "      test_w = np.sign(test_w)\n",
        "      res_val = np.where(test_w<0,0,test_w)\n",
        "\n",
        "      acc_list.append(accuracy_score(y_val, res_val))\n",
        "    \n",
        "      self.w = copy.deepcopy(w)\n",
        "      self.b = b\n",
        "\n",
        "    self.w = copy.deepcopy(w_list[acc_list.index(max(acc_list))])\n",
        "    self.b = b_list[acc_list.index(max(acc_list))]\n",
        "  \n",
        "\n",
        "  def fit(self):\n",
        "    if self.val_type == 'k_fold' and self.val:\n",
        "      self.k_fold_cross_validation()\n",
        "    \n",
        "    elif self.val_type == 'cross_val' and self.val:\n",
        "      self.cross_validation(0.2)\n",
        "    \n",
        "    elif not self.val:\n",
        "      X_train = np.concatenate((self.X_train[0],self.X_train[1]),axis=0)\n",
        "      y_train = np.concatenate((self.y_train[0],self.y_train[1]),axis=0)\n",
        "      X_train, y_train= shuffle(X_train, y_train)\n",
        "      eval(\"self.\"+self.opt+\"(X_train, y_train)\")\n",
        "\n",
        "  def predict(self):\n",
        "     approx = np.dot(self.X_test, self.w) - self.b\n",
        "     approx = np.sign(approx)\n",
        "     return np.where(approx<0, 0, approx)\n",
        "\n",
        "  def accuracy(self):\n",
        "    return accuracy_score(self.y_test, self.predict())*100\n"
      ],
      "execution_count": 2,
      "outputs": []
    },
    {
      "cell_type": "markdown",
      "metadata": {
        "id": "IF9H95MnXXGq"
      },
      "source": [
        "## Federated SVM class"
      ]
    },
    {
      "cell_type": "code",
      "metadata": {
        "id": "Ss0Pq4z-vrBI"
      },
      "source": [
        "class Federated_SVM:\n",
        "\n",
        "  def __init__(self, n_clients=3, val=True, val_type='k_fold', k=5, opt='mini_batch_GD', batch_size = 30, learning_rate=0.001, lambda_param=0.01, n_iters=100):\n",
        "    self.n_clients = n_clients\n",
        "    self.learning_rate = learning_rate\n",
        "    self.lambda_param = lambda_param\n",
        "    self.n_iters = n_iters\n",
        "    self.val = val\n",
        "    self.val_type = val_type\n",
        "    self.client_distribution = []\n",
        "    self.k = k\n",
        "    self.opt = opt\n",
        "    self.batch_size = batch_size\n",
        "    self.X_test = None\n",
        "    self.y_test = None\n",
        "    \n",
        "  def create_clients(self, X_train, y_train, X_test, y_test):\n",
        "    self.clients=[]\n",
        "    for i in range(self.n_clients):\n",
        "      self.client_distribution.append(X_train[i][0].shape[0] + X_train[i][1].shape[0])\n",
        "      self.clients.append(SVM(X_train[i],y_train[i], X_test, y_test, self.val, self.val_type, self.k, self.opt, self.batch_size, self.n_iters, self.learning_rate, self.lambda_param))\n",
        "    self.X_test = copy.deepcopy(X_test)\n",
        "    self.y_test = copy.deepcopy(y_test)\n",
        "  \n",
        "\n",
        "  def average_aggregator(self, parameter_list):\n",
        "    w = np.zeros(parameter_list[0].shape[0])\n",
        "    b = 0\n",
        "    for i in range(0,2*self.n_clients,2):\n",
        "        w = np.add(w,parameter_list[i]*self.client_distribution[i//2]/sum(self.client_distribution))\n",
        "        b = b + parameter_list[i+1]*self.client_distribution[i//2]/sum(self.client_distribution)\n",
        "    return (w, b)\n",
        "\n",
        "  def highest_aggregator(self, parameter_list):\n",
        "    score = 0\n",
        "\n",
        "    for i in range(0,self.n_clients):\n",
        "      acc = self.clients[i].accuracy()\n",
        "      if (acc > score):\n",
        "        w = copy.deepcopy(self.clients[i].w)\n",
        "        b = self.clients[i].b\n",
        "        score = acc\n",
        "\n",
        "    return (w,b)\n",
        "\n",
        "  def random_aggregator(self,parameter_list):\n",
        "    n = random.randint(0,self.n_clients)\n",
        "    w = np.zeros(parameter_list[0].shape[0])\n",
        "    b = 0\n",
        "    for i in range(0,2*self.n_clients,2):\n",
        "      if i//2 != n:\n",
        "        w = np.add(w,parameter_list[i]*self.client_distribution[i//2]/sum(self.client_distribution))\n",
        "        b = b + parameter_list[i+1]*self.client_distribution[i//2]/sum(self.client_distribution)\n",
        "      else:\n",
        "        continue\n",
        "    return (w, b)\n",
        "\n",
        "  def fit(self, g_iters, aggregator):\n",
        "    w_best = np.zeros(self.X_test.shape[1])\n",
        "    b_best = 0\n",
        "    for i in range(0,g_iters):\n",
        "      print('global round',i+1)\n",
        "      for j in range(0,self.n_clients):\n",
        "        if i==0:\n",
        "          self.clients[j].fit()\n",
        "        else:\n",
        "          self.clients[j].w = copy.deepcopy(w_agg)\n",
        "          self.clients[j].b = copy.deepcopy(b_agg)\n",
        "          self.clients[j].fit()\n",
        "        print('client',j+1,self.clients[j].accuracy())          \n",
        "      parameter_list = []\n",
        "      for k in range(0,self.n_clients):\n",
        "        parameter_list.append(self.clients[k].w)\n",
        "        parameter_list.append(self.clients[k].b)\n",
        "      w_agg, b_agg = aggregator(parameter_list)\n",
        "      # print(\"agg\",self.accuracy(w_agg,b_agg),\"best\",self.accuracy(w_best,b_best))\n",
        "      if self.accuracy(w_agg,b_agg)>self.accuracy(w_best,b_best) or i==0:\n",
        "        w_best=copy.deepcopy(w_agg)\n",
        "        b_best=copy.deepcopy(b_agg)\n",
        "      print('global test acc',self.accuracy(w_best,b_best))\n",
        "\n",
        "  def predict(self,w,b):\n",
        "     approx = np.dot(self.X_test, w) - b\n",
        "     approx = np.sign(approx)\n",
        "     return np.where(approx<0, 0, 1)\n",
        "  \n",
        "  def accuracy(self,w,b):\n",
        "    return accuracy_score(self.y_test, self.predict(w,b))*100\n"
      ],
      "execution_count": 74,
      "outputs": []
    },
    {
      "cell_type": "markdown",
      "metadata": {
        "id": "zKRqSYOeXdPx"
      },
      "source": [
        "## Utility functions"
      ]
    },
    {
      "cell_type": "code",
      "metadata": {
        "id": "nzD8VkRKszE_"
      },
      "source": [
        "def create_kmeans_clusters(X, Y, n_clusters = 3, random_state = 0):\n",
        "  clusters = KMeans(n_clusters=n_clusters, random_state=random_state).fit_predict(X)\n",
        "  result = []\n",
        "  for i in range(n_clusters):\n",
        "    result.append(X[clusters == i])\n",
        "    result.append(Y[clusters == i])\n",
        "  return tuple(result)  "
      ],
      "execution_count": 4,
      "outputs": []
    },
    {
      "cell_type": "code",
      "metadata": {
        "id": "6zQ6k0OHKCkr"
      },
      "source": [
        "def load_mnist_return_required_digits(n1, n2):\n",
        "  # Loading the mnist dataset and concatenating train - test sets\n",
        "  (x_train, y_train), (x_test, y_test) = tf.keras.datasets.mnist.load_data()\n",
        "  x_total = np.concatenate((x_train, x_test), axis=0)\n",
        "  y_total = np.concatenate((y_train, y_test), axis=0)\n",
        "\n",
        "  # Normalizing and reshaping the data\n",
        "  x_total = x_total/255 \n",
        "  x_total = x_total.reshape(x_total.shape[0],784)\n",
        "\n",
        "  x_n1 = x_total[y_total == n1]\n",
        "  y_n1 = y_total[y_total == n1]\n",
        "\n",
        "  x_n2 = x_total[y_total == n2]\n",
        "  y_n2 = y_total[y_total == n2]\n",
        "\n",
        "  return [(x_n1, y_n1),(x_n2, y_n2)]"
      ],
      "execution_count": 5,
      "outputs": []
    },
    {
      "cell_type": "code",
      "metadata": {
        "id": "jhhe-PIa_Ery"
      },
      "source": [
        "def get_clients(class1, class2, n_clients = 3):\n",
        "\n",
        "  clients_X = []\n",
        "  clients_y = []\n",
        "\n",
        "  clientsXtest = []\n",
        "  clientsYtest = []\n",
        "\n",
        "  clusters_1 = KMeans(n_clusters=n_clients, random_state=0).fit_predict(class1)\n",
        "  clusters_2 = KMeans(n_clusters=n_clients, random_state=0).fit_predict(class2)\n",
        "\n",
        "  for i in range(n_clients):\n",
        "\n",
        "    X_train0, X_test0, y_train0, y_test0 = train_test_split(class1[clusters_1 == i],np.zeros((class1[clusters_1 == i].shape[0],)),test_size=0.2)\n",
        "    X_train1, X_test1, y_train1, y_test1 = train_test_split(class2[clusters_2 == i],np.ones((class2[clusters_2 == i].shape[0],)),test_size=0.2)\n",
        "\n",
        "    clients_X.append([X_train0, X_train1])\n",
        "    clients_y.append([y_train0, y_train1])\n",
        "\n",
        "    clientsXtest.extend([X_test0,X_test1])\n",
        "    clientsYtest.extend([y_test0,y_test1])\n",
        "\n",
        "  X_test = np.concatenate(clientsXtest,axis=0)\n",
        "  y_test = np.concatenate(clientsYtest,axis=0)\n",
        "\n",
        "  return clients_X,clients_y,X_test,y_test"
      ],
      "execution_count": 6,
      "outputs": []
    },
    {
      "cell_type": "code",
      "metadata": {
        "id": "csOruCRE_Hxh"
      },
      "source": [
        "def get_total_from_clients(clients_X,clients_y):\n",
        "  x_train0 = [i[0] for i in clients_X]\n",
        "  x_train0 = np.concatenate(x_train0, axis=0)\n",
        "  x_train1 = [i[1] for i in clients_X]\n",
        "  x_train1 = np.concatenate(x_train1, axis=0)\n",
        "  y_train0 = [i[0] for i in clients_y]\n",
        "  y_train0 = np.concatenate(y_train0, axis=0)\n",
        "  y_train1 = [i[1] for i in clients_y]\n",
        "  y_train1 = np.concatenate(y_train1, axis=0)\n",
        "\n",
        "  return ([x_train0,x_train1],[y_train0,y_train1])    "
      ],
      "execution_count": 7,
      "outputs": []
    },
    {
      "cell_type": "markdown",
      "metadata": {
        "id": "3ZYTCp6khPHN"
      },
      "source": [
        "# Digits 0 and 6"
      ]
    },
    {
      "cell_type": "markdown",
      "metadata": {
        "id": "SSMoNotAhz8A"
      },
      "source": [
        "### Loading the data of 0 and 6"
      ]
    },
    {
      "cell_type": "code",
      "metadata": {
        "id": "tV5qcnb_MM3v"
      },
      "source": [
        "data = load_mnist_return_required_digits(0, 6)"
      ],
      "execution_count": 93,
      "outputs": []
    },
    {
      "cell_type": "markdown",
      "metadata": {
        "id": "hsFsh5QIiJRc"
      },
      "source": [
        "### Dividing the data of digits 0 and 6 into clusters using the KMeans algorithm\n",
        "The images of 0 and 6 are divided into 3 three clusters each."
      ]
    },
    {
      "cell_type": "code",
      "metadata": {
        "colab": {
          "base_uri": "https://localhost:8080/",
          "height": 179
        },
        "id": "tYP43OPf8zpF",
        "outputId": "bf7070c6-7dc0-4c2c-bd68-b6a2657abc55"
      },
      "source": [
        "x_0_c1, y_0_c1, x_0_c2, y_0_c2, x_0_c3, y_0_c3 = create_kmeans_clusters(data[0][0], data[0][1])\n",
        "fig, axs = plt.subplots(1, 3)\n",
        "axs[0].imshow(x_0_c1[0].reshape(28,28),cmap='gray')\n",
        "axs[0].set_title('Cluster 1')\n",
        "axs[1].imshow(x_0_c2[0].reshape(28,28),cmap='gray')\n",
        "axs[1].set_title('Cluster 2')\n",
        "axs[2].imshow(x_0_c3[0].reshape(28,28),cmap='gray')\n",
        "axs[2].set_title('Cluster 3')"
      ],
      "execution_count": 9,
      "outputs": [
        {
          "output_type": "execute_result",
          "data": {
            "text/plain": [
              "Text(0.5, 1.0, 'Cluster 3')"
            ]
          },
          "metadata": {},
          "execution_count": 9
        },
        {
          "output_type": "display_data",
          "data": {
            "image/png": "[encoded data removed]",
            "text/plain": [
              "<Figure size 432x288 with 3 Axes>"
            ]
          },
          "metadata": {
            "needs_background": "light"
          }
        }
      ]
    },
    {
      "cell_type": "code",
      "metadata": {
        "colab": {
          "base_uri": "https://localhost:8080/",
          "height": 179
        },
        "id": "n7ZcxVxK8ezZ",
        "outputId": "541c395d-45a0-4df6-fd8c-e902fdf764a1"
      },
      "source": [
        "x_6_c1, y_6_c1, x_6_c2, y_6_c2, x_6_c3, y_6_c3 = create_kmeans_clusters(data[1][0], data[1][1])\n",
        "fig, axs = plt.subplots(1, 3)\n",
        "axs[0].imshow(x_6_c1[0].reshape(28,28),cmap='gray')\n",
        "axs[0].set_title('Cluster 1')\n",
        "axs[1].imshow(x_6_c2[0].reshape(28,28),cmap='gray')\n",
        "axs[1].set_title('Cluster 2')\n",
        "axs[2].imshow(x_6_c3[0].reshape(28,28),cmap='gray')\n",
        "axs[2].set_title('Cluster 3')"
      ],
      "execution_count": 10,
      "outputs": [
        {
          "output_type": "execute_result",
          "data": {
            "text/plain": [
              "Text(0.5, 1.0, 'Cluster 3')"
            ]
          },
          "metadata": {},
          "execution_count": 10
        },
        {
          "output_type": "display_data",
          "data": {
            "image/png": "[encoded data removed]",
            "text/plain": [
              "<Figure size 432x288 with 3 Axes>"
            ]
          },
          "metadata": {
            "needs_background": "light"
          }
        }
      ]
    },
    {
      "cell_type": "markdown",
      "metadata": {
        "id": "VxJzKmEnj-RY"
      },
      "source": [
        "### Creation of individual train sets for the clients, global train set for the SVM model and a global test set containing the data from all the clusters\n",
        "\n"
      ]
    },
    {
      "cell_type": "code",
      "metadata": {
        "id": "k0pd1_3lBBtT"
      },
      "source": [
        "clients_X,clients_y,X_test,y_test = get_clients(data[0][0], data[1][0], n_clients = 3)"
      ],
      "execution_count": 94,
      "outputs": []
    },
    {
      "cell_type": "code",
      "metadata": {
        "id": "y53Sxte4BbWJ"
      },
      "source": [
        "xtrain_gl, ytrain_gl = get_total_from_clients(clients_X,clients_y)"
      ],
      "execution_count": 95,
      "outputs": []
    },
    {
      "cell_type": "markdown",
      "metadata": {
        "id": "mqQTKxHflCp0"
      },
      "source": [
        "### Federated learning model and SVM model training"
      ]
    },
    {
      "cell_type": "markdown",
      "metadata": {
        "id": "2jvLMI4HmJul"
      },
      "source": [
        "#### Training the models without validation & with avg aggregator\n",
        "\n"
      ]
    },
    {
      "cell_type": "code",
      "metadata": {
        "id": "ul3Xy7F_0dRg"
      },
      "source": [
        "f_svm = Federated_SVM(n_clients = 3, val=False, n_iters=150,opt='stochastic_GD')\n",
        "f_svm.create_clients(clients_X,clients_y,X_test,y_test)"
      ],
      "execution_count": 13,
      "outputs": []
    },
    {
      "cell_type": "code",
      "metadata": {
        "colab": {
          "base_uri": "https://localhost:8080/"
        },
        "id": "fDyoq_ak0h5j",
        "outputId": "79c6b470-d43f-48a0-fbbe-92b9c488aac5"
      },
      "source": [
        "clf = SVM(xtrain_gl, ytrain_gl, X_test, y_test, val=False,n_iters=1000,opt='stochastic_GD')\n",
        "clf.fit()\n",
        "print(clf.accuracy())"
      ],
      "execution_count": 14,
      "outputs": [
        {
          "output_type": "stream",
          "name": "stdout",
          "text": [
            "98.98477157360406\n"
          ]
        }
      ]
    },
    {
      "cell_type": "code",
      "metadata": {
        "colab": {
          "base_uri": "https://localhost:8080/"
        },
        "id": "wlXg4bnQ0lgf",
        "outputId": "04aee195-3d5b-4734-feb9-8ef9994adaab"
      },
      "source": [
        "f_svm.fit(10,f_svm.average_aggregator)"
      ],
      "execution_count": 15,
      "outputs": [
        {
          "output_type": "stream",
          "name": "stdout",
          "text": [
            "global round 1\n",
            "client 1 92.89340101522842\n",
            "client 2 90.50036258158084\n",
            "client 3 92.5670775924583\n",
            "global test acc 97.78825235678028\n",
            "global round 2\n",
            "client 1 92.85714285714286\n",
            "client 2 91.18926758520666\n",
            "client 3 93.4010152284264\n",
            "global test acc 97.89702683103698\n",
            "global round 3\n",
            "client 1 93.69108049311095\n",
            "client 2 91.37055837563452\n",
            "client 3 92.27701232777375\n",
            "global test acc 97.89702683103698\n",
            "global round 4\n",
            "client 1 93.21972443799855\n",
            "client 2 91.11675126903553\n",
            "client 3 94.19869470630891\n",
            "global test acc 97.93328498912255\n",
            "global round 5\n",
            "client 1 94.16243654822335\n",
            "client 2 89.15881073241479\n",
            "client 3 91.9869470630892\n",
            "global test acc 97.93328498912255\n",
            "global round 6\n",
            "client 1 93.43727338651196\n",
            "client 2 89.99274836838289\n",
            "client 3 93.61856417693981\n",
            "global test acc 97.93328498912255\n",
            "global round 7\n",
            "client 1 92.89340101522842\n",
            "client 2 89.70268310369833\n",
            "client 3 92.13197969543148\n",
            "global test acc 97.93328498912255\n",
            "global round 8\n",
            "client 1 94.12617839013778\n",
            "client 2 89.88397389412619\n",
            "client 3 94.01740391588108\n",
            "global test acc 97.93328498912255\n",
            "global round 9\n",
            "client 1 93.03843364757071\n",
            "client 2 89.52139231327048\n",
            "client 3 93.72733865119652\n",
            "global test acc 97.93328498912255\n",
            "global round 10\n",
            "client 1 93.47353154459753\n",
            "client 2 89.7389412617839\n",
            "client 3 92.3495286439449\n",
            "global test acc 97.93328498912255\n"
          ]
        }
      ]
    },
    {
      "cell_type": "code",
      "metadata": {
        "id": "dPfjx01Hbz5D"
      },
      "source": [
        "f_svm = Federated_SVM(n_clients = 3, val=False, n_iters=150,opt='batch_GD')\n",
        "f_svm.create_clients(clients_X,clients_y,X_test,y_test)"
      ],
      "execution_count": 16,
      "outputs": []
    },
    {
      "cell_type": "code",
      "metadata": {
        "colab": {
          "base_uri": "https://localhost:8080/"
        },
        "id": "P5cqzlzib3xL",
        "outputId": "2e0203ec-f0f8-4655-9f86-2b37ba5f5604"
      },
      "source": [
        "clf = SVM(xtrain_gl, ytrain_gl, X_test, y_test, val=False,n_iters=1000,opt='batch_GD')\n",
        "clf.fit()\n",
        "print(clf.accuracy())"
      ],
      "execution_count": 17,
      "outputs": [
        {
          "output_type": "stream",
          "name": "stdout",
          "text": [
            "98.00580130529369\n"
          ]
        }
      ]
    },
    {
      "cell_type": "code",
      "metadata": {
        "colab": {
          "base_uri": "https://localhost:8080/"
        },
        "id": "k18KuZj6b8XU",
        "outputId": "f0a019b2-7717-4af8-9990-1ce56af69cee"
      },
      "source": [
        "f_svm.fit(10,f_svm.average_aggregator)"
      ],
      "execution_count": 18,
      "outputs": [
        {
          "output_type": "stream",
          "name": "stdout",
          "text": [
            "global round 1\n",
            "client 1 89.3763596809282\n",
            "client 2 90.97171863669325\n",
            "client 3 95.32269760696157\n",
            "global test acc 96.62799129804206\n",
            "global round 2\n",
            "client 1 96.66424945612762\n",
            "client 2 95.10514865844814\n",
            "client 3 96.51921682378534\n",
            "global test acc 96.99057287889775\n",
            "global round 3\n",
            "client 1 97.24437998549674\n",
            "client 2 96.19289340101524\n",
            "client 3 96.91805656272662\n",
            "global test acc 97.35315445975344\n",
            "global round 4\n",
            "client 1 97.42567077592457\n",
            "client 2 96.88179840464105\n",
            "client 3 97.28063814358231\n",
            "global test acc 97.53444525018129\n",
            "global round 5\n",
            "client 1 97.57070340826685\n",
            "client 2 97.24437998549674\n",
            "client 3 97.31689630166788\n",
            "global test acc 97.67947788252357\n",
            "global round 6\n",
            "client 1 97.71573604060913\n",
            "client 2 97.60696156635244\n",
            "client 3 97.53444525018129\n",
            "global test acc 97.78825235678028\n",
            "global round 7\n",
            "client 1 97.93328498912255\n",
            "client 2 97.71573604060913\n",
            "client 3 97.71573604060913\n",
            "global test acc 97.86076867295141\n",
            "global round 8\n",
            "client 1 98.00580130529369\n",
            "client 2 97.82451051486585\n",
            "client 3 97.71573604060913\n",
            "global test acc 97.93328498912255\n",
            "global round 9\n",
            "client 1 98.11457577955039\n",
            "client 2 97.96954314720813\n",
            "client 3 97.82451051486585\n",
            "global test acc 98.04205946337926\n",
            "global round 10\n",
            "client 1 98.22335025380711\n",
            "client 2 98.04205946337926\n",
            "client 3 97.86076867295141\n",
            "global test acc 98.15083393763598\n"
          ]
        }
      ]
    },
    {
      "cell_type": "code",
      "metadata": {
        "id": "BZu5YChOb_tZ"
      },
      "source": [
        "f_svm = Federated_SVM(n_clients = 3, val=False, n_iters=150,opt='mini_batch_GD')\n",
        "f_svm.create_clients(clients_X,clients_y,X_test,y_test)"
      ],
      "execution_count": 19,
      "outputs": []
    },
    {
      "cell_type": "code",
      "metadata": {
        "colab": {
          "base_uri": "https://localhost:8080/"
        },
        "id": "POeHzA2XcBgi",
        "outputId": "80e7dc09-bb9a-4513-ca44-ddfdcb6922cf"
      },
      "source": [
        "clf = SVM(xtrain_gl, ytrain_gl, X_test, y_test, val=False,n_iters=1500,opt='mini_batch_GD')\n",
        "clf.fit()\n",
        "print(clf.accuracy())"
      ],
      "execution_count": 20,
      "outputs": [
        {
          "output_type": "stream",
          "name": "stdout",
          "text": [
            "95.32269760696157\n"
          ]
        }
      ]
    },
    {
      "cell_type": "code",
      "metadata": {
        "colab": {
          "base_uri": "https://localhost:8080/"
        },
        "id": "IFHuUkN9cC-5",
        "outputId": "8b9ffdc2-2fdc-4bc1-d244-a22378ef8a23"
      },
      "source": [
        "f_svm.fit(10,f_svm.average_aggregator)"
      ],
      "execution_count": 21,
      "outputs": [
        {
          "output_type": "stream",
          "name": "stdout",
          "text": [
            "global round 1\n",
            "client 1 92.71211022480058\n",
            "client 2 88.86874546773024\n",
            "client 3 92.71211022480058\n",
            "global test acc 97.67947788252357\n",
            "global round 2\n",
            "client 1 93.4010152284264\n",
            "client 2 89.44887599709934\n",
            "client 3 86.94706308919507\n",
            "global test acc 97.67947788252357\n",
            "global round 3\n",
            "client 1 93.4010152284264\n",
            "client 2 89.23132704858592\n",
            "client 3 94.52501812907904\n",
            "global test acc 97.67947788252357\n",
            "global round 4\n",
            "client 1 90.89920232052212\n",
            "client 2 88.21609862219\n",
            "client 3 92.42204496011603\n",
            "global test acc 97.67947788252357\n",
            "global round 5\n",
            "client 1 93.07469180565627\n",
            "client 2 90.60913705583756\n",
            "client 3 91.69688179840463\n",
            "global test acc 97.67947788252357\n",
            "global round 6\n",
            "client 1 93.90862944162437\n",
            "client 2 90.7904278462654\n",
            "client 3 93.69108049311095\n",
            "global test acc 97.71573604060913\n",
            "global round 7\n",
            "client 1 91.7331399564902\n",
            "client 2 89.95649021029732\n",
            "client 3 91.29804205946338\n",
            "global test acc 97.89702683103698\n",
            "global round 8\n",
            "client 1 92.60333575054386\n",
            "client 2 90.1015228426396\n",
            "client 3 95.14140681653373\n",
            "global test acc 97.89702683103698\n",
            "global round 9\n",
            "client 1 94.01740391588108\n",
            "client 2 91.1530094271211\n",
            "client 3 92.49456127628717\n",
            "global test acc 97.89702683103698\n",
            "global round 10\n",
            "client 1 93.8723712835388\n",
            "client 2 91.11675126903553\n",
            "client 3 94.16243654822335\n",
            "global test acc 97.93328498912255\n"
          ]
        }
      ]
    },
    {
      "cell_type": "markdown",
      "metadata": {
        "id": "8NlvzgRcmkSB"
      },
      "source": [
        "#### Training the models with various validation & with avg aggregator & with batch GD"
      ]
    },
    {
      "cell_type": "code",
      "metadata": {
        "id": "wZJwB5ARYsYq"
      },
      "source": [
        "f_svm = Federated_SVM(n_clients = 3, val=False, n_iters=150,opt='batch_GD')\n",
        "f_svm.create_clients(clients_X,clients_y,X_test,y_test)"
      ],
      "execution_count": 22,
      "outputs": []
    },
    {
      "cell_type": "code",
      "metadata": {
        "colab": {
          "base_uri": "https://localhost:8080/"
        },
        "id": "YruRJupkhrpv",
        "outputId": "cee29bff-dd7d-4520-b163-32e02ea63a38"
      },
      "source": [
        "clf = SVM(xtrain_gl, ytrain_gl, X_test, y_test, val=False, n_iters=1000,opt='batch_GD')\n",
        "clf.fit()\n",
        "print(clf.accuracy())"
      ],
      "execution_count": 23,
      "outputs": [
        {
          "output_type": "stream",
          "name": "stdout",
          "text": [
            "98.00580130529369\n"
          ]
        }
      ]
    },
    {
      "cell_type": "code",
      "metadata": {
        "colab": {
          "base_uri": "https://localhost:8080/"
        },
        "id": "zUxmvy962UHi",
        "outputId": "efb597dd-8ff6-44d9-f97e-89826cb2bd2a"
      },
      "source": [
        "f_svm.fit(10,f_svm.average_aggregator)"
      ],
      "execution_count": 24,
      "outputs": [
        {
          "output_type": "stream",
          "name": "stdout",
          "text": [
            "global round 1\n",
            "client 1 89.3763596809282\n",
            "client 2 90.97171863669325\n",
            "client 3 95.32269760696157\n",
            "global test acc 96.62799129804206\n",
            "global round 2\n",
            "client 1 96.66424945612762\n",
            "client 2 95.10514865844814\n",
            "client 3 96.51921682378534\n",
            "global test acc 96.99057287889775\n",
            "global round 3\n",
            "client 1 97.24437998549674\n",
            "client 2 96.19289340101524\n",
            "client 3 96.91805656272662\n",
            "global test acc 97.35315445975344\n",
            "global round 4\n",
            "client 1 97.42567077592457\n",
            "client 2 96.88179840464105\n",
            "client 3 97.28063814358231\n",
            "global test acc 97.53444525018129\n",
            "global round 5\n",
            "client 1 97.57070340826685\n",
            "client 2 97.24437998549674\n",
            "client 3 97.31689630166788\n",
            "global test acc 97.67947788252357\n",
            "global round 6\n",
            "client 1 97.71573604060913\n",
            "client 2 97.60696156635244\n",
            "client 3 97.53444525018129\n",
            "global test acc 97.78825235678028\n",
            "global round 7\n",
            "client 1 97.93328498912255\n",
            "client 2 97.71573604060913\n",
            "client 3 97.71573604060913\n",
            "global test acc 97.86076867295141\n",
            "global round 8\n",
            "client 1 98.00580130529369\n",
            "client 2 97.82451051486585\n",
            "client 3 97.71573604060913\n",
            "global test acc 97.93328498912255\n",
            "global round 9\n",
            "client 1 98.11457577955039\n",
            "client 2 97.96954314720813\n",
            "client 3 97.82451051486585\n",
            "global test acc 98.04205946337926\n",
            "global round 10\n",
            "client 1 98.22335025380711\n",
            "client 2 98.04205946337926\n",
            "client 3 97.86076867295141\n",
            "global test acc 98.15083393763598\n"
          ]
        }
      ]
    },
    {
      "cell_type": "code",
      "metadata": {
        "id": "mKdjF0WPjW6H"
      },
      "source": [
        "f_svm = Federated_SVM(n_clients = 3, val=True, n_iters=150,opt='batch_GD', val_type='cross_val')\n",
        "f_svm.create_clients(clients_X,clients_y,X_test,y_test)"
      ],
      "execution_count": 25,
      "outputs": []
    },
    {
      "cell_type": "code",
      "metadata": {
        "colab": {
          "base_uri": "https://localhost:8080/"
        },
        "id": "DtDfjl2BjXKS",
        "outputId": "a4fcd893-1414-4430-f5d4-9e9a8c3b7c62"
      },
      "source": [
        "clf = SVM(xtrain_gl, ytrain_gl, X_test, y_test, val=True, n_iters=1000,opt='batch_GD', val_type='cross_val')\n",
        "clf.fit()\n",
        "print(clf.accuracy())"
      ],
      "execution_count": 26,
      "outputs": [
        {
          "output_type": "stream",
          "name": "stdout",
          "text": [
            "97.93328498912255\n"
          ]
        }
      ]
    },
    {
      "cell_type": "code",
      "metadata": {
        "colab": {
          "base_uri": "https://localhost:8080/"
        },
        "id": "afP38S7BjXgn",
        "outputId": "744bdcbe-0cb3-4465-8d5c-c1bbe41b3b33"
      },
      "source": [
        "f_svm.fit(10,f_svm.average_aggregator)"
      ],
      "execution_count": 27,
      "outputs": [
        {
          "output_type": "stream",
          "name": "stdout",
          "text": [
            "global round 1\n",
            "client 1 89.41261783901378\n",
            "client 2 90.9354604786077\n",
            "client 3 95.286439448876\n",
            "global test acc 96.62799129804206\n",
            "global round 2\n",
            "client 1 96.66424945612762\n",
            "client 2 95.14140681653373\n",
            "client 3 96.51921682378534\n",
            "global test acc 97.02683103698332\n",
            "global round 3\n",
            "client 1 97.24437998549674\n",
            "client 2 96.26540971718637\n",
            "client 3 96.88179840464105\n",
            "global test acc 97.35315445975344\n",
            "global round 4\n",
            "client 1 97.42567077592457\n",
            "client 2 96.91805656272662\n",
            "client 3 97.1718636693256\n",
            "global test acc 97.53444525018129\n",
            "global round 5\n",
            "client 1 97.60696156635244\n",
            "client 2 97.31689630166788\n",
            "client 3 97.35315445975344\n",
            "global test acc 97.67947788252357\n",
            "global round 6\n",
            "client 1 97.71573604060913\n",
            "client 2 97.57070340826685\n",
            "client 3 97.53444525018129\n",
            "global test acc 97.78825235678028\n",
            "global round 7\n",
            "client 1 97.93328498912255\n",
            "client 2 97.67947788252357\n",
            "client 3 97.71573604060913\n",
            "global test acc 97.82451051486585\n",
            "global round 8\n",
            "client 1 97.96954314720813\n",
            "client 2 97.82451051486585\n",
            "client 3 97.71573604060913\n",
            "global test acc 97.89702683103698\n",
            "global round 9\n",
            "client 1 98.11457577955039\n",
            "client 2 97.96954314720813\n",
            "client 3 97.78825235678028\n",
            "global test acc 98.04205946337926\n",
            "global round 10\n",
            "client 1 98.15083393763598\n",
            "client 2 98.04205946337926\n",
            "client 3 97.89702683103698\n",
            "global test acc 98.18709209572154\n"
          ]
        }
      ]
    },
    {
      "cell_type": "code",
      "metadata": {
        "id": "GnOePXXylskD"
      },
      "source": [
        "f_svm = Federated_SVM(n_clients = 3, val=True, n_iters=150,val_type='k_fold', opt='batch_GD', k=5)\n",
        "f_svm.create_clients(clients_X,clients_y,X_test,y_test)"
      ],
      "execution_count": 84,
      "outputs": []
    },
    {
      "cell_type": "code",
      "metadata": {
        "colab": {
          "base_uri": "https://localhost:8080/"
        },
        "id": "QIl9oZ9TltcL",
        "outputId": "b8e881af-c6b3-4a16-bb23-abfb0c9da9c9"
      },
      "source": [
        "clf = SVM(xtrain_gl, ytrain_gl, X_test, y_test, val=True,n_iters=1000,opt='batch_GD', val_type='k_fold', k=5)\n",
        "clf.fit()\n",
        "print(clf.accuracy())"
      ],
      "execution_count": 29,
      "outputs": [
        {
          "output_type": "stream",
          "name": "stdout",
          "text": [
            "97.96954314720813\n",
            "97.89702683103698\n",
            "98.04205946337926\n",
            "98.00580130529369\n",
            "97.96954314720813\n",
            "97.96954314720813\n"
          ]
        }
      ]
    },
    {
      "cell_type": "code",
      "metadata": {
        "colab": {
          "base_uri": "https://localhost:8080/"
        },
        "id": "L0VsbFsXlwwW",
        "outputId": "f20663f3-f7b7-4c53-f734-fc3492b07be8"
      },
      "source": [
        "f_svm.fit(10,f_svm.average_aggregator)"
      ],
      "execution_count": 85,
      "outputs": [
        {
          "output_type": "stream",
          "name": "stdout",
          "text": [
            "global round 1\n",
            "90.89920232052212\n",
            "90.97171863669325\n",
            "91.08049311094997\n",
            "90.9354604786077\n",
            "90.64539521392312\n",
            "client 1 91.08049311094997\n",
            "91.1530094271211\n",
            "91.29804205946338\n",
            "91.22552574329225\n",
            "91.22552574329225\n",
            "91.18926758520666\n",
            "client 2 91.29804205946338\n",
            "95.79405366207396\n",
            "95.72153734590283\n",
            "95.75779550398839\n",
            "95.68527918781726\n",
            "95.75779550398839\n",
            "client 3 95.75779550398839\n",
            "global test acc 96.91805656272662\n",
            "global round 2\n",
            "96.99057287889775\n",
            "97.02683103698332\n",
            "97.06308919506888\n",
            "97.02683103698332\n",
            "97.06308919506888\n",
            "client 1 97.06308919506888\n",
            "95.54024655547498\n",
            "95.54024655547498\n",
            "95.54024655547498\n",
            "95.57650471356055\n",
            "95.57650471356055\n",
            "client 2 95.54024655547498\n",
            "96.62799129804206\n",
            "96.55547498187093\n",
            "96.62799129804206\n",
            "96.55547498187093\n",
            "96.62799129804206\n",
            "client 3 96.62799129804206\n",
            "global test acc 97.13560551124003\n",
            "global round 3\n",
            "97.60696156635244\n",
            "97.57070340826685\n",
            "97.60696156635244\n",
            "97.57070340826685\n",
            "97.57070340826685\n",
            "client 1 97.60696156635244\n",
            "96.62799129804206\n",
            "96.59173313995649\n",
            "96.55547498187093\n",
            "96.55547498187093\n",
            "96.59173313995649\n",
            "client 2 96.59173313995649\n",
            "96.8092820884699\n",
            "96.8092820884699\n",
            "96.8092820884699\n",
            "96.8092820884699\n",
            "96.8092820884699\n",
            "client 3 96.8092820884699\n",
            "global test acc 97.60696156635244\n",
            "global round 4\n",
            "97.82451051486585\n",
            "97.78825235678028\n",
            "97.82451051486585\n",
            "97.82451051486585\n",
            "97.82451051486585\n",
            "client 1 97.82451051486585\n",
            "97.09934735315446\n",
            "97.13560551124003\n",
            "97.06308919506888\n",
            "97.1718636693256\n",
            "97.09934735315446\n",
            "client 2 97.13560551124003\n",
            "96.84554024655547\n",
            "97.06308919506888\n",
            "97.06308919506888\n",
            "97.02683103698332\n",
            "96.95431472081218\n",
            "client 3 97.06308919506888\n",
            "global test acc 97.7519941986947\n",
            "global round 5\n",
            "97.93328498912255\n",
            "97.93328498912255\n",
            "97.93328498912255\n",
            "97.93328498912255\n",
            "97.96954314720813\n",
            "client 1 97.93328498912255\n",
            "97.46192893401016\n",
            "97.46192893401016\n",
            "97.49818709209572\n",
            "97.46192893401016\n",
            "97.42567077592457\n",
            "client 2 97.42567077592457\n",
            "97.38941261783901\n",
            "97.35315445975344\n",
            "97.35315445975344\n",
            "97.35315445975344\n",
            "97.38941261783901\n",
            "client 3 97.35315445975344\n",
            "global test acc 97.96954314720813\n",
            "global round 6\n",
            "98.15083393763598\n",
            "98.07831762146483\n",
            "98.15083393763598\n",
            "98.07831762146483\n",
            "98.07831762146483\n",
            "client 1 98.15083393763598\n",
            "97.78825235678028\n",
            "97.71573604060913\n",
            "97.78825235678028\n",
            "97.71573604060913\n",
            "97.78825235678028\n",
            "client 2 97.78825235678028\n",
            "97.46192893401016\n",
            "97.42567077592457\n",
            "97.42567077592457\n",
            "97.57070340826685\n",
            "97.42567077592457\n",
            "client 3 97.42567077592457\n",
            "global test acc 97.96954314720813\n",
            "global round 7\n",
            "98.29586656997824\n",
            "98.25960841189267\n",
            "98.22335025380711\n",
            "98.18709209572154\n",
            "98.18709209572154\n",
            "client 1 98.25960841189267\n",
            "97.96954314720813\n",
            "98.00580130529369\n",
            "98.04205946337926\n",
            "98.07831762146483\n",
            "98.00580130529369\n",
            "client 2 98.00580130529369\n",
            "97.643219724438\n",
            "97.643219724438\n",
            "97.643219724438\n",
            "97.643219724438\n",
            "97.643219724438\n",
            "client 3 97.643219724438\n",
            "global test acc 98.07831762146483\n",
            "global round 8\n",
            "98.29586656997824\n",
            "98.33212472806382\n",
            "98.29586656997824\n",
            "98.33212472806382\n",
            "98.29586656997824\n",
            "client 1 98.29586656997824\n",
            "98.15083393763598\n",
            "98.15083393763598\n",
            "98.11457577955039\n",
            "98.18709209572154\n",
            "98.15083393763598\n",
            "client 2 98.15083393763598\n",
            "97.7519941986947\n",
            "97.78825235678028\n",
            "97.78825235678028\n",
            "97.78825235678028\n",
            "97.78825235678028\n",
            "client 3 97.78825235678028\n",
            "global test acc 98.25960841189267\n",
            "global round 9\n",
            "98.33212472806382\n",
            "98.33212472806382\n",
            "98.36838288614939\n",
            "98.33212472806382\n",
            "98.33212472806382\n",
            "client 1 98.33212472806382\n",
            "98.25960841189267\n",
            "98.25960841189267\n",
            "98.25960841189267\n",
            "98.25960841189267\n",
            "98.25960841189267\n",
            "client 2 98.25960841189267\n",
            "97.89702683103698\n",
            "97.93328498912255\n",
            "97.89702683103698\n",
            "97.89702683103698\n",
            "97.96954314720813\n",
            "client 3 97.96954314720813\n",
            "global test acc 98.44089920232052\n",
            "global round 10\n",
            "98.44089920232052\n",
            "98.33212472806382\n",
            "98.33212472806382\n",
            "98.44089920232052\n",
            "98.44089920232052\n",
            "client 1 98.44089920232052\n",
            "98.29586656997824\n",
            "98.25960841189267\n",
            "98.29586656997824\n",
            "98.36838288614939\n",
            "98.29586656997824\n",
            "client 2 98.29586656997824\n",
            "98.04205946337926\n",
            "98.00580130529369\n",
            "97.96954314720813\n",
            "98.04205946337926\n",
            "98.00580130529369\n",
            "client 3 98.04205946337926\n",
            "global test acc 98.51341551849167\n"
          ]
        }
      ]
    },
    {
      "cell_type": "markdown",
      "metadata": {
        "id": "_7Q8CaZIoJ5i"
      },
      "source": [
        "#### Training models with various aggregators & without val & with batch gd"
      ]
    },
    {
      "cell_type": "code",
      "metadata": {
        "id": "TEumjGHYoWq4"
      },
      "source": [
        "f_svm = Federated_SVM(n_clients = 3, val=False, n_iters=150,opt='batch_GD')\n",
        "f_svm.create_clients(clients_X,clients_y,X_test,y_test)"
      ],
      "execution_count": 96,
      "outputs": []
    },
    {
      "cell_type": "code",
      "metadata": {
        "colab": {
          "base_uri": "https://localhost:8080/"
        },
        "id": "dqvw33E8ohlX",
        "outputId": "6e2e5682-685e-4f6b-a3dc-bd9ace39c691"
      },
      "source": [
        "clf = SVM(xtrain_gl, ytrain_gl, X_test, y_test, val=False, n_iters=1000,opt='batch_GD')\n",
        "clf.fit()\n",
        "print(clf.accuracy())"
      ],
      "execution_count": 32,
      "outputs": [
        {
          "output_type": "stream",
          "name": "stdout",
          "text": [
            "98.00580130529369\n"
          ]
        }
      ]
    },
    {
      "cell_type": "code",
      "metadata": {
        "colab": {
          "base_uri": "https://localhost:8080/"
        },
        "id": "rkGMeiTUolQo",
        "outputId": "8fd7d1a1-1bc5-4243-9092-401c7d72fb02"
      },
      "source": [
        "f_svm.fit(10,f_svm.highest_aggregator)"
      ],
      "execution_count": 97,
      "outputs": [
        {
          "output_type": "stream",
          "name": "stdout",
          "text": [
            "global round 1\n",
            "client 1 89.15881073241479\n",
            "client 2 91.7331399564902\n",
            "client 3 95.75779550398839\n",
            "global test acc 95.75779550398839\n",
            "global round 2\n",
            "client 1 96.73676577229877\n",
            "client 2 94.88759970993473\n",
            "client 3 95.64902102973168\n",
            "global test acc 96.73676577229877\n",
            "global round 3\n",
            "client 1 96.73676577229877\n",
            "client 2 97.02683103698332\n",
            "client 3 96.15663524292965\n",
            "global test acc 97.02683103698332\n",
            "global round 4\n",
            "client 1 97.42567077592457\n",
            "client 2 96.84554024655547\n",
            "client 3 97.13560551124003\n",
            "global test acc 97.42567077592457\n",
            "global round 5\n",
            "client 1 97.35315445975344\n",
            "client 2 97.31689630166788\n",
            "client 3 97.24437998549674\n",
            "global test acc 97.42567077592457\n",
            "global round 6\n",
            "client 1 97.53444525018129\n",
            "client 2 97.60696156635244\n",
            "client 3 97.57070340826685\n",
            "global test acc 97.60696156635244\n",
            "global round 7\n",
            "client 1 97.53444525018129\n",
            "client 2 97.46192893401016\n",
            "client 3 97.31689630166788\n",
            "global test acc 97.60696156635244\n",
            "global round 8\n",
            "client 1 97.643219724438\n",
            "client 2 97.86076867295141\n",
            "client 3 97.86076867295141\n",
            "global test acc 97.86076867295141\n",
            "global round 9\n",
            "client 1 97.67947788252357\n",
            "client 2 97.71573604060913\n",
            "client 3 97.60696156635244\n",
            "global test acc 97.86076867295141\n",
            "global round 10\n",
            "client 1 97.7519941986947\n",
            "client 2 97.71573604060913\n",
            "client 3 97.53444525018129\n",
            "global test acc 97.86076867295141\n"
          ]
        }
      ]
    },
    {
      "cell_type": "code",
      "metadata": {
        "id": "vYFERbCIpHgN"
      },
      "source": [
        "f_svm = Federated_SVM(n_clients = 3, val=False, n_iters=150,opt='batch_GD')\n",
        "f_svm.create_clients(clients_X,clients_y,X_test,y_test)"
      ],
      "execution_count": 34,
      "outputs": []
    },
    {
      "cell_type": "code",
      "metadata": {
        "colab": {
          "base_uri": "https://localhost:8080/"
        },
        "id": "6_z6sMVZq-0u",
        "outputId": "e98352fe-562c-475f-9a85-21fb2ba6403d"
      },
      "source": [
        "f_svm.fit(10,f_svm.random_aggregator)"
      ],
      "execution_count": 36,
      "outputs": [
        {
          "output_type": "stream",
          "name": "stdout",
          "text": [
            "global round 1\n",
            "client 1 89.3763596809282\n",
            "client 2 90.97171863669325\n",
            "client 3 95.32269760696157\n",
            "global test acc 96.37418419144308\n",
            "global round 2\n",
            "client 1 95.35895576504714\n",
            "client 2 94.30746918056563\n",
            "client 3 96.44670050761421\n",
            "global test acc 96.66424945612762\n",
            "global round 3\n",
            "client 1 96.2291515591008\n",
            "client 2 94.88759970993473\n",
            "client 3 96.8092820884699\n",
            "global test acc 97.09934735315446\n",
            "global round 4\n",
            "client 1 96.66424945612762\n",
            "client 2 95.72153734590283\n",
            "client 3 96.91805656272662\n",
            "global test acc 97.38941261783901\n",
            "global round 5\n",
            "client 1 97.31689630166788\n",
            "client 2 96.77302393038434\n",
            "client 3 97.1718636693256\n",
            "global test acc 97.42567077592457\n",
            "global round 6\n",
            "client 1 97.20812182741116\n",
            "client 2 96.30166787527193\n",
            "client 3 97.24437998549674\n",
            "global test acc 97.53444525018129\n",
            "global round 7\n",
            "client 1 97.53444525018129\n",
            "client 2 97.09934735315446\n",
            "client 3 97.38941261783901\n",
            "global test acc 97.53444525018129\n",
            "global round 8\n",
            "client 1 97.53444525018129\n",
            "client 2 96.1203770848441\n",
            "client 3 97.20812182741116\n",
            "global test acc 97.53444525018129\n",
            "global round 9\n",
            "client 1 97.13560551124003\n",
            "client 2 95.93908629441624\n",
            "client 3 97.24437998549674\n",
            "global test acc 97.53444525018129\n",
            "global round 10\n",
            "client 1 97.57070340826685\n",
            "client 2 96.95431472081218\n",
            "client 3 97.38941261783901\n",
            "global test acc 97.7519941986947\n"
          ]
        }
      ]
    },
    {
      "cell_type": "code",
      "metadata": {
        "id": "D-hYwuhIuQfZ"
      },
      "source": [
        "f_svm = Federated_SVM(n_clients = 3, val=False, n_iters=150,opt='batch_GD')\n",
        "f_svm.create_clients(clients_X,clients_y,X_test,y_test)"
      ],
      "execution_count": 37,
      "outputs": []
    },
    {
      "cell_type": "code",
      "metadata": {
        "colab": {
          "base_uri": "https://localhost:8080/"
        },
        "id": "FmKp1ymFuQ1T",
        "outputId": "5d7ca79d-fdaa-443a-cfd8-a7e846f13018"
      },
      "source": [
        "f_svm.fit(10,f_svm.average_aggregator)"
      ],
      "execution_count": 39,
      "outputs": [
        {
          "output_type": "stream",
          "name": "stdout",
          "text": [
            "global round 1\n",
            "client 1 89.3763596809282\n",
            "client 2 90.97171863669325\n",
            "client 3 95.32269760696157\n",
            "global test acc 96.62799129804206\n",
            "global round 2\n",
            "client 1 96.66424945612762\n",
            "client 2 95.10514865844814\n",
            "client 3 96.51921682378534\n",
            "global test acc 96.99057287889775\n",
            "global round 3\n",
            "client 1 97.24437998549674\n",
            "client 2 96.19289340101524\n",
            "client 3 96.91805656272662\n",
            "global test acc 97.35315445975344\n",
            "global round 4\n",
            "client 1 97.42567077592457\n",
            "client 2 96.88179840464105\n",
            "client 3 97.28063814358231\n",
            "global test acc 97.53444525018129\n",
            "global round 5\n",
            "client 1 97.57070340826685\n",
            "client 2 97.24437998549674\n",
            "client 3 97.31689630166788\n",
            "global test acc 97.67947788252357\n",
            "global round 6\n",
            "client 1 97.71573604060913\n",
            "client 2 97.60696156635244\n",
            "client 3 97.53444525018129\n",
            "global test acc 97.78825235678028\n",
            "global round 7\n",
            "client 1 97.93328498912255\n",
            "client 2 97.71573604060913\n",
            "client 3 97.71573604060913\n",
            "global test acc 97.86076867295141\n",
            "global round 8\n",
            "client 1 98.00580130529369\n",
            "client 2 97.82451051486585\n",
            "client 3 97.71573604060913\n",
            "global test acc 97.93328498912255\n",
            "global round 9\n",
            "client 1 98.11457577955039\n",
            "client 2 97.96954314720813\n",
            "client 3 97.82451051486585\n",
            "global test acc 98.04205946337926\n",
            "global round 10\n",
            "client 1 98.22335025380711\n",
            "client 2 98.04205946337926\n",
            "client 3 97.86076867295141\n",
            "global test acc 98.15083393763598\n"
          ]
        }
      ]
    },
    {
      "cell_type": "markdown",
      "metadata": {
        "id": "ujC1N29CrvmS"
      },
      "source": [
        "# Digits 3 and 8"
      ]
    },
    {
      "cell_type": "markdown",
      "metadata": {
        "id": "lQLYCuk0rvmT"
      },
      "source": [
        "### Loading the data of 3 and 8"
      ]
    },
    {
      "cell_type": "code",
      "metadata": {
        "id": "8KR9u9htrvmT"
      },
      "source": [
        "data = load_mnist_return_required_digits(3, 8)"
      ],
      "execution_count": 86,
      "outputs": []
    },
    {
      "cell_type": "markdown",
      "metadata": {
        "id": "qUY22RmCrvmU"
      },
      "source": [
        "### Dividing the data of digits 3 and 8 into clusters using the KMeans algorithm\n",
        "The images of 3 and 8 are divided into 3 three clusters each."
      ]
    },
    {
      "cell_type": "code",
      "metadata": {
        "colab": {
          "base_uri": "https://localhost:8080/",
          "height": 179
        },
        "id": "DT9oR2p-rvmU",
        "outputId": "e8948176-8bc4-4c4e-f03c-0a8233ab14ef"
      },
      "source": [
        "x_0_c1, y_0_c1, x_0_c2, y_0_c2, x_0_c3, y_0_c3 = create_kmeans_clusters(data[0][0], data[0][1])\n",
        "fig, axs = plt.subplots(1, 3)\n",
        "axs[0].imshow(x_0_c1[0].reshape(28,28),cmap='gray')\n",
        "axs[0].set_title('Cluster 1')\n",
        "axs[1].imshow(x_0_c2[0].reshape(28,28),cmap='gray')\n",
        "axs[1].set_title('Cluster 2')\n",
        "axs[2].imshow(x_0_c3[0].reshape(28,28),cmap='gray')\n",
        "axs[2].set_title('Cluster 3')"
      ],
      "execution_count": 41,
      "outputs": [
        {
          "output_type": "execute_result",
          "data": {
            "text/plain": [
              "Text(0.5, 1.0, 'Cluster 3')"
            ]
          },
          "metadata": {},
          "execution_count": 41
        },
        {
          "output_type": "display_data",
          "data": {
            "image/png": "[encoded data removed]",
            "text/plain": [
              "<Figure size 432x288 with 3 Axes>"
            ]
          },
          "metadata": {
            "needs_background": "light"
          }
        }
      ]
    },
    {
      "cell_type": "code",
      "metadata": {
        "colab": {
          "base_uri": "https://localhost:8080/",
          "height": 179
        },
        "id": "-1nzWuCMrvmW",
        "outputId": "ab84ebf8-69b3-4817-b86b-4f3fb1803e25"
      },
      "source": [
        "x_6_c1, y_6_c1, x_6_c2, y_6_c2, x_6_c3, y_6_c3 = create_kmeans_clusters(data[1][0], data[1][1])\n",
        "fig, axs = plt.subplots(1, 3)\n",
        "axs[0].imshow(x_6_c1[0].reshape(28,28),cmap='gray')\n",
        "axs[0].set_title('Cluster 1')\n",
        "axs[1].imshow(x_6_c2[0].reshape(28,28),cmap='gray')\n",
        "axs[1].set_title('Cluster 2')\n",
        "axs[2].imshow(x_6_c3[0].reshape(28,28),cmap='gray')\n",
        "axs[2].set_title('Cluster 3')"
      ],
      "execution_count": 42,
      "outputs": [
        {
          "output_type": "execute_result",
          "data": {
            "text/plain": [
              "Text(0.5, 1.0, 'Cluster 3')"
            ]
          },
          "metadata": {},
          "execution_count": 42
        },
        {
          "output_type": "display_data",
          "data": {
            "image/png": "[encoded data removed]",
            "text/plain": [
              "<Figure size 432x288 with 3 Axes>"
            ]
          },
          "metadata": {
            "needs_background": "light"
          }
        }
      ]
    },
    {
      "cell_type": "markdown",
      "metadata": {
        "id": "SBm1X_wQrvmX"
      },
      "source": [
        "### Creation of individual train sets for the clients, global train set for the SVM model and a global test set containing the data from all the clusters\n",
        "\n"
      ]
    },
    {
      "cell_type": "code",
      "metadata": {
        "id": "iWilSUyYGE_J"
      },
      "source": [
        "clients_X,clients_y,X_test,y_test = get_clients(data[0][0], data[1][0], n_clients = 3)"
      ],
      "execution_count": 87,
      "outputs": []
    },
    {
      "cell_type": "code",
      "metadata": {
        "id": "j87QeVg2GWnB"
      },
      "source": [
        "xtrain_gl, ytrain_gl = get_total_from_clients(clients_X,clients_y)"
      ],
      "execution_count": 88,
      "outputs": []
    },
    {
      "cell_type": "markdown",
      "metadata": {
        "id": "lFZmdlZdrvma"
      },
      "source": [
        "### Federated learning model and SVM model training"
      ]
    },
    {
      "cell_type": "markdown",
      "metadata": {
        "id": "stZxTwj7cYz7"
      },
      "source": [
        "#### Training the models without validation & with avg aggregator"
      ]
    },
    {
      "cell_type": "code",
      "metadata": {
        "id": "fkR3sBkGJMrv"
      },
      "source": [
        "f_svm = Federated_SVM(n_clients = 3, val=False, n_iters=150,opt='stochastic_GD')\n",
        "f_svm.create_clients(clients_X,clients_y,X_test,y_test)"
      ],
      "execution_count": 45,
      "outputs": []
    },
    {
      "cell_type": "code",
      "metadata": {
        "id": "rDbc28DtcgYC",
        "colab": {
          "base_uri": "https://localhost:8080/"
        },
        "outputId": "110c4634-f7ea-404a-f436-7d2ac031ff9c"
      },
      "source": [
        "clf = SVM(xtrain_gl, ytrain_gl, X_test, y_test, val=False,n_iters=1000,opt='stochastic_GD')\n",
        "clf.fit()\n",
        "print(clf.accuracy())"
      ],
      "execution_count": 46,
      "outputs": [
        {
          "output_type": "stream",
          "name": "stdout",
          "text": [
            "96.67262969588552\n"
          ]
        }
      ]
    },
    {
      "cell_type": "code",
      "metadata": {
        "id": "t-_qwcG9ciO3",
        "colab": {
          "base_uri": "https://localhost:8080/"
        },
        "outputId": "eb05455a-fe29-4420-d6ee-39e6fa0940e2"
      },
      "source": [
        "f_svm.fit(10,f_svm.average_aggregator)"
      ],
      "execution_count": 47,
      "outputs": [
        {
          "output_type": "stream",
          "name": "stdout",
          "text": [
            "global round 1\n",
            "client 1 79.17710196779964\n",
            "client 2 81.18067978533094\n",
            "client 3 73.20214669051879\n",
            "global test acc 95.59928443649373\n",
            "global round 2\n",
            "client 1 79.35599284436495\n",
            "client 2 80.35778175313058\n",
            "client 3 72.41502683363149\n",
            "global test acc 95.59928443649373\n",
            "global round 3\n",
            "client 1 79.2128801431127\n",
            "client 2 81.18067978533094\n",
            "client 3 72.80858676207514\n",
            "global test acc 95.59928443649373\n",
            "global round 4\n",
            "client 1 78.74776386404292\n",
            "client 2 81.1449016100179\n",
            "client 3 72.73703041144901\n",
            "global test acc 95.59928443649373\n",
            "global round 5\n",
            "client 1 78.6046511627907\n",
            "client 2 80.82289803220036\n",
            "client 3 73.23792486583184\n",
            "global test acc 95.67084078711986\n",
            "global round 6\n",
            "client 1 79.24865831842575\n",
            "client 2 80.46511627906978\n",
            "client 3 72.88014311270126\n",
            "global test acc 95.67084078711986\n",
            "global round 7\n",
            "client 1 79.5706618962433\n",
            "client 2 80.82289803220036\n",
            "client 3 73.16636851520573\n",
            "global test acc 95.74239713774597\n",
            "global round 8\n",
            "client 1 79.5706618962433\n",
            "client 2 81.824686940966\n",
            "client 3 72.77280858676207\n",
            "global test acc 95.74239713774597\n",
            "global round 9\n",
            "client 1 79.39177101967799\n",
            "client 2 81.3953488372093\n",
            "client 3 73.16636851520573\n",
            "global test acc 95.74239713774597\n",
            "global round 10\n",
            "client 1 79.32021466905188\n",
            "client 2 80.64400715563507\n",
            "client 3 73.23792486583184\n",
            "global test acc 95.74239713774597\n"
          ]
        }
      ]
    },
    {
      "cell_type": "code",
      "metadata": {
        "id": "6HgXjB1Fcmg2"
      },
      "source": [
        "f_svm = Federated_SVM(n_clients = 3, val=False, n_iters=150,opt='batch_GD')\n",
        "f_svm.create_clients(clients_X,clients_y,X_test,y_test)"
      ],
      "execution_count": 48,
      "outputs": []
    },
    {
      "cell_type": "code",
      "metadata": {
        "id": "VL_dBqImcooT",
        "colab": {
          "base_uri": "https://localhost:8080/"
        },
        "outputId": "3c8d5551-ebcd-459a-c28b-8e3f4ecd1c97"
      },
      "source": [
        "clf = SVM(xtrain_gl, ytrain_gl, X_test, y_test, val=False,n_iters=1000,opt='batch_GD')\n",
        "clf.fit()\n",
        "print(clf.accuracy())"
      ],
      "execution_count": 49,
      "outputs": [
        {
          "output_type": "stream",
          "name": "stdout",
          "text": [
            "93.52415026833631\n"
          ]
        }
      ]
    },
    {
      "cell_type": "code",
      "metadata": {
        "id": "A2G_gjU6cpoV",
        "colab": {
          "base_uri": "https://localhost:8080/"
        },
        "outputId": "6a4880f2-6e60-412e-9416-e905225e0af3"
      },
      "source": [
        "f_svm.fit(10,f_svm.average_aggregator)"
      ],
      "execution_count": 50,
      "outputs": [
        {
          "output_type": "stream",
          "name": "stdout",
          "text": [
            "global round 1\n",
            "client 1 78.64042933810376\n",
            "client 2 82.32558139534883\n",
            "client 3 76.63685152057245\n",
            "global test acc 89.3381037567084\n",
            "global round 2\n",
            "client 1 90.80500894454383\n",
            "client 2 88.87298747763865\n",
            "client 3 83.61359570661897\n",
            "global test acc 90.80500894454383\n",
            "global round 3\n",
            "client 1 92.4865831842576\n",
            "client 2 91.0912343470483\n",
            "client 3 86.47584973166369\n",
            "global test acc 91.73524150268337\n",
            "global round 4\n",
            "client 1 93.34525939177102\n",
            "client 2 91.91413237924866\n",
            "client 3 88.51520572450805\n",
            "global test acc 92.77280858676208\n",
            "global round 5\n",
            "client 1 93.84615384615384\n",
            "client 2 92.41502683363149\n",
            "client 3 90.16100178890876\n",
            "global test acc 93.30948121645795\n",
            "global round 6\n",
            "client 1 94.13237924865831\n",
            "client 2 92.84436493738819\n",
            "client 3 91.27012522361359\n",
            "global test acc 93.59570661896244\n",
            "global round 7\n",
            "client 1 94.38282647584974\n",
            "client 2 93.34525939177102\n",
            "client 3 92.20035778175313\n",
            "global test acc 93.7030411449016\n",
            "global round 8\n",
            "client 1 94.59749552772809\n",
            "client 2 93.84615384615384\n",
            "client 3 92.84436493738819\n",
            "global test acc 93.91771019677996\n",
            "global round 9\n",
            "client 1 94.77638640429338\n",
            "client 2 94.09660107334525\n",
            "client 3 93.38103756708408\n",
            "global test acc 94.2397137745975\n",
            "global round 10\n",
            "client 1 94.8479427549195\n",
            "client 2 94.2397137745975\n",
            "client 3 93.55992844364937\n",
            "global test acc 94.45438282647585\n"
          ]
        }
      ]
    },
    {
      "cell_type": "code",
      "metadata": {
        "id": "8CjwZIhWcryM"
      },
      "source": [
        "f_svm = Federated_SVM(n_clients = 3, val=False, n_iters=150,opt='mini_batch_GD')\n",
        "f_svm.create_clients(clients_X,clients_y,X_test,y_test)"
      ],
      "execution_count": 51,
      "outputs": []
    },
    {
      "cell_type": "code",
      "metadata": {
        "id": "hWNR0ObQcup_",
        "colab": {
          "base_uri": "https://localhost:8080/"
        },
        "outputId": "9c581c4f-7b71-45d6-d622-e21049787e2d"
      },
      "source": [
        "clf = SVM(xtrain_gl, ytrain_gl, X_test, y_test, val=False,n_iters=1000,opt='mini_batch_GD')\n",
        "clf.fit()\n",
        "print(clf.accuracy())"
      ],
      "execution_count": 54,
      "outputs": [
        {
          "output_type": "stream",
          "name": "stdout",
          "text": [
            "93.38103756708408\n"
          ]
        }
      ]
    },
    {
      "cell_type": "code",
      "metadata": {
        "id": "s1nub4tvcwwI",
        "colab": {
          "base_uri": "https://localhost:8080/"
        },
        "outputId": "0568b03d-9a42-4bdf-8897-4e2dc9e408a0"
      },
      "source": [
        "f_svm.fit(10,f_svm.average_aggregator)"
      ],
      "execution_count": 55,
      "outputs": [
        {
          "output_type": "stream",
          "name": "stdout",
          "text": [
            "global round 1\n",
            "client 1 76.56529516994634\n",
            "client 2 80.39355992844365\n",
            "client 3 73.4525939177102\n",
            "global test acc 95.74239713774597\n",
            "global round 2\n",
            "client 1 77.67441860465117\n",
            "client 2 81.18067978533094\n",
            "client 3 72.6654740608229\n",
            "global test acc 95.74239713774597\n",
            "global round 3\n",
            "client 1 79.10554561717352\n",
            "client 2 79.32021466905188\n",
            "client 3 72.4865831842576\n",
            "global test acc 95.74239713774597\n",
            "global round 4\n",
            "client 1 75.77817531305904\n",
            "client 2 79.39177101967799\n",
            "client 3 73.34525939177102\n",
            "global test acc 95.95706618962433\n",
            "global round 5\n",
            "client 1 76.49373881932021\n",
            "client 2 80.0\n",
            "client 3 73.09481216457961\n",
            "global test acc 95.95706618962433\n",
            "global round 6\n",
            "client 1 77.92486583184257\n",
            "client 2 81.32379248658317\n",
            "client 3 73.48837209302326\n",
            "global test acc 95.95706618962433\n",
            "global round 7\n",
            "client 1 80.28622540250447\n",
            "client 2 78.46153846153847\n",
            "client 3 74.70483005366727\n",
            "global test acc 95.9928443649374\n",
            "global round 8\n",
            "client 1 78.81932021466905\n",
            "client 2 81.10912343470483\n",
            "client 3 73.09481216457961\n",
            "global test acc 95.9928443649374\n",
            "global round 9\n",
            "client 1 80.53667262969589\n",
            "client 2 81.1449016100179\n",
            "client 3 74.20393559928443\n",
            "global test acc 95.9928443649374\n",
            "global round 10\n",
            "client 1 78.31842576028623\n",
            "client 2 81.32379248658317\n",
            "client 3 73.73881932021466\n",
            "global test acc 95.9928443649374\n"
          ]
        }
      ]
    },
    {
      "cell_type": "markdown",
      "metadata": {
        "id": "v_0EbN8Sc6E-"
      },
      "source": [
        "#### Training the models with various validation & with avg aggregator & with batch GD"
      ]
    },
    {
      "cell_type": "code",
      "metadata": {
        "id": "niGk8cvmc4mr"
      },
      "source": [
        "f_svm = Federated_SVM(n_clients = 3, val=False, n_iters=150,opt='batch_GD')\n",
        "f_svm.create_clients(clients_X,clients_y,X_test,y_test)"
      ],
      "execution_count": 56,
      "outputs": []
    },
    {
      "cell_type": "code",
      "metadata": {
        "id": "PDLL5jXXc9sM",
        "colab": {
          "base_uri": "https://localhost:8080/"
        },
        "outputId": "25508a73-721c-450e-d840-472cadd8c1a0"
      },
      "source": [
        "clf = SVM(xtrain_gl, ytrain_gl, X_test, y_test, val=False, n_iters=1000,opt='batch_GD')\n",
        "clf.fit()\n",
        "print(clf.accuracy())"
      ],
      "execution_count": 57,
      "outputs": [
        {
          "output_type": "stream",
          "name": "stdout",
          "text": [
            "93.52415026833631\n"
          ]
        }
      ]
    },
    {
      "cell_type": "code",
      "metadata": {
        "id": "dVw1HGsTdAE6",
        "colab": {
          "base_uri": "https://localhost:8080/"
        },
        "outputId": "c335df6f-87d8-4f9b-89bb-2cd0ccb41ea8"
      },
      "source": [
        "f_svm.fit(10,f_svm.average_aggregator)"
      ],
      "execution_count": 58,
      "outputs": [
        {
          "output_type": "stream",
          "name": "stdout",
          "text": [
            "global round 1\n",
            "client 1 78.64042933810376\n",
            "client 2 82.32558139534883\n",
            "client 3 76.63685152057245\n",
            "global test acc 89.3381037567084\n",
            "global round 2\n",
            "client 1 90.80500894454383\n",
            "client 2 88.87298747763865\n",
            "client 3 83.61359570661897\n",
            "global test acc 90.80500894454383\n",
            "global round 3\n",
            "client 1 92.4865831842576\n",
            "client 2 91.0912343470483\n",
            "client 3 86.47584973166369\n",
            "global test acc 91.73524150268337\n",
            "global round 4\n",
            "client 1 93.34525939177102\n",
            "client 2 91.91413237924866\n",
            "client 3 88.51520572450805\n",
            "global test acc 92.77280858676208\n",
            "global round 5\n",
            "client 1 93.84615384615384\n",
            "client 2 92.41502683363149\n",
            "client 3 90.16100178890876\n",
            "global test acc 93.30948121645795\n",
            "global round 6\n",
            "client 1 94.13237924865831\n",
            "client 2 92.84436493738819\n",
            "client 3 91.27012522361359\n",
            "global test acc 93.59570661896244\n",
            "global round 7\n",
            "client 1 94.38282647584974\n",
            "client 2 93.34525939177102\n",
            "client 3 92.20035778175313\n",
            "global test acc 93.7030411449016\n",
            "global round 8\n",
            "client 1 94.59749552772809\n",
            "client 2 93.84615384615384\n",
            "client 3 92.84436493738819\n",
            "global test acc 93.91771019677996\n",
            "global round 9\n",
            "client 1 94.77638640429338\n",
            "client 2 94.09660107334525\n",
            "client 3 93.38103756708408\n",
            "global test acc 94.2397137745975\n",
            "global round 10\n",
            "client 1 94.8479427549195\n",
            "client 2 94.2397137745975\n",
            "client 3 93.55992844364937\n",
            "global test acc 94.45438282647585\n"
          ]
        }
      ]
    },
    {
      "cell_type": "code",
      "metadata": {
        "id": "pGS4WcFadCfI"
      },
      "source": [
        "f_svm = Federated_SVM(n_clients = 3, val=True, n_iters=150,opt='batch_GD', val_type='cross_val')\n",
        "f_svm.create_clients(clients_X,clients_y,X_test,y_test)"
      ],
      "execution_count": 59,
      "outputs": []
    },
    {
      "cell_type": "code",
      "metadata": {
        "id": "T1MlRfeXdFCE",
        "colab": {
          "base_uri": "https://localhost:8080/"
        },
        "outputId": "2b7ad168-92bf-4397-8d98-9837e290c2a6"
      },
      "source": [
        "clf = SVM(xtrain_gl, ytrain_gl, X_test, y_test, val=True, n_iters=1000,opt='batch_GD', val_type='cross_val')\n",
        "clf.fit()\n",
        "print(clf.accuracy())"
      ],
      "execution_count": 60,
      "outputs": [
        {
          "output_type": "stream",
          "name": "stdout",
          "text": [
            "93.77459749552773\n"
          ]
        }
      ]
    },
    {
      "cell_type": "code",
      "metadata": {
        "id": "7zKlJDnZdHRp",
        "colab": {
          "base_uri": "https://localhost:8080/"
        },
        "outputId": "3dd69707-596a-47a7-d538-7a1eab258a0b"
      },
      "source": [
        "f_svm.fit(10,f_svm.average_aggregator)"
      ],
      "execution_count": 61,
      "outputs": [
        {
          "output_type": "stream",
          "name": "stdout",
          "text": [
            "global round 1\n",
            "client 1 78.2468694096601\n",
            "client 2 82.46869409660107\n",
            "client 3 76.6010733452594\n",
            "global test acc 89.37388193202148\n",
            "global round 2\n",
            "client 1 90.62611806797854\n",
            "client 2 89.12343470483005\n",
            "client 3 83.50626118067979\n",
            "global test acc 90.76923076923077\n",
            "global round 3\n",
            "client 1 92.41502683363149\n",
            "client 2 90.94812164579606\n",
            "client 3 86.47584973166369\n",
            "global test acc 91.80679785330949\n",
            "global round 4\n",
            "client 1 93.20214669051879\n",
            "client 2 91.98568872987478\n",
            "client 3 88.479427549195\n",
            "global test acc 92.80858676207512\n",
            "global round 5\n",
            "client 1 93.81037567084078\n",
            "client 2 92.27191413237925\n",
            "client 3 90.08944543828264\n",
            "global test acc 93.38103756708408\n",
            "global round 6\n",
            "client 1 94.20393559928443\n",
            "client 2 92.91592128801432\n",
            "client 3 91.4490161001789\n",
            "global test acc 93.7030411449016\n",
            "global round 7\n",
            "client 1 94.4901610017889\n",
            "client 2 93.38103756708408\n",
            "client 3 92.37924865831843\n",
            "global test acc 93.77459749552773\n",
            "global round 8\n",
            "client 1 94.59749552772809\n",
            "client 2 93.84615384615384\n",
            "client 3 93.02325581395348\n",
            "global test acc 94.09660107334525\n",
            "global round 9\n",
            "client 1 94.77638640429338\n",
            "client 2 94.2397137745975\n",
            "client 3 93.45259391771019\n",
            "global test acc 94.34704830053667\n",
            "global round 10\n",
            "client 1 94.81216457960645\n",
            "client 2 94.41860465116278\n",
            "client 3 93.7030411449016\n",
            "global test acc 94.56171735241503\n"
          ]
        }
      ]
    },
    {
      "cell_type": "code",
      "metadata": {
        "id": "yWxOON2YdLTt"
      },
      "source": [
        "f_svm = Federated_SVM(n_clients = 3, val=True, n_iters=150, val_type='k_fold',opt='batch_GD', k=5)\n",
        "f_svm.create_clients(clients_X,clients_y,X_test,y_test)"
      ],
      "execution_count": 89,
      "outputs": []
    },
    {
      "cell_type": "code",
      "metadata": {
        "id": "55fBGgNVdQda",
        "colab": {
          "base_uri": "https://localhost:8080/"
        },
        "outputId": "83960ee8-7cff-41fe-de04-e035ef27be8d"
      },
      "source": [
        "clf = SVM(xtrain_gl, ytrain_gl, X_test, y_test, n_iters=1000, val=True,opt='batch_GD', val_type='k_fold', k=5)\n",
        "clf.fit()\n",
        "print(clf.accuracy())"
      ],
      "execution_count": 63,
      "outputs": [
        {
          "output_type": "stream",
          "name": "stdout",
          "text": [
            "93.55992844364937\n",
            "93.52415026833631\n",
            "93.66726296958855\n",
            "93.6314847942755\n",
            "93.6314847942755\n",
            "93.6314847942755\n"
          ]
        }
      ]
    },
    {
      "cell_type": "code",
      "metadata": {
        "id": "4IQuarcSdZme",
        "colab": {
          "base_uri": "https://localhost:8080/"
        },
        "outputId": "24d12d0e-c96a-41fa-e24c-a76007d04ada"
      },
      "source": [
        "f_svm.fit(10,f_svm.average_aggregator)"
      ],
      "execution_count": 90,
      "outputs": [
        {
          "output_type": "stream",
          "name": "stdout",
          "text": [
            "global round 1\n",
            "79.85688729874776\n",
            "80.28622540250447\n",
            "80.14311270125224\n",
            "80.35778175313058\n",
            "80.10733452593918\n",
            "client 1 80.28622540250447\n",
            "83.5778175313059\n",
            "83.29159212880143\n",
            "83.43470483005366\n",
            "83.29159212880143\n",
            "83.3273703041145\n",
            "client 2 83.29159212880143\n",
            "75.95706618962433\n",
            "75.88550983899822\n",
            "76.02862254025044\n",
            "76.06440071556351\n",
            "75.99284436493738\n",
            "client 3 76.06440071556351\n",
            "global test acc 89.48121645796064\n",
            "global round 2\n",
            "90.87656529516994\n",
            "90.76923076923077\n",
            "90.7334525939177\n",
            "90.91234347048301\n",
            "90.69767441860465\n",
            "client 1 90.91234347048301\n",
            "89.19499105545617\n",
            "89.30232558139535\n",
            "89.30232558139535\n",
            "89.23076923076924\n",
            "89.23076923076924\n",
            "client 2 89.30232558139535\n",
            "83.18425760286226\n",
            "83.07692307692308\n",
            "83.14847942754919\n",
            "83.11270125223614\n",
            "83.11270125223614\n",
            "client 3 83.07692307692308\n",
            "global test acc 90.59033989266547\n",
            "global round 3\n",
            "92.45080500894454\n",
            "92.41502683363149\n",
            "92.37924865831843\n",
            "92.41502683363149\n",
            "92.3076923076923\n",
            "client 1 92.37924865831843\n",
            "91.01967799642217\n",
            "90.98389982110913\n",
            "91.12701252236135\n",
            "90.94812164579606\n",
            "91.0912343470483\n",
            "client 2 91.12701252236135\n",
            "86.65474060822898\n",
            "86.65474060822898\n",
            "86.58318425760287\n",
            "86.61896243291592\n",
            "86.7262969588551\n",
            "client 3 86.61896243291592\n",
            "global test acc 91.4490161001789\n",
            "global round 4\n",
            "92.77280858676208\n",
            "92.80858676207512\n",
            "92.77280858676208\n",
            "92.80858676207512\n",
            "92.73703041144901\n",
            "client 1 92.77280858676208\n",
            "91.80679785330949\n",
            "91.8783542039356\n",
            "91.84257602862253\n",
            "91.80679785330949\n",
            "91.84257602862253\n",
            "client 2 91.80679785330949\n",
            "88.40787119856887\n",
            "88.37209302325581\n",
            "88.30053667262969\n",
            "88.33631484794276\n",
            "88.26475849731665\n",
            "client 3 88.37209302325581\n",
            "global test acc 92.09302325581396\n",
            "global round 5\n",
            "93.09481216457961\n",
            "93.16636851520572\n",
            "93.13059033989266\n",
            "93.13059033989266\n",
            "93.09481216457961\n",
            "client 1 93.13059033989266\n",
            "92.34347048300536\n",
            "92.3076923076923\n",
            "92.3076923076923\n",
            "92.45080500894454\n",
            "92.34347048300536\n",
            "client 2 92.3076923076923\n",
            "89.98211091234347\n",
            "90.01788908765653\n",
            "89.98211091234347\n",
            "90.01788908765653\n",
            "89.94633273703042\n",
            "client 3 89.98211091234347\n",
            "global test acc 92.4865831842576\n",
            "global round 6\n",
            "93.34525939177102\n",
            "93.45259391771019\n",
            "93.41681574239715\n",
            "93.48837209302326\n",
            "93.41681574239715\n",
            "client 1 93.48837209302326\n",
            "92.91592128801432\n",
            "92.88014311270125\n",
            "92.91592128801432\n",
            "92.84436493738819\n",
            "92.84436493738819\n",
            "client 2 92.91592128801432\n",
            "90.94812164579606\n",
            "90.8407871198569\n",
            "90.91234347048301\n",
            "90.94812164579606\n",
            "90.87656529516994\n",
            "client 3 90.94812164579606\n",
            "global test acc 92.84436493738819\n",
            "global round 7\n",
            "93.66726296958855\n",
            "93.6314847942755\n",
            "93.6314847942755\n",
            "93.7030411449016\n",
            "93.73881932021467\n",
            "client 1 93.66726296958855\n",
            "93.20214669051879\n",
            "93.16636851520572\n",
            "93.23792486583184\n",
            "93.13059033989266\n",
            "93.13059033989266\n",
            "client 2 93.20214669051879\n",
            "91.59212880143113\n",
            "91.55635062611806\n",
            "91.520572450805\n",
            "91.59212880143113\n",
            "91.59212880143113\n",
            "client 3 91.520572450805\n",
            "global test acc 92.98747763864043\n",
            "global round 8\n",
            "93.88193202146691\n",
            "93.91771019677996\n",
            "94.02504472271914\n",
            "93.98926654740607\n",
            "94.02504472271914\n",
            "client 1 94.02504472271914\n",
            "93.34525939177102\n",
            "93.34525939177102\n",
            "93.34525939177102\n",
            "93.38103756708408\n",
            "93.41681574239715\n",
            "client 2 93.34525939177102\n",
            "92.02146690518784\n",
            "92.09302325581396\n",
            "92.16457960644007\n",
            "91.98568872987478\n",
            "91.94991055456173\n",
            "client 3 92.02146690518784\n",
            "global test acc 93.41681574239715\n",
            "global round 9\n",
            "94.13237924865831\n",
            "94.0608228980322\n",
            "94.0608228980322\n",
            "93.95348837209302\n",
            "93.95348837209302\n",
            "client 1 94.0608228980322\n",
            "93.66726296958855\n",
            "93.6314847942755\n",
            "93.55992844364937\n",
            "93.66726296958855\n",
            "93.6314847942755\n",
            "client 2 93.6314847942755\n",
            "92.37924865831843\n",
            "92.34347048300536\n",
            "92.52236135957065\n",
            "92.45080500894454\n",
            "92.37924865831843\n",
            "client 3 92.37924865831843\n",
            "global test acc 93.59570661896244\n",
            "global round 10\n",
            "93.95348837209302\n",
            "94.02504472271914\n",
            "93.98926654740607\n",
            "93.98926654740607\n",
            "93.98926654740607\n",
            "client 1 93.98926654740607\n",
            "93.77459749552773\n",
            "93.77459749552773\n",
            "93.73881932021467\n",
            "93.81037567084078\n",
            "93.77459749552773\n",
            "client 2 93.81037567084078\n",
            "92.59391771019678\n",
            "92.59391771019678\n",
            "92.55813953488372\n",
            "92.55813953488372\n",
            "92.62969588550985\n",
            "client 3 92.55813953488372\n",
            "global test acc 93.73881932021467\n"
          ]
        }
      ]
    },
    {
      "cell_type": "markdown",
      "metadata": {
        "id": "NSN-WJV2d1IF"
      },
      "source": [
        "#### Training models with various aggregators & without val & with batch gd\n"
      ]
    },
    {
      "cell_type": "code",
      "metadata": {
        "id": "za38awJXdcpd"
      },
      "source": [
        "f_svm = Federated_SVM(n_clients = 3, val=False, n_iters=150,opt='batch_GD')\n",
        "f_svm.create_clients(clients_X,clients_y,X_test,y_test)"
      ],
      "execution_count": 91,
      "outputs": []
    },
    {
      "cell_type": "code",
      "metadata": {
        "id": "Vfu3GFoPd9TX",
        "colab": {
          "base_uri": "https://localhost:8080/"
        },
        "outputId": "d32966b4-89f3-40d8-d3c6-a79926981c9d"
      },
      "source": [
        "clf = SVM(xtrain_gl, ytrain_gl, X_test, y_test, val=False, n_iters=1000,opt='batch_GD')\n",
        "clf.fit()\n",
        "print(clf.accuracy())"
      ],
      "execution_count": 66,
      "outputs": [
        {
          "output_type": "stream",
          "name": "stdout",
          "text": [
            "93.52415026833631\n"
          ]
        }
      ]
    },
    {
      "cell_type": "code",
      "metadata": {
        "id": "dcRXlTmJelzp",
        "colab": {
          "base_uri": "https://localhost:8080/"
        },
        "outputId": "ce8fbaff-4a28-484a-cd0f-8184b36b7ad1"
      },
      "source": [
        "f_svm.fit(10,f_svm.highest_aggregator)"
      ],
      "execution_count": 92,
      "outputs": [
        {
          "output_type": "stream",
          "name": "stdout",
          "text": [
            "global round 1\n",
            "client 1 80.28622540250447\n",
            "client 2 83.36314847942755\n",
            "client 3 75.88550983899822\n",
            "global test acc 83.36314847942755\n",
            "global round 2\n",
            "client 1 89.08765652951699\n",
            "client 2 82.86225402504472\n",
            "client 3 85.79606440071557\n",
            "global test acc 89.08765652951699\n",
            "global round 3\n",
            "client 1 89.37388193202148\n",
            "client 2 87.47763864042933\n",
            "client 3 90.51878354203936\n",
            "global test acc 90.51878354203936\n",
            "global round 4\n",
            "client 1 92.4865831842576\n",
            "client 2 91.59212880143113\n",
            "client 3 88.33631484794276\n",
            "global test acc 92.4865831842576\n",
            "global round 5\n",
            "client 1 92.91592128801432\n",
            "client 2 92.98747763864043\n",
            "client 3 90.62611806797854\n",
            "global test acc 92.98747763864043\n",
            "global round 6\n",
            "client 1 93.77459749552773\n",
            "client 2 92.70125223613596\n",
            "client 3 92.16457960644007\n",
            "global test acc 93.77459749552773\n",
            "global round 7\n",
            "client 1 93.52415026833631\n",
            "client 2 92.70125223613596\n",
            "client 3 93.13059033989266\n",
            "global test acc 93.77459749552773\n",
            "global round 8\n",
            "client 1 93.02325581395348\n",
            "client 2 92.70125223613596\n",
            "client 3 93.6314847942755\n",
            "global test acc 93.77459749552773\n",
            "global round 9\n",
            "client 1 93.59570661896244\n",
            "client 2 93.7030411449016\n",
            "client 3 92.52236135957065\n",
            "global test acc 93.77459749552773\n",
            "global round 10\n",
            "client 1 94.09660107334525\n",
            "client 2 93.88193202146691\n",
            "client 3 93.30948121645795\n",
            "global test acc 94.09660107334525\n"
          ]
        }
      ]
    },
    {
      "cell_type": "code",
      "metadata": {
        "id": "woUh9lAAeoAb"
      },
      "source": [
        "f_svm = Federated_SVM(n_clients = 3, val=False, n_iters=150,opt='batch_GD')\n",
        "f_svm.create_clients(clients_X,clients_y,X_test,y_test)"
      ],
      "execution_count": 68,
      "outputs": []
    },
    {
      "cell_type": "code",
      "metadata": {
        "id": "ekLuoobMesOl",
        "colab": {
          "base_uri": "https://localhost:8080/"
        },
        "outputId": "85d7d16c-2a64-4c7a-9196-8f7eb18cb545"
      },
      "source": [
        "f_svm.fit(10,f_svm.random_aggregator)"
      ],
      "execution_count": 70,
      "outputs": [
        {
          "output_type": "stream",
          "name": "stdout",
          "text": [
            "global round 1\n",
            "client 1 78.64042933810376\n",
            "client 2 82.32558139534883\n",
            "client 3 76.63685152057245\n",
            "global test acc 85.43828264758497\n",
            "global round 2\n",
            "client 1 91.16279069767442\n",
            "client 2 86.83363148479427\n",
            "client 3 81.1449016100179\n",
            "global test acc 85.79606440071557\n",
            "global round 3\n",
            "client 1 91.91413237924866\n",
            "client 2 87.62075134168158\n",
            "client 3 82.1824686940966\n",
            "global test acc 88.87298747763865\n",
            "global round 4\n",
            "client 1 92.66547406082289\n",
            "client 2 89.94633273703042\n",
            "client 3 85.83184257602863\n",
            "global test acc 90.4830053667263\n",
            "global round 5\n",
            "client 1 93.52415026833631\n",
            "client 2 91.520572450805\n",
            "client 3 87.83542039355993\n",
            "global test acc 92.84436493738819\n",
            "global round 6\n",
            "client 1 93.13059033989266\n",
            "client 2 90.76923076923077\n",
            "client 3 87.79964221824686\n",
            "global test acc 92.95169946332737\n",
            "global round 7\n",
            "client 1 91.27012522361359\n",
            "client 2 89.37388193202148\n",
            "client 3 88.08586762075134\n",
            "global test acc 92.95169946332737\n",
            "global round 8\n",
            "client 1 91.37745974955277\n",
            "client 2 91.16279069767442\n",
            "client 3 85.9391771019678\n",
            "global test acc 92.95169946332737\n",
            "global round 9\n",
            "client 1 90.26833631484794\n",
            "client 2 91.55635062611806\n",
            "client 3 84.36493738819321\n",
            "global test acc 93.45259391771019\n",
            "global round 10\n",
            "client 1 90.55456171735241\n",
            "client 2 90.26833631484794\n",
            "client 3 86.5474060822898\n",
            "global test acc 93.45259391771019\n"
          ]
        }
      ]
    },
    {
      "cell_type": "code",
      "metadata": {
        "id": "K2EUE4vCew6C"
      },
      "source": [
        "f_svm = Federated_SVM(n_clients = 3, val=False, n_iters=150,opt='batch_GD')\n",
        "f_svm.create_clients(clients_X,clients_y,X_test,y_test)"
      ],
      "execution_count": 71,
      "outputs": []
    },
    {
      "cell_type": "code",
      "metadata": {
        "id": "3AFNWXVuezhk",
        "colab": {
          "base_uri": "https://localhost:8080/"
        },
        "outputId": "3f2e26c3-f373-4b81-8609-d7e6543079cb"
      },
      "source": [
        "f_svm.fit(10,f_svm.average_aggregator)"
      ],
      "execution_count": 73,
      "outputs": [
        {
          "output_type": "stream",
          "name": "stdout",
          "text": [
            "global round 1\n",
            "client 1 78.64042933810376\n",
            "client 2 82.32558139534883\n",
            "client 3 76.63685152057245\n",
            "global test acc 89.3381037567084\n",
            "global round 2\n",
            "client 1 90.80500894454383\n",
            "client 2 88.87298747763865\n",
            "client 3 83.61359570661897\n",
            "global test acc 90.80500894454383\n",
            "global round 3\n",
            "client 1 92.4865831842576\n",
            "client 2 91.0912343470483\n",
            "client 3 86.47584973166369\n",
            "global test acc 91.73524150268337\n",
            "global round 4\n",
            "client 1 93.34525939177102\n",
            "client 2 91.91413237924866\n",
            "client 3 88.51520572450805\n",
            "global test acc 92.77280858676208\n",
            "global round 5\n",
            "client 1 93.84615384615384\n",
            "client 2 92.41502683363149\n",
            "client 3 90.16100178890876\n",
            "global test acc 93.30948121645795\n",
            "global round 6\n",
            "client 1 94.13237924865831\n",
            "client 2 92.84436493738819\n",
            "client 3 91.27012522361359\n",
            "global test acc 93.59570661896244\n",
            "global round 7\n",
            "client 1 94.38282647584974\n",
            "client 2 93.34525939177102\n",
            "client 3 92.20035778175313\n",
            "global test acc 93.7030411449016\n",
            "global round 8\n",
            "client 1 94.59749552772809\n",
            "client 2 93.84615384615384\n",
            "client 3 92.84436493738819\n",
            "global test acc 93.91771019677996\n",
            "global round 9\n",
            "client 1 94.77638640429338\n",
            "client 2 94.09660107334525\n",
            "client 3 93.38103756708408\n",
            "global test acc 94.2397137745975\n",
            "global round 10\n",
            "client 1 94.8479427549195\n",
            "client 2 94.2397137745975\n",
            "client 3 93.55992844364937\n",
            "global test acc 94.45438282647585\n"
          ]
        }
      ]
    }
  ]
}